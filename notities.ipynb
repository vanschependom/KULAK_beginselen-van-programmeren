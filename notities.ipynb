{
 "cells": [
  {
   "cell_type": "markdown",
   "metadata": {},
   "source": [
    "## Les 1"
   ]
  },
  {
   "cell_type": "markdown",
   "metadata": {},
   "source": [
    "Basisbewerkingen:"
   ]
  },
  {
   "cell_type": "code",
   "execution_count": 1,
   "metadata": {},
   "outputs": [
    {
     "name": "stdout",
     "output_type": "stream",
     "text": [
      "20\n",
      "2\n",
      "2.0\n"
     ]
    }
   ],
   "source": [
    "# Gehele deling\n",
    "print(142 // 7)\n",
    "\n",
    "# Rest bij deling = modulo\n",
    "print(142 % 7)\n",
    "\n",
    "# Gekke bewerkingen\n",
    "getal = 100\n",
    "getal /= 50\n",
    "print(getal)"
   ]
  },
  {
   "cell_type": "markdown",
   "metadata": {},
   "source": [
    "+= <br>\n",
    "-= <br>\n",
    "*= <br>\n",
    "/= <br>\n",
    "%= <br>\n",
    "//= <br>\n",
    "**= <br>"
   ]
  },
  {
   "cell_type": "code",
   "execution_count": 20,
   "metadata": {},
   "outputs": [
    {
     "name": "stdout",
     "output_type": "stream",
     "text": [
      "97\n",
      "h\n",
      "a\n"
     ]
    }
   ],
   "source": [
    "# Van karakter naar numerieke waarde\n",
    "print(ord('a'))\n",
    "\n",
    "# Van numerieke waarde naar karakter\n",
    "print(chr(104))\n",
    "print(chr(ord('a')))"
   ]
  },
  {
   "cell_type": "code",
   "execution_count": 23,
   "metadata": {},
   "outputs": [
    {
     "name": "stdout",
     "output_type": "stream",
     "text": [
      "Dit\n",
      "is\n",
      "een\n",
      "string.\n"
     ]
    }
   ],
   "source": [
    "# Vervang spaties door end-of-line characters\n",
    "tekst = \"Dit is een string.\"\n",
    "print(tekst.replace(\" \", \"\\n\"))"
   ]
  },
  {
   "cell_type": "markdown",
   "metadata": {},
   "source": [
    "String formatting:"
   ]
  },
  {
   "cell_type": "code",
   "execution_count": 25,
   "metadata": {},
   "outputs": [
    {
     "name": "stdout",
     "output_type": "stream",
     "text": [
      "De gebruiker is 17 jaar oud en doet graag wielrennen.\n",
      "De gebruiker is 17 jaar oud en doet graag wielrennen.\n",
      "De gebruiker is 17 jaar oud en doet graag wielrennen.\n"
     ]
    }
   ],
   "source": [
    "leeftijd = 17\n",
    "hobby = \"wielrennen\"\n",
    "\n",
    "# percent methode:\n",
    "print(\"De gebruiker is %d jaar oud en doet graag %s.\" % (leeftijd, hobby))\n",
    "\n",
    "# format methode:\n",
    "print(\"De gebruiker is {0} jaar oud en doet graag {1}.\".format(leeftijd, hobby))\n",
    "\n",
    "# f-string methode:\n",
    "print(f\"De gebruiker is {leeftijd} jaar oud en doet graag {hobby}.\")"
   ]
  },
  {
   "cell_type": "markdown",
   "metadata": {},
   "source": [
    "Wanneer je een string splicet, is de eindwaarde __niet inclusief__."
   ]
  },
  {
   "cell_type": "code",
   "execution_count": 12,
   "metadata": {},
   "outputs": [
    {
     "name": "stdout",
     "output_type": "stream",
     "text": [
      "st\n",
      "t\n",
      "\n",
      "g\n",
      "ing\n"
     ]
    }
   ],
   "source": [
    "string = \"string\"\n",
    "\n",
    "# Eindwaarde is niet inclusief\n",
    "print(string[0:2])\n",
    "print(string[1:2])\n",
    "\n",
    "print(\"\")\n",
    "\n",
    "# Laatste letter printen aan de hand van de lengte van de string\n",
    "print(string[len(string)-1])\n",
    "\n",
    "# Laaste 3 letters printen\n",
    "print(string[len(string)-3:len(string)])"
   ]
  },
  {
   "cell_type": "markdown",
   "metadata": {},
   "source": [
    "## Les 2"
   ]
  },
  {
   "cell_type": "code",
   "execution_count": 20,
   "metadata": {},
   "outputs": [
    {
     "name": "stdout",
     "output_type": "stream",
     "text": [
      "3\n",
      "4\n",
      "5\n"
     ]
    }
   ],
   "source": [
    "# ! Range is niet inclusief voor de eindwaarde.\n",
    "\n",
    "for i in range(3,6):\n",
    "    print(i)"
   ]
  },
  {
   "cell_type": "markdown",
   "metadata": {},
   "source": [
    "Een range is een collectie, naar een string ook. <br>\n",
    "We kunnen dus loopen op een string:"
   ]
  },
  {
   "cell_type": "code",
   "execution_count": 33,
   "metadata": {},
   "outputs": [
    {
     "name": "stdout",
     "output_type": "stream",
     "text": [
      "27\n",
      "27\n"
     ]
    }
   ],
   "source": [
    "zin = \"Dit is een zin, waarvan we het aantal klinkers gaan bepalen voor het eerste punt. De klinkers die je nu leest zullen dus niet worden meegeteld.\"\n",
    "aantalKlinkers = 0\n",
    "\n",
    "for letter in zin:\n",
    "    if letter == \".\":\n",
    "        # Met 'break' exiten we uit de for-loop\n",
    "        break\n",
    "    if letter in \"aeiouy\":\n",
    "        aantalKlinkers+=1\n",
    "\n",
    "print(aantalKlinkers)\n",
    "\n",
    "\n",
    "# Of we kunnen dit herschrijven als:\n",
    "\n",
    "aantalKlinkers = 0\n",
    "positie = 0\n",
    "\n",
    "while positie < len(zin) and zin[positie] != \".\":\n",
    "    if zin[positie] in \"aeiouy\":\n",
    "        aantalKlinkers += 1\n",
    "    positie += 1\n",
    "\n",
    "print(aantalKlinkers)"
   ]
  },
  {
   "cell_type": "markdown",
   "metadata": {},
   "source": [
    "Opmaak van print-statements. Rechts uitlijnen:"
   ]
  },
  {
   "cell_type": "code",
   "execution_count": 38,
   "metadata": {},
   "outputs": [
    {
     "name": "stdout",
     "output_type": "stream",
     "text": [
      "    1         1         1         1\n",
      "    2         4         8        16\n",
      "    3         9        27        81\n",
      "    4        16        64       256\n",
      "    5        25       125       625\n",
      "    6        36       216      1296\n",
      "    7        49       343      2401\n",
      "    8        64       512      4096\n",
      "    9        81       729      6561\n"
     ]
    }
   ],
   "source": [
    "for n in range(1,10):\n",
    "    # Beginspacing vóór het eerste getal\n",
    "    lijn = \"%5d\" % (n)\n",
    "    for m in range(2,5):\n",
    "        # Spacing voor elk nieuw getal op eenzelfde lijn\n",
    "        lijn += \"%10d\" % (n**m)\n",
    "    print(lijn)"
   ]
  },
  {
   "cell_type": "markdown",
   "metadata": {},
   "source": [
    "Links uitlijnen kan met _%-5d_"
   ]
  },
  {
   "cell_type": "code",
   "execution_count": 39,
   "metadata": {},
   "outputs": [
    {
     "name": "stdout",
     "output_type": "stream",
     "text": [
      "1    1         1         1         \n",
      "2    4         8         16        \n",
      "3    9         27        81        \n",
      "4    16        64        256       \n",
      "5    25        125       625       \n",
      "6    36        216       1296      \n",
      "7    49        343       2401      \n",
      "8    64        512       4096      \n",
      "9    81        729       6561      \n"
     ]
    }
   ],
   "source": [
    "for n in range(1,10):\n",
    "    # Beginspacing vóór het eerste getal\n",
    "    lijn = \"%-5d\" % (n)\n",
    "    for m in range(2,5):\n",
    "        # Spacing voor elk nieuw getal op eenzelfde lijn\n",
    "        lijn += \"%-10d\" % (n**m)\n",
    "    print(lijn)"
   ]
  },
  {
   "cell_type": "markdown",
   "metadata": {},
   "source": [
    "Lists"
   ]
  },
  {
   "cell_type": "code",
   "execution_count": 47,
   "metadata": {},
   "outputs": [
    {
     "name": "stdout",
     "output_type": "stream",
     "text": [
      "['item 1', 'item 2']\n",
      "['item 2']\n"
     ]
    }
   ],
   "source": [
    "lijst = []\n",
    "\n",
    "lijst.append(\"item 1\")\n",
    "lijst.append(\"item 2\")\n",
    "\n",
    "print(lijst)\n",
    "\n",
    "lijst.remove(\"item 1\")\n",
    "\n",
    "print(lijst)"
   ]
  },
  {
   "cell_type": "markdown",
   "metadata": {},
   "source": [
    "Nog wat formatting: de formatting met het dubbele punt is niet inclusief qua lengte."
   ]
  },
  {
   "cell_type": "code",
   "execution_count": 34,
   "metadata": {},
   "outputs": [
    {
     "name": "stdout",
     "output_type": "stream",
     "text": [
      "test      test2     \n",
      "test      test2     \n",
      "test      test2     \n",
      "test      test2    \n",
      "      3.14\n"
     ]
    }
   ],
   "source": [
    "var1 = \"test\"\n",
    "var2 = \"test2\"\n",
    "\n",
    "print(f\"{var1:10}{var2:10}\")\n",
    "\n",
    "print(\"{0:10}{1:10}\".format(var1, var2))\n",
    "print(\"{:10}{:10}\".format(var1, var2))\n",
    "\n",
    "print(\"%-9s %-9s\" % (var1, var2))\n",
    "\n",
    "print(\"%10.2f\" % 3.14151324234324)"
   ]
  },
  {
   "cell_type": "code",
   "execution_count": 7,
   "metadata": {},
   "outputs": [
    {
     "name": "stdout",
     "output_type": "stream",
     "text": [
      "  Ma  Di Woe  Do  Vr  Za  Zo\n",
      "\n",
      "  Ma  Di Woe  Do  Vr  Za  Zo\n",
      "\n",
      "  Ma  Di Woe  Do  Vr  Za  Zo\n"
     ]
    }
   ],
   "source": [
    "dagen = ['Ma', 'Di', 'Woe', 'Do', 'Vr', 'Za', 'Zo']\n",
    "\n",
    "# Met end character van print\n",
    "for dag in dagen:\n",
    "    print(\"%4s\" % dag, end=\"\")\n",
    "\n",
    "print(\"\")\n",
    "print(\"\")\n",
    "\n",
    "# Met percent\n",
    "eersteRij = \"\"\n",
    "for dag in dagen:\n",
    "    eersteRij += \"%4s\" % dag\n",
    "print(eersteRij)\n",
    "\n",
    "print(\"\")\n",
    "\n",
    "#! Met f string\n",
    "kalender = \"\"\n",
    "for dag in dagen:\n",
    "    kalender += f'{dag:>4}'\n",
    "print(kalender)"
   ]
  },
  {
   "cell_type": "markdown",
   "metadata": {},
   "source": [
    "__Referentiesemantiek__ bij lijsten: <br>\n",
    "Als we twee lijsten gelijkstellen en we passen iets aan in de ene, zal het ook veranderen in de andere. <br>\n",
    "Dit kunnen we tegengaan door een kopie van de lijst te nemen met 'list'."
   ]
  },
  {
   "cell_type": "code",
   "execution_count": 89,
   "metadata": {},
   "outputs": [
    {
     "name": "stdout",
     "output_type": "stream",
     "text": [
      "['item 1', 'item 2', 'item 3', 'item 4']\n",
      "['item 1', 'item 2', 'item 3', 'item 4']\n",
      "['item 1', 'item 2', 'item 3', 'item 4']\n",
      "\n",
      "['AANPASSING', 'item 2', 'item 3', 'item 4']\n",
      "['AANPASSING', 'item 2', 'item 3', 'item 4']\n",
      "['item 1', 'item 2', 'item 3', 'item 4']\n"
     ]
    }
   ],
   "source": [
    "# BELANGRIJK!\n",
    "lijst = [\"item 1\", \"item 2\", \"item 3\", \"item 4\"]\n",
    "gelinkteLijst = lijst\n",
    "gekopieerdeLijst = list(lijst)\n",
    "\n",
    "print(lijst)\n",
    "print(gelinkteLijst)\n",
    "print(gekopieerdeLijst)\n",
    "\n",
    "print(\"\")\n",
    "lijst[0] = \"AANPASSING\"\n",
    "\n",
    "print(lijst)\n",
    "print(gelinkteLijst)\n",
    "print(gekopieerdeLijst)"
   ]
  },
  {
   "cell_type": "markdown",
   "metadata": {},
   "source": [
    "String zijn <u>__IMMUTABLE__</u>!!\n",
    "Op een string kunnen we __geen replacement van een bepaald karakter__ uitvoeren:"
   ]
  },
  {
   "cell_type": "code",
   "execution_count": null,
   "metadata": {},
   "outputs": [],
   "source": [
    "s = \"Dit is een string\"\n",
    "print(s[3])\n",
    "# Dit geeft 't' terug\n",
    "\n",
    "s[3] = 's'\n",
    "print(s)\n",
    "# Error"
   ]
  },
  {
   "cell_type": "markdown",
   "metadata": {},
   "source": [
    "Logica om aan de user dingen te blijven vragen:"
   ]
  },
  {
   "cell_type": "code",
   "execution_count": null,
   "metadata": {},
   "outputs": [],
   "source": [
    "lijst = []\n",
    "volgende = input(\"Eerste user-input: \")\n",
    "while volgende != \"\":\n",
    "    lijst.append(volgende)\n",
    "    volgende = input(\"Volgende inputs\")"
   ]
  },
  {
   "cell_type": "markdown",
   "metadata": {},
   "source": [
    "Achterwaards indexeren bij lijsten:"
   ]
  },
  {
   "cell_type": "code",
   "execution_count": 95,
   "metadata": {},
   "outputs": [
    {
     "name": "stdout",
     "output_type": "stream",
     "text": [
      "5\n",
      "4\n"
     ]
    }
   ],
   "source": [
    "lijst = [1,2,3,4,5]\n",
    "\n",
    "# Begin helemaal achteraan met index -1\n",
    "print(lijst[-1])\n",
    "# De rest is gewoon telkens 1 minder\n",
    "print(lijst[-2])"
   ]
  },
  {
   "cell_type": "markdown",
   "metadata": {},
   "source": [
    "Bijvoorbeeld om te checken of iets een palindroom is:"
   ]
  },
  {
   "cell_type": "code",
   "execution_count": 99,
   "metadata": {},
   "outputs": [
    {
     "name": "stdout",
     "output_type": "stream",
     "text": [
      "['L', 'E', 'P', 'E', 'L'] True\n",
      "['L', 'I', 'J', 'S', 'T'] False\n"
     ]
    }
   ],
   "source": [
    "palindromaleLijst = [\"L\", \"E\", \"P\", \"E\", \"L\"]\n",
    "nietPalindromaleLijst = [\"L\",\"I\",\"J\",\"S\",\"T\"]\n",
    "\n",
    "def checkPalindroom(lijst):\n",
    "    isPalindroom = True\n",
    "    for r in range(len(lijst)//2):\n",
    "        if lijst[r] != lijst[-(r+1)]:\n",
    "            isPalindroom = False\n",
    "            break\n",
    "    return isPalindroom\n",
    "\n",
    "print(palindromaleLijst, checkPalindroom(palindromaleLijst))\n",
    "print(nietPalindromaleLijst, checkPalindroom(nietPalindromaleLijst))"
   ]
  },
  {
   "cell_type": "markdown",
   "metadata": {},
   "source": [
    "## Les 3"
   ]
  },
  {
   "cell_type": "markdown",
   "metadata": {},
   "source": [
    "Sorteerfunctie voor een lijst:"
   ]
  },
  {
   "cell_type": "code",
   "execution_count": 4,
   "metadata": {},
   "outputs": [
    {
     "name": "stdout",
     "output_type": "stream",
     "text": [
      "[1, 2, 3, 4, 5, 9]\n"
     ]
    }
   ],
   "source": [
    "lijst = [4,9,1,3,5,2]\n",
    "\n",
    "# Overloop elke plaats van de lijst en kijk of er een ander element kleiner is\n",
    "# Als er een ander element kleiner is, verwissel dan het huidige element en het kleinere element\n",
    "\n",
    "#! range moet niet tot het laatste element, aangezien dit element sowieso goed staat\n",
    "# range kan dus lopen tot len(lijst)-1 ipv gewoon len(lijst)\n",
    "\n",
    "for goed in range(len(lijst)-1):\n",
    "\n",
    "    minimum = goed\n",
    "\n",
    "    # Overloop de andere elementen van de lijst\n",
    "    #! We starten dus op index goed+1\n",
    "    for i in range(goed+1,len(lijst)):\n",
    "        if lijst[i] < lijst[minimum]:\n",
    "            minimum = i\n",
    "\n",
    "    if goed != minimum:\n",
    "        tmp = lijst[goed]\n",
    "        lijst[goed] = lijst[minimum]\n",
    "        lijst[minimum] = tmp\n",
    "\n",
    "print(lijst)"
   ]
  },
  {
   "cell_type": "code",
   "execution_count": 8,
   "metadata": {},
   "outputs": [],
   "source": [
    "import math\n",
    "\n",
    "# In een lijst kunnen we eender wat voor object zetten.\n",
    "lijst = ['muis', 42, 3.14, math.pi, [\"een\", \"twee\"]]\n",
    "\n",
    "#! Een kopie maken, want REFERENTIESEMANTIEK\n",
    "kopie = list(lijst)"
   ]
  },
  {
   "cell_type": "code",
   "execution_count": 29,
   "metadata": {},
   "outputs": [
    {
     "name": "stdout",
     "output_type": "stream",
     "text": [
      "Lege lijst:  []\n",
      "Nullen:  [0, 0, 0, 0, 0]\n",
      "Opgeteld:  ['1', '2', '3', '4']\n",
      "Extended:  ['1', '2', '3', '4']\n"
     ]
    }
   ],
   "source": [
    "# Een lege lijst maken\n",
    "legeLijst = list()\n",
    "print(\"Lege lijst: \", legeLijst)\n",
    "\n",
    "# Een lijst met een bepaald aantal keer hetzelfde item\n",
    "nullen = [0]*5\n",
    "print(\"Nullen: \", nullen)\n",
    "\n",
    "a = [\"1\",\"2\"]\n",
    "b = [\"3\", \"4\"]\n",
    "\n",
    "# Lijsten samenvoegen\n",
    "opgeteld = a + b\n",
    "print(\"Opgeteld: \", opgeteld)\n",
    "\n",
    "#! Dit kan ook met extend\n",
    "# a wordt dan ge-extend en b blijft gelijk\n",
    "a.extend(b)\n",
    "print(\"Extended: \", a)"
   ]
  },
  {
   "cell_type": "code",
   "execution_count": 11,
   "metadata": {},
   "outputs": [
    {
     "name": "stdout",
     "output_type": "stream",
     "text": [
      "['muis', 42, 3.14, 3.141592653589793, ['een', 'twee'], 'toegevoegd item', 'toegevoegd item']\n",
      "['muis', 42, 3.14, ['een', 'twee'], 'toegevoegd item', 'toegevoegd item']\n"
     ]
    }
   ],
   "source": [
    "# Toevoegen met append()\n",
    "lijst.append(\"toegevoegd item\")\n",
    "print(lijst)\n",
    "\n",
    "# Verwijderen met remove()\n",
    "lijst.remove(math.pi)\n",
    "print(lijst)"
   ]
  },
  {
   "cell_type": "markdown",
   "metadata": {},
   "source": [
    "Geef aan de method _insert_ mee __vóór__ welke index je wil inserten!"
   ]
  },
  {
   "cell_type": "code",
   "execution_count": 95,
   "metadata": {},
   "outputs": [
    {
     "name": "stdout",
     "output_type": "stream",
     "text": [
      "[0, 1, '-', 2, 3, 4]\n"
     ]
    }
   ],
   "source": [
    "lijst = [0,1,2,3,4]\n",
    "\n",
    "# Items inserten op een bepaalde plaats\n",
    "#! Er zal een item toegevoegd worden vóór de index in het argument\n",
    "lijst.insert(2,\"-\")\n",
    "\n",
    "print(lijst)"
   ]
  },
  {
   "cell_type": "code",
   "execution_count": 96,
   "metadata": {},
   "outputs": [
    {
     "name": "stdout",
     "output_type": "stream",
     "text": [
      "[]\n"
     ]
    }
   ],
   "source": [
    "# Een lijst kunnen we helemaal leegmaken:\n",
    "lijst.clear()\n",
    "print(lijst)"
   ]
  },
  {
   "cell_type": "code",
   "execution_count": 17,
   "metadata": {},
   "outputs": [
    {
     "name": "stdout",
     "output_type": "stream",
     "text": [
      "Pop zonder argument geeft:  [0, 1, 2, 3]\n",
      "Pop het eerste element (index 0):  [1, 2, 3]\n"
     ]
    }
   ],
   "source": [
    "lijst = [0,1,2,3,4]\n",
    "\n",
    "# Indien pop geen argument krijgt, zal hij het laatste element verwijderen\n",
    "lijst.pop()\n",
    "print(\"Pop zonder argument geeft: \", lijst)\n",
    "\n",
    "lijst.pop(0)\n",
    "print(\"Pop het eerste element (index 0): \", lijst)"
   ]
  },
  {
   "cell_type": "code",
   "execution_count": 32,
   "metadata": {},
   "outputs": [
    {
     "name": "stdout",
     "output_type": "stream",
     "text": [
      "len:  5\n",
      "max:  4\n",
      "min:  0\n",
      "sum:  10\n",
      "\n",
      "min string:  abc\n",
      "max string:  cde\n"
     ]
    }
   ],
   "source": [
    "# Een lijst heeft een aantal functies\n",
    "\n",
    "lijst = [0,1,2,3,4]\n",
    "\n",
    "print(\"len: \", len(lijst))\n",
    "print(\"max: \", max(lijst))\n",
    "print(\"min: \", min(lijst))\n",
    "print(\"sum: \", sum(lijst))\n",
    "\n",
    "print(\"\")\n",
    "\n",
    "#! Min en max werken ook met strings, op basis van ASCII waarde\n",
    "lijstMetStrings = [\"abc\", \"bcd\", \"cde\"]\n",
    "print(\"min string: \", min(lijstMetStrings))\n",
    "print(\"max string: \", max(lijstMetStrings))"
   ]
  },
  {
   "cell_type": "markdown",
   "metadata": {},
   "source": [
    "Strings zijn __immutable__.\n",
    "Lists hebben __referentiesemantiek__."
   ]
  },
  {
   "cell_type": "code",
   "execution_count": 24,
   "metadata": {},
   "outputs": [
    {
     "name": "stdout",
     "output_type": "stream",
     "text": [
      "Deze string is immutable\n",
      "Deze string is immutable.\n",
      "[2, 3, 6, 20, 168, 7581, 7828354]\n",
      "[2, 3, 6, 20, 168, 7581, 7828354]\n"
     ]
    }
   ],
   "source": [
    "# Immutable\n",
    "s1 = \"Deze string is immutable\"\n",
    "s2 = s1\n",
    "s2 += \".\"\n",
    "print(s1)\n",
    "print(s2)\n",
    "\n",
    "# Referentiesemantiek, beide lijsten worden aangepast!\n",
    "l1 = [2,3,6,20, 168, 7581]\n",
    "l2 = l1\n",
    "l1 += [7828354]\n",
    "print(l1)\n",
    "print(l2)"
   ]
  },
  {
   "cell_type": "code",
   "execution_count": 35,
   "metadata": {},
   "outputs": [
    {
     "name": "stdout",
     "output_type": "stream",
     "text": [
      "[3, 6, 20]\n",
      "[2, 3, 6, 20]\n",
      "[2, 3, 6, 20]\n",
      "[7581, 7828354]\n",
      "[7581, 7828354]\n",
      "[]\n"
     ]
    }
   ],
   "source": [
    "# Slicen met NIET-INCLUSIEVE eindindex\n",
    "lijst = [2,3,6,20,168,1729,7581,7828354]\n",
    "print(lijst[1:4])\n",
    "print(lijst[0:4])\n",
    "print(lijst[:4])\n",
    "print(lijst[6:len(lijst)])\n",
    "print(lijst[6:])\n",
    "print(lijst[6:-3])"
   ]
  },
  {
   "cell_type": "code",
   "execution_count": 37,
   "metadata": {},
   "outputs": [
    {
     "name": "stdout",
     "output_type": "stream",
     "text": [
      "[2, 3, 6, 20, 168, 1729, 7581, 7828354]\n",
      "[2, 3, 6, 14, 20, 168, 1729, 7581, 7828354]\n",
      "Index van het gal 168: 5\n"
     ]
    }
   ],
   "source": [
    "lijst = [2,3,6,20,168,1729,7581,7828354]\n",
    "\n",
    "print(lijst)\n",
    "# We voegen het getal 14 toe vóór index 3 (20)\n",
    "lijst.insert(3,14)\n",
    "print(lijst)\n",
    "\n",
    "#! We halen de index van een waarde in de lijst op\n",
    "plaatsVan168 = lijst.index(168)\n",
    "print(\"Index van het gal 168:\", plaatsVan168)"
   ]
  },
  {
   "cell_type": "code",
   "execution_count": 39,
   "metadata": {},
   "outputs": [
    {
     "name": "stdout",
     "output_type": "stream",
     "text": [
      "Twee verschillende plaatsen in het geheugen:  False\n",
      "Zelfde plaats in geheugen en zelfde referentie:  True\n"
     ]
    }
   ],
   "source": [
    "# Twee verschillende plaatsen in het geheugen\n",
    "l1 = [2,3,6,20,168,1729,7581,7828354]\n",
    "l2 = [2,3,6,20,168,1729,7581,7828354]\n",
    "\n",
    "#! Checken of twee lijsten effectief gelijk zijn met IS\n",
    "gelijk = l1 is l2\n",
    "print(\"Twee verschillende plaatsen in het geheugen: \",gelijk)\n",
    "\n",
    "\n",
    "# Zelfde plaats in geheugen en zelfde referentie\n",
    "l1 = [2,3,6,20,168,1729,7581,7828354]\n",
    "l2 = l1\n",
    "\n",
    "gelijk = l1 is l2\n",
    "print(\"Zelfde plaats in geheugen en zelfde referentie: \",gelijk)"
   ]
  },
  {
   "cell_type": "code",
   "execution_count": 43,
   "metadata": {},
   "outputs": [
    {
     "name": "stdout",
     "output_type": "stream",
     "text": [
      "sorted():  [0, 1, 2, 3, 5, 6, 9]\n",
      "De lijst blijft onveranderd:   [6, 3, 9, 2, 5, 1, 0]\n",
      "De aangepaste lijst:  [0, 1, 2, 3, 5, 6, 9]\n"
     ]
    }
   ],
   "source": [
    "lijst = [6,3,9,2,5,1,0]\n",
    "\n",
    "# De functie sorted returnt de gesorteerde lijst, string, tupel, set, ...\n",
    "print(\"sorted(): \", sorted(lijst))\n",
    "print(\"De lijst blijft onveranderd:  \", lijst)\n",
    "\n",
    "# De method sorteert de effectieve lijst en past hem ook aan\n",
    "lijst.sort()\n",
    "print(\"De aangepaste lijst: \", lijst)"
   ]
  },
  {
   "cell_type": "markdown",
   "metadata": {},
   "source": [
    "Sorted() werkt voor __eender welk object!__"
   ]
  },
  {
   "cell_type": "markdown",
   "metadata": {},
   "source": [
    "Speciale prints:"
   ]
  },
  {
   "cell_type": "code",
   "execution_count": 49,
   "metadata": {},
   "outputs": [
    {
     "name": "stdout",
     "output_type": "stream",
     "text": [
      "1\t0\t0\t0\t\n",
      "0\t1\t0\t0\t\n",
      "0\t0\t1\t0\t\n",
      "0\t0\t0\t1\t\n"
     ]
    }
   ],
   "source": [
    "matrix = []\n",
    "matrix.append([1,0,0,0])\n",
    "matrix.append([0,1,0,0])\n",
    "matrix.append([0,0,1,0])\n",
    "matrix.append([0,0,0,1])\n",
    "\n",
    "\n",
    "for line in matrix:\n",
    "    for element in line:\n",
    "        #! We willen geen nieuwe lijn karakter\n",
    "        #! We voegen een TAB toe\n",
    "        print(element, end='\\t')\n",
    "    # Dit is de standaard, namelijk een nieuwe lijn karakter \\n    \n",
    "    print(\"\", end=\"\\n\")"
   ]
  },
  {
   "cell_type": "markdown",
   "metadata": {},
   "source": [
    "__TUPELS__ = 'immutable lists'"
   ]
  },
  {
   "cell_type": "code",
   "execution_count": 46,
   "metadata": {},
   "outputs": [
    {
     "name": "stdout",
     "output_type": "stream",
     "text": [
      "('immutable', 'list')\n",
      "('zonder', 'haakjes', 'werkt', 'ook', 69)\n"
     ]
    }
   ],
   "source": [
    "tupel = (\"immutable\", \"list\")\n",
    "tupelZonderHaakjes = \"zonder\", \"haakjes\", \"werkt\", \"ook\", 69\n",
    "\n",
    "print(tupel)\n",
    "print(tupelZonderHaakjes)\n"
   ]
  },
  {
   "cell_type": "markdown",
   "metadata": {},
   "source": [
    "Een tupel is immutable, maar de inhoud niet. We kunnen dus een nieuwe tupel aanmaken obv twee objecten die niet immutable zijn en die objecten vervolgens aanpassen."
   ]
  },
  {
   "cell_type": "code",
   "execution_count": 59,
   "metadata": {},
   "outputs": [
    {
     "name": "stdout",
     "output_type": "stream",
     "text": [
      "(['Lists'], 'Immutable string. ')\n",
      "(['Lists', 'zijn niet immutable'], 'Immutable string. ')\n",
      "Immutable string. Deze aanpassing wordt niet getoond in de tupel.\n"
     ]
    }
   ],
   "source": [
    "a = [\"Lists\"]\n",
    "b = \"Immutable string. \"\n",
    "\n",
    "tupel = (a,b)\n",
    "print(tupel)\n",
    "\n",
    "#! a is een list. Lists zijn niet immutable, dus we kunnen a aanpassen.\n",
    "a += [\"zijn niet immutable\"]\n",
    "#! b is een string en is dus immutable. We kunnen de string niet aanpassen.\n",
    "b += \"Deze aanpassing wordt niet getoond in de tupel.\"\n",
    "print(tupel)\n",
    "\n",
    "print(b)\n"
   ]
  },
  {
   "cell_type": "markdown",
   "metadata": {},
   "source": [
    "Verzamelingen = __SETS__ <br>\n",
    "De items hebben geen specifieke volgorde."
   ]
  },
  {
   "cell_type": "markdown",
   "metadata": {},
   "source": [
    "Bij sets kunnen we __geen items opvragen aan de hand van een index__ want er is geen specifieke volgorde. `set[1]` ofzo werkt dus niet."
   ]
  },
  {
   "cell_type": "code",
   "execution_count": 81,
   "metadata": {},
   "outputs": [
    {
     "name": "stdout",
     "output_type": "stream",
     "text": [
      "{'Piet', 'Korneel', 'Joris', 'Jan'}\n",
      "{'Joris', 'Jan', 'Carolien', 'Piet', 'Korneel'}\n",
      "{'Joris', 'Jan', 'Carolien', 'Korneel'}\n",
      "{'Joris', 'Jan', 'Carolien', 'Korneel'}\n"
     ]
    }
   ],
   "source": [
    "studenten = {\"Jan\",\"Piet\",\"Joris\",\"Korneel\"}\n",
    "print(studenten)\n",
    "\n",
    "#! Add in plaats van append\n",
    "studenten.add(\"Carolien\")\n",
    "print(studenten)\n",
    "\n",
    "# Remove is hetzelfde als bij lists\n",
    "studenten.remove(\"Piet\")\n",
    "print(studenten)\n",
    "\n",
    "#! Elementen in sets zijn uniek dus we kunnen 'Korneel' geen tweede keer toevoegen\n",
    "studenten.add(\"Korneel\")\n",
    "print(studenten)"
   ]
  },
  {
   "cell_type": "code",
   "execution_count": 103,
   "metadata": {},
   "outputs": [
    {
     "name": "stdout",
     "output_type": "stream",
     "text": [
      "unie: \t\t {'A', 'B', 'C', 'E', 'D'}\n",
      "doorsnede: \t {'B'}\n",
      "verschil1: \t {'C', 'A', 'D'}\n",
      "verschil2: \t {'E'}\n"
     ]
    }
   ],
   "source": [
    "A = {\"A\",\"B\",\"C\",\"D\"}\n",
    "B = {\"B\",\"E\"}\n",
    "\n",
    "unie = A | B\n",
    "unie = A.union(B)\n",
    "print(\"unie: \\t\\t\", unie)\n",
    "\n",
    "doorsnede = A & B\n",
    "doorsnede = A.intersection(B)\n",
    "print(\"doorsnede: \\t\", doorsnede)\n",
    "\n",
    "verschil1 = A - B\n",
    "verschil1 = A.difference(B)\n",
    "print(\"verschil1: \\t\", verschil1)\n",
    "\n",
    "verschil2 = B - A\n",
    "verschil2 = B.difference(A)\n",
    "print(\"verschil2: \\t\", verschil2)"
   ]
  },
  {
   "cell_type": "code",
   "execution_count": 94,
   "metadata": {},
   "outputs": [
    {
     "name": "stdout",
     "output_type": "stream",
     "text": [
      "{'E'}\n",
      "set()\n",
      "\n",
      "set()\n",
      "set()\n",
      "\n",
      "{'C', 'A', 'D'}\n",
      "{'A', 'D'}\n",
      "\n",
      "set()\n"
     ]
    }
   ],
   "source": [
    "verschil1 = A - B\n",
    "verschil2 = B - A\n",
    "\n",
    "# We kunnen ook een item removen van een set\n",
    "print(verschil2)\n",
    "verschil2.remove(\"E\")\n",
    "print(verschil2)\n",
    "\n",
    "print(\"\")\n",
    "\n",
    "#! Als we discarden maakt het niet uit dat het element niet effectief in de set zit\n",
    "print(verschil2)\n",
    "verschil2.discard(\"E\")\n",
    "print(verschil2)\n",
    "\n",
    "print(\"\")\n",
    "\n",
    "# We discarden een element dat wel bestaat\n",
    "print(verschil1)\n",
    "verschil1.discard(\"C\")\n",
    "print(verschil1)\n",
    "\n",
    "print(\"\")\n",
    "\n",
    "#! Of we kunnen heel de set leegmaken\n",
    "verschil1.clear()\n",
    "print(verschil1)"
   ]
  },
  {
   "cell_type": "markdown",
   "metadata": {},
   "source": [
    "__DICTIONARIES__ -> verzamelingen associaties <br>\n",
    "Keys zijn uniek <br>\n",
    "Values moeten niet uniek zijn"
   ]
  },
  {
   "cell_type": "code",
   "execution_count": 114,
   "metadata": {},
   "outputs": [
    {
     "name": "stdout",
     "output_type": "stream",
     "text": [
      "{'jens': '7657', 'jarne': '7657', 'michiel': '2402'}\n",
      "{'jens': '7657', 'jarne': '7657', 'michiel': '1010'}\n",
      "\n",
      "Keys: \t dict_keys(['jens', 'jarne', 'michiel'])\n",
      "Values:\t dict_values(['7657', '7657', '1010'])\n",
      "Items: \t dict_items([('jens', '7657'), ('jarne', '7657'), ('michiel', '1010')])\n"
     ]
    }
   ],
   "source": [
    "telefoonboek = {} # een lege dictionary\n",
    "telefoonboek[\"jens\"] = \"7657\"\n",
    "telefoonboek[\"jarne\"] = \"7657\"\n",
    "telefoonboek[\"michiel\"] = \"2402\"\n",
    "\n",
    "print(telefoonboek)\n",
    "telefoonboek[\"michiel\"] = \"1010\"\n",
    "print(telefoonboek)\n",
    "\n",
    "print(\"\")\n",
    "\n",
    "print(\"Keys: \\t\", telefoonboek.keys())\n",
    "print(\"Values:\\t\", telefoonboek.values())\n",
    "print(\"Items: \\t\", telefoonboek.items())"
   ]
  },
  {
   "cell_type": "code",
   "execution_count": 110,
   "metadata": {},
   "outputs": [
    {
     "name": "stdout",
     "output_type": "stream",
     "text": [
      "{}\n",
      "{'jens': 400, 'jarne': 7657, 'michiel': 2402}\n",
      "7657\n",
      "7657\n",
      "7657\n",
      "400\n",
      "{'jarne': 7657, 'michiel': 2402}\n"
     ]
    }
   ],
   "source": [
    "telefoonboek = {\"jens\":400, \"jarne\":7657, \"michiel\":2402}\n",
    "legeD = dict()\n",
    "print(legeD)\n",
    "kopie = dict(telefoonboek)\n",
    "print(kopie)\n",
    "\n",
    "# dictionary[key] en dictionary.get(key) returnen allebei de value van de key\n",
    "print(kopie['jarne'])\n",
    "print(kopie.get(\"jarne\"))\n",
    "\n",
    "#! We halen het vorige item op aan een bepaalde key\n",
    "print(kopie.get(\"jarne\",-1))\n",
    "\n",
    "# We verwijderen een key-value-paar\n",
    "print(kopie.pop('jens'))\n",
    "print(kopie)\n",
    "\n",
    "#! We kunnen niet zomaar poppen zonder argument !\n",
    "# kopie.pop()"
   ]
  },
  {
   "cell_type": "markdown",
   "metadata": {},
   "source": [
    "Sorted() werkt dus zoals eerder vermeld ook op dictionaries."
   ]
  },
  {
   "cell_type": "code",
   "execution_count": 2,
   "metadata": {},
   "outputs": [
    {
     "name": "stdout",
     "output_type": "stream",
     "text": [
      "['jarne', 'jens', 'michiel']\n",
      "[('jarne', 7657), ('jens', 400), ('michiel', 2402)]\n"
     ]
    }
   ],
   "source": [
    "telefoonboek = {\"jens\":400, \"jarne\":7657, \"michiel\":2402}\n",
    "\n",
    "#! sorted(dictionary) returnt de gesorteerde KEYS !\n",
    "print(sorted(telefoonboek))\n",
    "\n",
    "#! sorted(dictionary).items returnt de gesorteerde ITEMS !\n",
    "print(sorted(telefoonboek.items()))"
   ]
  },
  {
   "cell_type": "code",
   "execution_count": 5,
   "metadata": {},
   "outputs": [
    {
     "name": "stdout",
     "output_type": "stream",
     "text": [
      "key: jens, value: 400\n",
      "key: jarne, value: 7657\n",
      "key: michiel, value: 2402\n",
      "\n",
      "key: jens, value: 400\n",
      "key: jarne, value: 7657\n",
      "key: michiel, value: 2402\n",
      "key: jens\n",
      "key: jarne\n",
      "key: michiel\n"
     ]
    }
   ],
   "source": [
    "# Itereren over dictionaries\n",
    "#! Gebruik telefoonboek.items()\n",
    "for (key, value) in telefoonboek.items():\n",
    "\n",
    "    print(\"key:\", key, end=\", \")\n",
    "    print(\"value:\", value)\n",
    "\n",
    "print(\"\")\n",
    "\n",
    "# Dit komt op hetzelfde neer:\n",
    "for tupel in telefoonboek.items():\n",
    "\n",
    "    print(\"key:\", tupel[0], end=\", \")\n",
    "    print(\"value:\", tupel[1])\n",
    "\n",
    "# Itereren over de keys kan gewoon zo:\n",
    "for key in telefoonboek:\n",
    "    print(\"key:\", key)"
   ]
  },
  {
   "cell_type": "code",
   "execution_count": 8,
   "metadata": {},
   "outputs": [
    {
     "name": "stdout",
     "output_type": "stream",
     "text": [
      "{'D': 1, 'i': 2, 't': 3, ' ': 3, 's': 2, 'e': 3, 'n': 1}\n",
      "[' ', 'D', 'e', 'i', 'n', 's', 't']\n",
      "D 1\n",
      "e 3\n",
      "i 2\n",
      "n 1\n",
      "s 2\n",
      "t 3\n"
     ]
    }
   ],
   "source": [
    "#Frequentietabel\n",
    "\n",
    "tekst = input(\"Enter text: \")\n",
    "telling = {}\n",
    "\n",
    "for c in tekst:\n",
    "    # De letter komt nog niet voor, we zetten de telling van de letter op 1\n",
    "    if c not in telling:\n",
    "        telling[c] = 1\n",
    "    # De letter zit wel al in de telling en we verhogen de telling van de letter met 1\n",
    "    else:\n",
    "        telling[c] += 1\n",
    "\n",
    "print(telling)\n",
    "print(sorted(telling))\n",
    "\n",
    "# We printen alle letters en hun telling die letters zijn (geen symbolen en cijfers)\n",
    "for c in sorted(telling):\n",
    "    if 'a' <= c.lower() <= 'z':\n",
    "        print(c,telling[c])"
   ]
  },
  {
   "cell_type": "markdown",
   "metadata": {},
   "source": [
    "We kunnen .get() een default waarde meegeven voor het geval de key niet bestaat."
   ]
  },
  {
   "cell_type": "code",
   "execution_count": 3,
   "metadata": {},
   "outputs": [
    {
     "name": "stdout",
     "output_type": "stream",
     "text": [
      "None 0\n"
     ]
    }
   ],
   "source": [
    "legeDict = {}\n",
    "print(legeDict.get(\"Niet bestaande key\"),0)"
   ]
  },
  {
   "cell_type": "markdown",
   "metadata": {},
   "source": [
    "De methode `.keys()` en `.values()` geven een keyset en valueset terug en geen gewone lijst of set. We kunnen deze in een for-lus gebruiken zonder problemen, maar de gewone lijst/set operaties werken niet. Om dat op te lossen gebruiken we altijd `set(dict.keys())` en `list(dict.values())`. "
   ]
  },
  {
   "cell_type": "markdown",
   "metadata": {},
   "source": [
    "## Les 4"
   ]
  },
  {
   "cell_type": "code",
   "execution_count": 1,
   "metadata": {},
   "outputs": [
    {
     "name": "stdout",
     "output_type": "stream",
     "text": [
      "==========================================\n",
      "Lorem ipsum dolor sit amet, consectetur adipiscing\n",
      " elit. Maecenas gravida nisi sed mattis vulputate.\n",
      " Etiam non pulvinar tortor. Fusce bibendum\n",
      " condimentum lectus. Integer tempus ante eget\n",
      " mauris volutpat iaculis. Maecenas nec massa\n",
      " varius, convallis purus pharetra, efficitur\n",
      " purus. Phasellus et lobortis enim. Fusce quam\n",
      " nisl, sodales non est aliquam, tempus vehicula\n",
      " odio. Vestibulum eget ipsum nibh.\n",
      "==========================================\n"
     ]
    }
   ],
   "source": [
    "def schikTekst(t):\n",
    "    res = \"=\"*42 + '\\n'\n",
    "    geschikt = 0\n",
    "    lijnpositie = 0\n",
    "    while geschikt < len(t):\n",
    "        if lijnpositie >= 42 and t[geschikt] == ' ':\n",
    "            res += \"\\n\"\n",
    "            lijnpositie = 0\n",
    "        res += t[geschikt]\n",
    "        geschikt += 1\n",
    "        lijnpositie += 1\n",
    "    return res + '\\n'+ \"=\"*42\n",
    "\n",
    "print(schikTekst(input(\"Geef een tekst in: \")))\n",
    "\n",
    "# Lorem ipsum dolor sit amet, consectetur adipiscing elit. Maecenas gravida nisi sed mattis vulputate. Etiam non pulvinar tortor. Fusce bibendum condimentum lectus. Integer tempus ante eget mauris volutpat iaculis. Maecenas nec massa varius, convallis purus pharetra, efficitur purus. Phasellus et lobortis enim. Fusce quam nisl, sodales non est aliquam, tempus vehicula odio. Vestibulum eget ipsum nibh."
   ]
  },
  {
   "cell_type": "markdown",
   "metadata": {},
   "source": [
    "Default waarden meegeven voor de parameters van een functie. <br>\n",
    "Dit kan __enkel met constanten, dus geen variabelen!__"
   ]
  },
  {
   "cell_type": "code",
   "execution_count": 12,
   "metadata": {},
   "outputs": [
    {
     "name": "stdout",
     "output_type": "stream",
     "text": [
      "TestDefault\n"
     ]
    }
   ],
   "source": [
    "def testFunctie(parameter1, parameter2 = \"Default\"):\n",
    "    return parameter1 + parameter2\n",
    "\n",
    "print(testFunctie(\"Test\"))"
   ]
  },
  {
   "cell_type": "markdown",
   "metadata": {},
   "source": [
    "Documenteren van functies:"
   ]
  },
  {
   "cell_type": "markdown",
   "metadata": {},
   "source": [
    "De  `%128` of modulo 128 zorgt ervoor dat je terug in het begin van de tabel komt. <br>\n",
    "Neem nu bv dat we `125+5=130` hebben. Door de modulo 128 te pakken, komen we terug in het begin van de ASCII tabel terecht bij 2."
   ]
  },
  {
   "cell_type": "code",
   "execution_count": 36,
   "metadata": {},
   "outputs": [
    {
     "name": "stdout",
     "output_type": "stream",
     "text": [
      "Fmf&%_|fwy%nx%ij%pqjzw3\n",
      "Aha! Zwart is de kleur.\n",
      "Aha! Zwart is de kleur.\n",
      "\n",
      "Help on function decodeerBIS in module __main__:\n",
      "\n",
      "decodeerBIS(tekst, k)\n",
      "    Gebruik de sleutel k om de tekst te decoderen.\n",
      "    Elk teken wordt vervangen door het teken waarvan\n",
      "    de ordinaat k lager is (modulo 128).\n",
      "    \n",
      "    Parameters\n",
      "    ----------\n",
      "    tekst : str\n",
      "        de te decoderen tekst\n",
      "    k : int\n",
      "        de sleutel\n",
      "    \n",
      "    Returns\n",
      "    -------\n",
      "    str\n",
      "        de gedecodeerde tekst\n",
      "\n"
     ]
    }
   ],
   "source": [
    "def codeer(tekst,k):\n",
    "    '''\n",
    "        Gebruik de sleutel k om de tekst te coderen.\n",
    "        Elk teken wordt vervangen door het teken waarvan\n",
    "        de ordinaat k hoger is (modulo 128).\n",
    "\n",
    "        Parameters\n",
    "        ----------\n",
    "        tekst : str\n",
    "            de te coderen tekst\n",
    "        k : int\n",
    "            de sleutelwaarde\n",
    "\n",
    "        Returns\n",
    "        -------\n",
    "        str\n",
    "            de gecodeerde string\n",
    "        '''\n",
    "    result = \"\"\n",
    "    for teken in tekst:\n",
    "        result += chr((ord(teken) + k) % 128)\n",
    "    return result\n",
    "\n",
    "print(codeer(\"Aha! Zwart is de kleur.\",5))\n",
    "\n",
    "def decodeer(tekst,k):\n",
    "    '''\n",
    "    Gebruik de sleutel k om de tekst te decoderen.\n",
    "    Elk teken wordt vervangen door het teken waarvan\n",
    "    de ordinaat k lager is (modulo 128).\n",
    "\n",
    "    Parameters\n",
    "    ----------\n",
    "    tekst : str\n",
    "        de te decoderen tekst\n",
    "    k : int\n",
    "        de sleutel\n",
    "\n",
    "    Returns\n",
    "    -------\n",
    "    str\n",
    "        de gedecodeerde tekst\n",
    "    '''\n",
    "    result = \"\"\n",
    "    for teken in tekst:\n",
    "        result += chr((ord(teken) - k) % 128)\n",
    "    return result\n",
    "\n",
    "print(decodeer(\"Fmf&%_|fwy%nx%ij%pqjzw3\",5))\n",
    "\n",
    "def decodeerBIS(tekst,k):\n",
    "    '''\n",
    "    Gebruik de sleutel k om de tekst te decoderen.\n",
    "    Elk teken wordt vervangen door het teken waarvan\n",
    "    de ordinaat k lager is (modulo 128).\n",
    "\n",
    "    Parameters\n",
    "    ----------\n",
    "    tekst : str\n",
    "        de te decoderen tekst\n",
    "    k : int\n",
    "        de sleutel\n",
    "\n",
    "    Returns\n",
    "    -------\n",
    "    str\n",
    "        de gedecodeerde tekst\n",
    "    '''\n",
    "    return codeer(tekst,-k)\n",
    "\n",
    "print(decodeerBIS(\"Fmf&%_|fwy%nx%ij%pqjzw3\",5))\n",
    "\n",
    "print()\n",
    "help(decodeerBIS)"
   ]
  },
  {
   "cell_type": "markdown",
   "metadata": {},
   "source": [
    "Of een andere manier om te documenteren:"
   ]
  },
  {
   "cell_type": "code",
   "execution_count": 27,
   "metadata": {},
   "outputs": [
    {
     "name": "stdout",
     "output_type": "stream",
     "text": [
      "Help on function codeer in module __main__:\n",
      "\n",
      "codeer(tekst, k)\n",
      "    ##\n",
      "    # Gebruik de sleutel k om de tekst de coderen.\n",
      "    # Elk teken wordt vervangen door het taken waarvan\n",
      "    # de ordinaat k hoger is.\n",
      "    #\n",
      "    # @param tekst (str): de te coderen tekst\n",
      "    # @param k (int): de sleutel\n",
      "    # @return: de gecodeerde string\n",
      "\n",
      "None\n"
     ]
    }
   ],
   "source": [
    "##\n",
    "# Gebruik de sleutel k om de tekst de coderen.\n",
    "# Elk teken wordt vervangen door het taken waarvan\n",
    "# de ordinaat k hoger is.\n",
    "#\n",
    "# @param tekst (str): de te coderen tekst\n",
    "# @param k (int): de sleutel\n",
    "# @return: de gecodeerde string\n",
    "#\n",
    "def codeer(tekst, k):\n",
    "    result = \"\"\n",
    "    for teken in tekst:\n",
    "        result += chr(ord(teken)+k)\n",
    "    return result\n",
    "\n",
    "print(help(codeer))"
   ]
  },
  {
   "cell_type": "markdown",
   "metadata": {},
   "source": [
    "Grootste gemene deler:"
   ]
  },
  {
   "cell_type": "code",
   "execution_count": 32,
   "metadata": {},
   "outputs": [
    {
     "name": "stdout",
     "output_type": "stream",
     "text": [
      "[1, 2, 3, 5, 6, 7, 10, 14, 15, 21, 30, 35, 42, 70, 105, 210]\n",
      "[1, 2, 3, 6, 7, 13, 14, 21, 26, 39, 42, 78, 91, 182, 273, 546]\n",
      "42\n",
      "42\n",
      "42\n",
      "42\n"
     ]
    }
   ],
   "source": [
    "def delers(n):\n",
    "    # 1 is sowieso een deler\n",
    "    result = [1]\n",
    "    # range is niet inclusief voor de eindwaarde\n",
    "    for d in range(2,n+1):\n",
    "        if n % d == 0:\n",
    "            result.append(d)\n",
    "    return result\n",
    "\n",
    "def ggdSuperNaief(a,b):\n",
    "\n",
    "    dA = delers(a)\n",
    "    dB = delers(b)\n",
    "    grootste = 1\n",
    "    for ene in dA:\n",
    "        for andere in dB:\n",
    "            if ene == andere:\n",
    "                if ene > grootste:\n",
    "                    grootste = ene\n",
    "    return grootste\n",
    "\n",
    "def ggdSets(a,b):\n",
    "    dA = set(delers(a))\n",
    "    dB = set(delers(b))\n",
    "    return max(dA.intersection(dB))\n",
    "\n",
    "def ggd(a,b):\n",
    "    while a != b:\n",
    "        if a < b:\n",
    "            b -= a\n",
    "        else:\n",
    "            a -= b\n",
    "    return a\n",
    "\n",
    "#! Greatest common divisor Euclides\n",
    "def ggdStappend(a,b):\n",
    "    if a > b:\n",
    "        h = a\n",
    "        a = b\n",
    "        b = h\n",
    "    while b % a != 0:\n",
    "        r = b % a\n",
    "        b = a\n",
    "        a = r\n",
    "    return a\n",
    "\n",
    "print(delers(210))\n",
    "print(delers(546))\n",
    "print(ggdSuperNaief(210,546))\n",
    "\n",
    "print(ggdSets(210,546))\n",
    "\n",
    "print(ggd(210,546))\n",
    "\n",
    "print(ggdStappend(210,546))"
   ]
  },
  {
   "cell_type": "markdown",
   "metadata": {},
   "source": [
    "____\n",
    "!! __PARAMETERS AANPASSEN BINNEN EEN FUNCTIE:__ !! <br><br>\n",
    "Het is bad practice om parameters van het type `list` aan te passen in de functie. <br><br>\n",
    "Alles wat iets of wat complex is, wordt niet zomaar opgeslagen in het geheugen, maar bevat een referentie naar andere plaatsen in het geheugen. Ze gebruiken dus referentiesemantiek: (bv lijsten) <br><br>\n",
    "Als je als parameters voor `x` en `y` twee getallen `a` en `b` meegeeft (of booleans), dan wordt de waarde van `a` en `b` gekopieerd naar de geheugenplaatsen voor `x` en `y`. We kunnen in onze functie dus gewoon de waarden van de parameters aanpassen. <br><br>\n",
    "Dit is anders bij lijsten. Python zal voor parameters van het type `list` de __referentie__ naar de lijst kopiëren en we mogen de parameter dus niet aanpassen in onze functie. <br><br>\n",
    "______"
   ]
  },
  {
   "cell_type": "markdown",
   "metadata": {},
   "source": [
    "Functies moeten altijd opgeroepen worden na hun definitie. <br>\n",
    "Als de functie echter aangeroepen wordt in de hoofdfunctie `main()`, die gedefiniëerd staat vóór de definitie van de functie, gaat het ook werken:"
   ]
  },
  {
   "cell_type": "code",
   "execution_count": 28,
   "metadata": {},
   "outputs": [
    {
     "name": "stdout",
     "output_type": "stream",
     "text": [
      "      Test\n"
     ]
    }
   ],
   "source": [
    "def main():\n",
    "    print(\"%10s\" % functie())\n",
    "\n",
    "def functie():\n",
    "    return \"Test\"\n",
    "\n",
    "main()"
   ]
  },
  {
   "cell_type": "markdown",
   "metadata": {},
   "source": [
    "Een functie kan maar 1 waarde teruggeven. Als je dus `return a,b` typt, zal dit overeenkomen met `return (a,b)`, ofwel het returnen van de tupel (a,b)."
   ]
  },
  {
   "cell_type": "markdown",
   "metadata": {},
   "source": [
    "We kunnen code importeren:"
   ]
  },
  {
   "cell_type": "code",
   "execution_count": null,
   "metadata": {},
   "outputs": [],
   "source": [
    "#Maak een nieuw een bestand in een variabele\n",
    "#Aangezien we in het bestand zullen schrijven, geven we dit aan met een \"w\" (\"write\")\n",
    "nieuw_bestand = open(\"bestand.txt\",\"w\")\n",
    "\n",
    "#schrijf een lijn met erachter een enter\n",
    "nieuw_bestand.write(\"Dit is de enige zin!\\n\")\n",
    "\n",
    "#sluit het bestand\n",
    "nieuw_bestand.close()\n",
    "\n",
    "#Open hetzelfde bestand met \"w\" en probeer een zin toe te voegen\n",
    "bestand = open(\"bestand.txt\",\"w\")\n",
    "\n",
    "#schrijf een lijn met erachter een enter\n",
    "bestand.write(\"Fout, dit is de enige zin.\\n\")\n",
    "\n",
    "#sluit het bestand\n",
    "bestand.close()\n",
    "\n",
    "#Open een bestaand bestand in in een variabele\n",
    "#Aangezien we enkel het bestand zullen lezen, geven we dit aan met een \"r\" (\"read\")\n",
    "bestaand_bestand = open(\"bestand.txt\",\"r\")\n",
    "\n",
    "#Itereer over elke lijn in het het bestand\n",
    "for lijn in bestaand_bestand.readlines():\n",
    "    print(lijn)\n",
    "    #Itereer over elk woord in elke lijn in het het bestand\n",
    "    for woord in lijn.split():\n",
    "        print(woord)\n",
    "    \n",
    "\n",
    "#sluit het bestand na het lezen\n",
    "bestaand_bestand.close()\n",
    "\n",
    "#Open een bestaand bestand in een variabele\n",
    "#Aangezien we aan dit bestand zullen toevoegen, geven we dit aan met een \"a\" (\"append\")\n",
    "bestaand_bestand = open(\"bestand.txt\",\"a\")\n",
    "\n",
    "#schrijf een lijn op het einde van het bestand met erachter een enter\n",
    "bestaand_bestand.write(\"Dit is de laatse zin.\\n\")\n",
    "\n",
    "#sluit het bestand\n",
    "bestaand_bestand.close()\n",
    "\n",
    "bestaand_bestand = open(\"bestand.txt\",\"r\")\n",
    "\n",
    "for lijn in bestaand_bestand.readlines():\n",
    "    print(lijn)\n",
    "\n",
    "bestaand_bestand.close()"
   ]
  }
 ],
 "metadata": {
  "kernelspec": {
   "display_name": "base",
   "language": "python",
   "name": "python3"
  },
  "language_info": {
   "codemirror_mode": {
    "name": "ipython",
    "version": 3
   },
   "file_extension": ".py",
   "mimetype": "text/x-python",
   "name": "python",
   "nbconvert_exporter": "python",
   "pygments_lexer": "ipython3",
   "version": "3.11.4"
  }
 },
 "nbformat": 4,
 "nbformat_minor": 2
}
