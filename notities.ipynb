{
 "cells": [
  {
   "cell_type": "markdown",
   "metadata": {},
   "source": [
    "### Les 1"
   ]
  },
  {
   "cell_type": "markdown",
   "metadata": {},
   "source": [
    "Basisbewerkingen:"
   ]
  },
  {
   "cell_type": "code",
   "execution_count": 1,
   "metadata": {},
   "outputs": [
    {
     "name": "stdout",
     "output_type": "stream",
     "text": [
      "20\n",
      "2\n",
      "2.0\n"
     ]
    }
   ],
   "source": [
    "# Gehele deling\n",
    "print(142 // 7)\n",
    "\n",
    "# Rest bij deling = modulo\n",
    "print(142 % 7)\n",
    "\n",
    "# Gekke bewerkingen\n",
    "getal = 100\n",
    "getal /= 50\n",
    "print(getal)"
   ]
  },
  {
   "cell_type": "code",
   "execution_count": 20,
   "metadata": {},
   "outputs": [
    {
     "name": "stdout",
     "output_type": "stream",
     "text": [
      "97\n",
      "h\n",
      "a\n"
     ]
    }
   ],
   "source": [
    "# Van karakter naar numerieke waarde\n",
    "print(ord('a'))\n",
    "\n",
    "# Van numerieke waarde naar karakter\n",
    "print(chr(104))\n",
    "print(chr(ord('a')))"
   ]
  },
  {
   "cell_type": "code",
   "execution_count": 23,
   "metadata": {},
   "outputs": [
    {
     "name": "stdout",
     "output_type": "stream",
     "text": [
      "Dit\n",
      "is\n",
      "een\n",
      "string.\n"
     ]
    }
   ],
   "source": [
    "# Vervang spaties door end-of-line characters\n",
    "tekst = \"Dit is een string.\"\n",
    "print(tekst.replace(\" \", \"\\n\"))"
   ]
  },
  {
   "cell_type": "markdown",
   "metadata": {},
   "source": [
    "String formatting:"
   ]
  },
  {
   "cell_type": "code",
   "execution_count": 25,
   "metadata": {},
   "outputs": [
    {
     "name": "stdout",
     "output_type": "stream",
     "text": [
      "De gebruiker is 17 jaar oud en doet graag wielrennen.\n",
      "De gebruiker is 17 jaar oud en doet graag wielrennen.\n",
      "De gebruiker is 17 jaar oud en doet graag wielrennen.\n"
     ]
    }
   ],
   "source": [
    "leeftijd = 17\n",
    "hobby = \"wielrennen\"\n",
    "\n",
    "# percent methode:\n",
    "print(\"De gebruiker is %d jaar oud en doet graag %s.\" % (leeftijd, hobby))\n",
    "\n",
    "# format methode:\n",
    "print(\"De gebruiker is {0} jaar oud en doet graag {1}.\".format(leeftijd, hobby))\n",
    "\n",
    "# f-string methode:\n",
    "print(f\"De gebruiker is {leeftijd} jaar oud en doet graag {hobby}.\")"
   ]
  },
  {
   "cell_type": "markdown",
   "metadata": {},
   "source": [
    "Wanneer je een string splicet, is de eindwaarde __niet inclusief__."
   ]
  },
  {
   "cell_type": "code",
   "execution_count": 12,
   "metadata": {},
   "outputs": [
    {
     "name": "stdout",
     "output_type": "stream",
     "text": [
      "st\n",
      "t\n",
      "\n",
      "g\n",
      "ing\n"
     ]
    }
   ],
   "source": [
    "string = \"string\"\n",
    "\n",
    "# Eindwaarde is niet inclusief\n",
    "print(string[0:2])\n",
    "print(string[1:2])\n",
    "\n",
    "print(\"\")\n",
    "\n",
    "# Laatste letter printen aan de hand van de lengte van de string\n",
    "print(string[len(string)-1])\n",
    "\n",
    "# Laaste 3 letters printen\n",
    "print(string[len(string)-3:len(string)])"
   ]
  },
  {
   "cell_type": "markdown",
   "metadata": {},
   "source": [
    "# Les 2"
   ]
  },
  {
   "cell_type": "markdown",
   "metadata": {},
   "source": [
    "Range is __niet inclusief__ voor de eindwaarde."
   ]
  },
  {
   "cell_type": "code",
   "execution_count": 26,
   "metadata": {},
   "outputs": [
    {
     "name": "stdout",
     "output_type": "stream",
     "text": [
      "3\n",
      "4\n",
      "5\n"
     ]
    }
   ],
   "source": [
    "for i in range(3,6):\n",
    "    print(i)"
   ]
  },
  {
   "cell_type": "markdown",
   "metadata": {},
   "source": [
    "Een range is een collectie, naar een string ook. <br>\n",
    "We kunnen dus loopen op een string:"
   ]
  },
  {
   "cell_type": "code",
   "execution_count": 33,
   "metadata": {},
   "outputs": [
    {
     "name": "stdout",
     "output_type": "stream",
     "text": [
      "27\n",
      "27\n"
     ]
    }
   ],
   "source": [
    "zin = \"Dit is een zin, waarvan we het aantal klinkers gaan bepalen voor het eerste punt. De klinkers die je nu leest zullen dus niet worden meegeteld.\"\n",
    "aantalKlinkers = 0\n",
    "\n",
    "for letter in zin:\n",
    "    if letter == \".\":\n",
    "        # Met 'break' exiten we uit de for-loop\n",
    "        break\n",
    "    if letter in \"aeiouy\":\n",
    "        aantalKlinkers+=1\n",
    "\n",
    "print(aantalKlinkers)\n",
    "\n",
    "\n",
    "# Of we kunnen dit herschrijven als:\n",
    "\n",
    "aantalKlinkers = 0\n",
    "positie = 0\n",
    "\n",
    "while positie < len(zin) and zin[positie] != \".\":\n",
    "    if zin[positie] in \"aeiouy\":\n",
    "        aantalKlinkers += 1\n",
    "    positie += 1\n",
    "\n",
    "print(aantalKlinkers)"
   ]
  },
  {
   "cell_type": "markdown",
   "metadata": {},
   "source": [
    "Opmaak van print-statements. Rechts uitlijnen:"
   ]
  },
  {
   "cell_type": "code",
   "execution_count": 38,
   "metadata": {},
   "outputs": [
    {
     "name": "stdout",
     "output_type": "stream",
     "text": [
      "    1         1         1         1\n",
      "    2         4         8        16\n",
      "    3         9        27        81\n",
      "    4        16        64       256\n",
      "    5        25       125       625\n",
      "    6        36       216      1296\n",
      "    7        49       343      2401\n",
      "    8        64       512      4096\n",
      "    9        81       729      6561\n"
     ]
    }
   ],
   "source": [
    "for n in range(1,10):\n",
    "    # Beginspacing vóór het eerste getal\n",
    "    lijn = \"%5d\" % (n)\n",
    "    for m in range(2,5):\n",
    "        # Spacing voor elk nieuw getal op eenzelfde lijn\n",
    "        lijn += \"%10d\" % (n**m)\n",
    "    print(lijn)"
   ]
  },
  {
   "cell_type": "markdown",
   "metadata": {},
   "source": [
    "Links uitlijnen kan met _%-5d_"
   ]
  },
  {
   "cell_type": "code",
   "execution_count": 39,
   "metadata": {},
   "outputs": [
    {
     "name": "stdout",
     "output_type": "stream",
     "text": [
      "1    1         1         1         \n",
      "2    4         8         16        \n",
      "3    9         27        81        \n",
      "4    16        64        256       \n",
      "5    25        125       625       \n",
      "6    36        216       1296      \n",
      "7    49        343       2401      \n",
      "8    64        512       4096      \n",
      "9    81        729       6561      \n"
     ]
    }
   ],
   "source": [
    "for n in range(1,10):\n",
    "    # Beginspacing vóór het eerste getal\n",
    "    lijn = \"%-5d\" % (n)\n",
    "    for m in range(2,5):\n",
    "        # Spacing voor elk nieuw getal op eenzelfde lijn\n",
    "        lijn += \"%-10d\" % (n**m)\n",
    "    print(lijn)"
   ]
  },
  {
   "cell_type": "markdown",
   "metadata": {},
   "source": [
    "Lists"
   ]
  },
  {
   "cell_type": "code",
   "execution_count": 47,
   "metadata": {},
   "outputs": [
    {
     "name": "stdout",
     "output_type": "stream",
     "text": [
      "['item 1', 'item 2']\n",
      "['item 2']\n"
     ]
    }
   ],
   "source": [
    "lijst = []\n",
    "\n",
    "lijst.append(\"item 1\")\n",
    "lijst.append(\"item 2\")\n",
    "\n",
    "print(lijst)\n",
    "\n",
    "lijst.remove(\"item 1\")\n",
    "\n",
    "print(lijst)"
   ]
  },
  {
   "cell_type": "markdown",
   "metadata": {},
   "source": [
    "Nog wat formatting: de formatting met het dubbele punt is niet inclusief qua lengte."
   ]
  },
  {
   "cell_type": "code",
   "execution_count": 82,
   "metadata": {},
   "outputs": [
    {
     "name": "stdout",
     "output_type": "stream",
     "text": [
      "test      test2     \n",
      "test      test2     \n",
      "test      test2     \n",
      "test      test2    \n"
     ]
    }
   ],
   "source": [
    "var1 = \"test\"\n",
    "var2 = \"test2\"\n",
    "\n",
    "print(f\"{var1:10}{var2:10}\")\n",
    "\n",
    "print(\"{0:10}{1:10}\".format(var1, var2))\n",
    "print(\"{:10}{:10}\".format(var1, var2))\n",
    "\n",
    "print(\"%-9s %-9s\" % (var1, var2))"
   ]
  },
  {
   "cell_type": "markdown",
   "metadata": {},
   "source": [
    "__Referentiesemantiek__ bij lijsten: <br>\n",
    "Als we twee lijsten gelijkstellen en we passen iets aan in de ene, zal het ook veranderen in de andere. <br>\n",
    "Dit kunnen we tegengaan door een kopie van de lijst te nemen met 'list'."
   ]
  },
  {
   "cell_type": "code",
   "execution_count": 89,
   "metadata": {},
   "outputs": [
    {
     "name": "stdout",
     "output_type": "stream",
     "text": [
      "['item 1', 'item 2', 'item 3', 'item 4']\n",
      "['item 1', 'item 2', 'item 3', 'item 4']\n",
      "['item 1', 'item 2', 'item 3', 'item 4']\n",
      "\n",
      "['AANPASSING', 'item 2', 'item 3', 'item 4']\n",
      "['AANPASSING', 'item 2', 'item 3', 'item 4']\n",
      "['item 1', 'item 2', 'item 3', 'item 4']\n"
     ]
    }
   ],
   "source": [
    "# BELANGRIJK!\n",
    "lijst = [\"item 1\", \"item 2\", \"item 3\", \"item 4\"]\n",
    "gelinkteLijst = lijst\n",
    "gekopieerdeLijst = list(lijst)\n",
    "\n",
    "print(lijst)\n",
    "print(gelinkteLijst)\n",
    "print(gekopieerdeLijst)\n",
    "\n",
    "print(\"\")\n",
    "lijst[0] = \"AANPASSING\"\n",
    "\n",
    "print(lijst)\n",
    "print(gelinkteLijst)\n",
    "print(gekopieerdeLijst)"
   ]
  },
  {
   "cell_type": "markdown",
   "metadata": {},
   "source": [
    "String zijn <u>__IMMUTABLE__</u>!!\n",
    "Op een string kunnen we __geen replacement van een bepaald karakter__ uitvoeren:"
   ]
  },
  {
   "cell_type": "code",
   "execution_count": null,
   "metadata": {},
   "outputs": [],
   "source": [
    "s = \"Dit is een string\"\n",
    "print(s[3])\n",
    "# Dit geeft 't' terug\n",
    "\n",
    "s[3] = 's'\n",
    "print(s)\n",
    "# Error"
   ]
  },
  {
   "cell_type": "markdown",
   "metadata": {},
   "source": [
    "Logica om aan de user dingen te blijven vragen:"
   ]
  },
  {
   "cell_type": "code",
   "execution_count": null,
   "metadata": {},
   "outputs": [],
   "source": [
    "lijst = []\n",
    "volgende = input(\"Eerste user-input: \")\n",
    "while volgende != \"\":\n",
    "    lijst.append(volgende)\n",
    "    volgende = input(\"Volgende inputs\")"
   ]
  },
  {
   "cell_type": "markdown",
   "metadata": {},
   "source": [
    "Achterwaards indexeren bij lijsten:"
   ]
  },
  {
   "cell_type": "code",
   "execution_count": 95,
   "metadata": {},
   "outputs": [
    {
     "name": "stdout",
     "output_type": "stream",
     "text": [
      "5\n",
      "4\n"
     ]
    }
   ],
   "source": [
    "lijst = [1,2,3,4,5]\n",
    "\n",
    "# Begin helemaal achteraan met index -1\n",
    "print(lijst[-1])\n",
    "# De rest is gewoon telkens 1 minder\n",
    "print(lijst[-2])"
   ]
  },
  {
   "cell_type": "markdown",
   "metadata": {},
   "source": [
    "Bijvoorbeeld om te checken of iets een palindroom is:"
   ]
  },
  {
   "cell_type": "code",
   "execution_count": 99,
   "metadata": {},
   "outputs": [
    {
     "name": "stdout",
     "output_type": "stream",
     "text": [
      "['L', 'E', 'P', 'E', 'L'] True\n",
      "['L', 'I', 'J', 'S', 'T'] False\n"
     ]
    }
   ],
   "source": [
    "palindromaleLijst = [\"L\", \"E\", \"P\", \"E\", \"L\"]\n",
    "nietPalindromaleLijst = [\"L\",\"I\",\"J\",\"S\",\"T\"]\n",
    "\n",
    "def checkPalindroom(lijst):\n",
    "    isPalindroom = True\n",
    "    for r in range(len(lijst)//2):\n",
    "        if lijst[r] != lijst[-(r+1)]:\n",
    "            isPalindroom = False\n",
    "            break\n",
    "    return isPalindroom\n",
    "\n",
    "print(palindromaleLijst, checkPalindroom(palindromaleLijst))\n",
    "print(nietPalindromaleLijst, checkPalindroom(nietPalindromaleLijst))"
   ]
  },
  {
   "cell_type": "code",
   "execution_count": null,
   "metadata": {},
   "outputs": [],
   "source": []
  }
 ],
 "metadata": {
  "kernelspec": {
   "display_name": "base",
   "language": "python",
   "name": "python3"
  },
  "language_info": {
   "codemirror_mode": {
    "name": "ipython",
    "version": 3
   },
   "file_extension": ".py",
   "mimetype": "text/x-python",
   "name": "python",
   "nbconvert_exporter": "python",
   "pygments_lexer": "ipython3",
   "version": "3.11.4"
  }
 },
 "nbformat": 4,
 "nbformat_minor": 2
}
