{
 "cells": [
  {
   "cell_type": "markdown",
   "metadata": {},
   "source": [
    "# 1. Gestructureerd programmeren en recursie"
   ]
  },
  {
   "cell_type": "markdown",
   "metadata": {},
   "source": [
    "## 1.1 De Ferry"
   ]
  },
  {
   "cell_type": "markdown",
   "metadata": {},
   "source": [
    "Wagens schuiven achter mekaar aan voor een ferry. Op de ferry zijn een aantal parallelle rijen\n",
    "waarop de wagens achter mekaar kunnen parkeren. Als een wagen de ferry oprijdt wordt beslist\n",
    "welke rij gekozen wordt. Afhankelijk van deze keuzes en van de lengte van de verschillende wagens\n",
    "zal het aantal wagens dat meegaat verschillen. Bijvoorbeeld: stel dat op de ferry twee rijen van 7\n",
    "meter zijn. Eerst komen twee wagens van drie meter en daarna enkel wagens van twee meter. Als\n",
    "de eerste twee wagens achter mekaar parkeren nemen ze zes meter in; er kunnen nog drie wagens\n",
    "van twee meter op de andere rij parkeren. Als de eerste twee wagens naast mekaar parkeren kunnen\n",
    "er op elk van de twee rijen nog twee wagens bij."
   ]
  },
  {
   "cell_type": "markdown",
   "metadata": {},
   "source": [
    "Gevraagd is:\n",
    "- een beschrijving van een ferry in Python.\n",
    "- een functie die, voor een gegeven ferry en een gegeven rij aanschuivende wagens, door exhaustief alle mogelijkheden te onderzoeken, per wagen de te kiezen rij op de ferry bepaalt zodanig dat het aantal meegenomen wagens zo groot mogelijk is.\n",
    "- een functie die een rij wagens genereert waarbij de lengte van elke wagen willekeurig gekozen\n",
    "wordt tussen 2 en 7 meter.\n",
    "- een main() functie die de twee eerste functies oproept en in mooie kolommen, de beste\n",
    "beslissing voor elke wagen die mee kan afdrukt."
   ]
  },
  {
   "cell_type": "markdown",
   "metadata": {},
   "source": [
    "Ferry: lijst van lijsten met telkens de resterende lengte en de lengte van de auto's op die rij\n",
    "\n",
    "[ <br>\n",
    "    [`int`],\n",
    "    <br>...\n",
    "    <br>\n",
    "]"
   ]
  },
  {
   "cell_type": "code",
   "execution_count": 110,
   "metadata": {},
   "outputs": [],
   "source": [
    "import random\n",
    "import copy\n",
    "\n",
    "def genereerRijWagens(lengte, minLengte=2, maxLengte=7):\n",
    "\n",
    "    rij = list()\n",
    "\n",
    "    for i in range(lengte):\n",
    "\n",
    "        # hoeft geen float te zijn\n",
    "        # lengte = random.randint(minLengte, maxLengte)\n",
    "\n",
    "        lengte = random.uniform(minLengte, maxLengte)\n",
    "        rij.append((i, lengte))\n",
    "\n",
    "    return rij\n",
    "\n",
    "\n",
    "wachtrij = genereerRijWagens(6)\n",
    "\n",
    "ferry = [\n",
    "    [9,[]],\n",
    "    [5,[]],\n",
    "    [12,[]],\n",
    "    [6, []]\n",
    "]\n",
    "\n",
    "def mogelijkeRijen(ferry, auto):\n",
    "\n",
    "    rijen = list()\n",
    "\n",
    "    for rij in range(len(ferry)):\n",
    "\n",
    "        if ferry[rij][0] >= auto[1]:\n",
    "\n",
    "            rijen.append(rij)\n",
    "\n",
    "    return rijen\n",
    "\n",
    "def genereerMogelijkeFerries(ferry, wachtrij):\n",
    "\n",
    "    if len(wachtrij) == 0:\n",
    "\n",
    "        return [ferry]\n",
    "    \n",
    "    auto = wachtrij[0]\n",
    "    mogelijkeFerries = list()\n",
    "\n",
    "    passendeRijen = mogelijkeRijen(ferry, auto)\n",
    "\n",
    "    if len(passendeRijen) == 0:\n",
    "\n",
    "        return [ferry]\n",
    "\n",
    "    for rij in passendeRijen:\n",
    "\n",
    "        aangevuldeFerry = copy.deepcopy(ferry)\n",
    "        aangevuldeFerry[rij].append(auto)\n",
    "        aangevuldeFerry[rij][0] -= auto[1]\n",
    "        mogelijkeFerries.extend(genereerMogelijkeFerries(aangevuldeFerry, wachtrij[1:]))\n",
    "\n",
    "    return mogelijkeFerries\n",
    "\n",
    "def vindBesteOplossing(ferries):\n",
    "\n",
    "    maxMeegenomen = 0\n",
    "    besteFerry = []\n",
    "\n",
    "    for ferry in ferries:\n",
    "\n",
    "        aantalMeegenomenWagens = 0\n",
    "\n",
    "        for rij in ferry:\n",
    "\n",
    "            aantalMeegenomenWagens += len(rij) - 1\n",
    "\n",
    "        if aantalMeegenomenWagens > maxMeegenomen:\n",
    "\n",
    "            besteFerry = ferry\n",
    "            maxMeegenomen = aantalMeegenomenWagens\n",
    "\n",
    "    return besteFerry\n",
    "\n",
    "def printBesteOplossing(besteOplossing):\n",
    "    \n",
    "    return None\n",
    "\n"
   ]
  },
  {
   "cell_type": "code",
   "execution_count": 111,
   "metadata": {},
   "outputs": [
    {
     "name": "stdout",
     "output_type": "stream",
     "text": [
      "[[1.1943110375211563, (0, 2.8056889624788437)], [1.0970786844989209, (1, 3.245395993548497), (2, 3.657525321952582)], [0.26860387524055795, (3, 4.731396124759442)]]\n"
     ]
    }
   ],
   "source": [
    "def main():\n",
    "\n",
    "    wachtrij = genereerRijWagens(8)\n",
    "\n",
    "    ferry = [\n",
    "        [4], \n",
    "        [8],\n",
    "        [5]\n",
    "    ]\n",
    "\n",
    "    mogelijkeOplossingen = genereerMogelijkeFerries(ferry, wachtrij)\n",
    "\n",
    "    # for mogelijkeOplossing in mogelijkeOplossingen:\n",
    "\n",
    "        # print(mogelijkeOplossing)\n",
    "\n",
    "    besteOplossing = vindBesteOplossing(mogelijkeOplossingen)\n",
    "\n",
    "    print(besteOplossing)\n",
    "\n",
    "main()"
   ]
  },
  {
   "cell_type": "markdown",
   "metadata": {},
   "source": [
    "## 1.2 Kassa's"
   ]
  },
  {
   "cell_type": "markdown",
   "metadata": {},
   "source": [
    "De klanten in de supermarkt rekenen na het winkelen af aan een aantal kassa's. De tijd voor de\n",
    "bediening aan de kassa is evenredig met het aantal aankopen dat ze hebben gedaan en verschilt\n",
    "van kassa tot kassa. Voor de supermarkt is het belangrijk dat alles zo vlot mogelijk verloopt en dat\n",
    "zowel de gemiddelde wachttijd als de wachttijd van de langst wachtende klant zo klein mogelijk\n",
    "is. Daarom heeft de manager een simulatieprogramma besteld dat een aantal strategieen moet\n",
    "uitproberen."
   ]
  },
  {
   "cell_type": "markdown",
   "metadata": {},
   "source": [
    "1. De klanten kiezen willekeurig in welke rij ze gaan staan.\n",
    "2. De klanten krijgen het advies om een bepaalde rij te kiezen. Dit advies is gebaseerd op de\n",
    "totale tijd dat de bediening van de rij zal kosten op basis van de snelheid van de kassa en de\n",
    "som van de groottes van de aankopen.\n",
    "3. De klanten staan in een rij en de eerste in de rij gaat naar de eerste kassa die vrij komt."
   ]
  },
  {
   "cell_type": "markdown",
   "metadata": {},
   "source": [
    "Schrijf dit simulatieprogramma. Je mag veronderstellen dat de klanten aan een vast tempo\n",
    "aankomen en met een aantal aankopen dat willekeurig verdeeld is tussen 1 en 20.\n",
    "- Bedenk een voorstelling waarbinnen het gebeuren hierboven kan worden gemodelleerd.\n",
    "- Schrijf een aantal Python functies die de verschillende strategieën implementeren.\n",
    "- Schrijf een Python programma dat het gebeuren voor een zekere tijd simuleert en voor elk\n",
    "van de strategieën in mooie kolommen bij elke stap de lengte van de rij(en) afdrukt samen\n",
    "met de gemiddelde en de maximale wachttijden van de klanten die de supermarkt verlaten\n",
    "hebben."
   ]
  },
  {
   "cell_type": "markdown",
   "metadata": {},
   "source": [
    "Klanten:\n",
    "`[index: int, aankopen: int's, wachttijd]`\n",
    "Rijen:\n",
    "`[[snelheid: int, ...]`"
   ]
  },
  {
   "cell_type": "code",
   "execution_count": 116,
   "metadata": {},
   "outputs": [],
   "source": [
    "def genereerKlanten(aantal):\n",
    "\n",
    "    klanten = list()\n",
    "\n",
    "    for i in range(aantal):\n",
    "\n",
    "        inkopen = random.randint(1,20)\n",
    "        klanten.append((i, inkopen))\n",
    "\n",
    "    return klanten\n",
    "\n",
    "def genereerKassas(aantal):\n",
    "\n",
    "    kassas = list()\n",
    "\n",
    "    for i in range(aantal):\n",
    "\n",
    "        snelheid = random.randint(1,10)\n",
    "        kassas.append([i, snelheid])\n",
    "\n",
    "    return kassas"
   ]
  },
  {
   "cell_type": "code",
   "execution_count": 133,
   "metadata": {},
   "outputs": [
    {
     "name": "stdout",
     "output_type": "stream",
     "text": [
      "Klanten: [(0, 3), (1, 1), (2, 11), (3, 7), (4, 4), (5, 12), (6, 17), (7, 14), (8, 8), (9, 14)]\n",
      "Kassas: [[0, 2], [1, 10], [2, 1]]\n",
      "Max wachttijd: 400\n",
      "Gemiddelde wachttijd: 70.6923076923077\n"
     ]
    }
   ],
   "source": [
    "# GEVAL 1\n",
    "\n",
    "klanten = genereerKlanten(10)\n",
    "kassas = genereerKassas(3)\n",
    "\n",
    "print(\"Klanten:\", klanten)\n",
    "print(\"Kassas:\", kassas)\n",
    "\n",
    "alleWachttijden = []\n",
    "\n",
    "\n",
    "for klant in klanten:\n",
    "\n",
    "    randomIndx = random.randint(0,len(kassas)-1)\n",
    "\n",
    "    kassas[randomIndx].append(klant)\n",
    "\n",
    "\n",
    "for kassa in kassas:\n",
    "\n",
    "    wachttijden = [0]\n",
    "\n",
    "    for klant in kassa[2:]:\n",
    "\n",
    "        wachttijden.append(wachttijden[-1] + kassa[1]*klant[1])\n",
    "\n",
    "    alleWachttijden.extend(wachttijden)\n",
    "    \n",
    "\n",
    "print(\"Max wachttijd:\", max(alleWachttijden))\n",
    "print(\"Gemiddelde wachttijd:\", sum(alleWachttijden)/len(alleWachttijden))"
   ]
  }
 ],
 "metadata": {
  "kernelspec": {
   "display_name": "base",
   "language": "python",
   "name": "python3"
  },
  "language_info": {
   "codemirror_mode": {
    "name": "ipython",
    "version": 3
   },
   "file_extension": ".py",
   "mimetype": "text/x-python",
   "name": "python",
   "nbconvert_exporter": "python",
   "pygments_lexer": "ipython3",
   "version": "3.11.4"
  }
 },
 "nbformat": 4,
 "nbformat_minor": 2
}
