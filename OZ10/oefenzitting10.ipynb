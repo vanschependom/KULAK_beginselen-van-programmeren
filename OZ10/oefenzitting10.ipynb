{
 "cells": [
  {
   "cell_type": "markdown",
   "metadata": {},
   "source": [
    "# Oefenzitting 10"
   ]
  },
  {
   "cell_type": "markdown",
   "metadata": {},
   "source": [
    "## 1. Probleemoplossend denken"
   ]
  },
  {
   "cell_type": "markdown",
   "metadata": {},
   "source": [
    "### Oefening 1.1"
   ]
  },
  {
   "cell_type": "code",
   "execution_count": 1,
   "metadata": {},
   "outputs": [
    {
     "name": "stdout",
     "output_type": "stream",
     "text": [
      "18.84955592153876\n",
      "28.274333882308138\n",
      "75.39822368615503\n",
      "100.53096491487338\n"
     ]
    }
   ],
   "source": [
    "import numpy as np\n",
    "\n",
    "class Cirkel():\n",
    "\n",
    "    def __init__(self, straal):\n",
    "        self._straal = straal\n",
    "\n",
    "    def get_oppervlakte(self):\n",
    "        return (self._straal)**2 * np.pi\n",
    "    \n",
    "    def get_omtrek(self):\n",
    "        return 2 * self._straal * np.pi\n",
    "    \n",
    "class Cilinder():\n",
    "\n",
    "    def __init__(self, straal, hoogte):\n",
    "        self._grondvlak = Cirkel(straal)\n",
    "        self._hoogte = hoogte\n",
    "\n",
    "    def get_inhoud(self):\n",
    "        return (self._grondvlak.get_oppervlakte() * self._hoogte)\n",
    "    \n",
    "    def get_oppervlakte(self):\n",
    "        return 2*self._grondvlak.get_oppervlakte() + self._grondvlak.get_omtrek() * self._hoogte\n",
    "    \n",
    "\n",
    "c1 = Cirkel(3)\n",
    "c2 = Cilinder(2,6)\n",
    "\n",
    "print(c1.get_omtrek())\n",
    "print(c1.get_oppervlakte())\n",
    "print(c2.get_inhoud())\n",
    "print(c2.get_oppervlakte())"
   ]
  },
  {
   "cell_type": "markdown",
   "metadata": {},
   "source": [
    "### Oefening 1.2"
   ]
  },
  {
   "cell_type": "markdown",
   "metadata": {},
   "source": [
    "Zie oplossing, niet werken met aparte lijsten, maar gewoon 1 lijst `taken`"
   ]
  },
  {
   "cell_type": "code",
   "execution_count": 37,
   "metadata": {},
   "outputs": [
    {
     "name": "stdout",
     "output_type": "stream",
     "text": [
      "[Taak 1, Taak 2]\n",
      "\n",
      "Wachtrij:\n",
      "---------\n",
      "[Taak 1, Taak 2]\n",
      "Dit zijn er 2 (100.0%)\n",
      "\n",
      "Actief:\n",
      "---------\n",
      "[]\n",
      "Dit zijn er 0 (0.0%)\n",
      "\n",
      "Vervolledigd:\n",
      "---------\n",
      "[]\n",
      "Dit zijn er 0 (0.0%)\n"
     ]
    }
   ],
   "source": [
    "class Persoon():\n",
    "\n",
    "    def __init__(self, naam):\n",
    "        self._naam = naam\n",
    "\n",
    "    def getNaam(self):\n",
    "        return self._naam\n",
    "\n",
    "class Taak():\n",
    "\n",
    "    def __init__(self, verantwoordelijke: Persoon, naam: str, korteBeschrijving: str, deadline = None):\n",
    "        self._verantwoordelijke = verantwoordelijke\n",
    "        self._naam = naam\n",
    "        # actief, vervolledigd of wachtrij\n",
    "        self._status = \"wachtrij\"\n",
    "        self._korteBeschrijving = korteBeschrijving\n",
    "        self._deadline = deadline\n",
    "\n",
    "    def getStatus(self):\n",
    "        return self._status\n",
    "    \n",
    "    def __repr__(self):\n",
    "        return self._naam\n",
    "\n",
    "class TodoLijst():\n",
    "\n",
    "    def __init__(self):\n",
    "        self._wachtrij = list()\n",
    "        self._actief = list()\n",
    "        self._vervolledigd = list()\n",
    "\n",
    "    def voegTaakToe(self, taak):\n",
    "        if taak.getStatus() == \"wachtrij\":\n",
    "            self._wachtrij.append(taak)\n",
    "        elif taak.getStatus() == \"actief\":\n",
    "            self._actief.append(taak)\n",
    "        elif taak.getStatus() == \"vervolledigd\":\n",
    "            self._vervolledigd.append(taak)\n",
    "        else:\n",
    "            print(\"Verkeerd\")\n",
    "\n",
    "    def getOpenstaand(self):\n",
    "        wachtrij = list(self._wachtrij)\n",
    "        actief = list(self._actief)\n",
    "        actief.extend(wachtrij)\n",
    "        return actief\n",
    "    \n",
    "    def statistieken(self):\n",
    "        aantalTaken = len(self._wachtrij) + len(self._actief) + len(self._vervolledigd)\n",
    "\n",
    "        print(\"\\nWachtrij:\\n---------\")\n",
    "        print(self._wachtrij)\n",
    "        print(f\"Dit zijn er {len(self._wachtrij)} ({len(self._wachtrij)*100/aantalTaken}%)\")\n",
    "\n",
    "        print(\"\\nActief:\\n---------\")\n",
    "        print(self._actief)\n",
    "        print(f\"Dit zijn er {len(self._actief)} ({len(self._actief)*100/aantalTaken}%)\")\n",
    "\n",
    "        print(\"\\nVervolledigd:\\n---------\")\n",
    "        print(self._vervolledigd)\n",
    "        print(f\"Dit zijn er {len(self._vervolledigd)} ({len(self._vervolledigd)*100/aantalTaken}%)\")\n",
    "\n",
    "vincent = Persoon(\"Vincent\")\n",
    "t1 = Taak(vincent, \"Taak 1\", \"Dit is de korte beschrijving\")\n",
    "t2 = Taak(vincent, \"Taak 2\", \"Dit is de korte beschrijving\")\n",
    "todo = TodoLijst()\n",
    "todo.voegTaakToe(t1)\n",
    "todo.voegTaakToe(t2)\n",
    "\n",
    "print(todo.getOpenstaand())\n",
    "todo.statistieken()"
   ]
  },
  {
   "cell_type": "markdown",
   "metadata": {},
   "source": [
    "## 2.UOVT"
   ]
  },
  {
   "cell_type": "markdown",
   "metadata": {},
   "source": [
    "### Oefening 2.1"
   ]
  },
  {
   "cell_type": "code",
   "execution_count": 62,
   "metadata": {},
   "outputs": [
    {
     "data": {
      "text/plain": [
       "12.166666666666666"
      ]
     },
     "execution_count": 62,
     "metadata": {},
     "output_type": "execute_result"
    }
   ],
   "source": [
    "class Vak():\n",
    "\n",
    "    def __init__(self, naam, studiepunten, wegingsfactor):\n",
    "        self._naam = naam\n",
    "        self._studiepunten = studiepunten\n",
    "        self._wegingsfactor = wegingsfactor\n",
    "\n",
    "    def getWegingsfactor(self):\n",
    "        return self._wegingsfactor\n",
    "    \n",
    "    def getStudiepunten(self):\n",
    "        return self._studiepunten\n",
    "\n",
    "class Examen():\n",
    "\n",
    "    def __init__(self, vak, theorieScore, oefScore):\n",
    "        self._vak = vak\n",
    "        self._theorieScore = theorieScore\n",
    "        self._oefScore = oefScore\n",
    "        self._theorieGewicht = self._vak.getWegingsfactor()\n",
    "\n",
    "    def getScore(self):\n",
    "\n",
    "        return (self._theorieScore * self._theorieGewicht + self._oefScore * (1-self._theorieGewicht))\n",
    "    \n",
    "    def getVak(self):\n",
    "\n",
    "        return self._vak\n",
    "\n",
    "class Student():\n",
    "\n",
    "    def __init__(self, voornaam, familienaam):\n",
    "        self._voornaam = voornaam\n",
    "        self._familienaam = familienaam\n",
    "        self._examensAfgelegd = []\n",
    "\n",
    "    def voegExamenToe(self, examen):\n",
    "        self._examensAfgelegd.append(examen)\n",
    "\n",
    "    def getTotaleScore(self):\n",
    "        studiepunten = 0\n",
    "        somGewogen = 0\n",
    "        for examen in self._examensAfgelegd:\n",
    "            somGewogen += examen.getScore()*examen.getVak().getStudiepunten()\n",
    "            studiepunten += examen.getVak().getStudiepunten()\n",
    "        return somGewogen/studiepunten\n",
    "\n",
    "wr = Vak(\"Wiskundig Redeneren\", 3, 0.5)\n",
    "ex1 = Examen(wr, 10,9)\n",
    "\n",
    "ac = Vak(\"Analyse en Calculus\", 6, 0.5)\n",
    "ex2 = Examen(ac, 16,11)\n",
    "\n",
    "v = Student(\"vincent\", \"van schependom\")\n",
    "\n",
    "v.voegExamenToe(ex1)\n",
    "v.voegExamenToe(ex2)\n",
    "\n",
    "v.getTotaleScore()"
   ]
  }
 ],
 "metadata": {
  "kernelspec": {
   "display_name": "base",
   "language": "python",
   "name": "python3"
  },
  "language_info": {
   "codemirror_mode": {
    "name": "ipython",
    "version": 3
   },
   "file_extension": ".py",
   "mimetype": "text/x-python",
   "name": "python",
   "nbconvert_exporter": "python",
   "pygments_lexer": "ipython3",
   "version": "3.11.4"
  }
 },
 "nbformat": 4,
 "nbformat_minor": 2
}
