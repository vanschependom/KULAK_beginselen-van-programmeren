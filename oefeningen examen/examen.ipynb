{
 "cells": [
  {
   "cell_type": "code",
   "execution_count": 1,
   "metadata": {},
   "outputs": [
    {
     "name": "stdout",
     "output_type": "stream",
     "text": [
      "[5, 6, 15, 9, 11, 8, 9, 14, 13, 10, 9, 2, 19, 1, 3, 5, 3, 14, 16, 2]\n",
      "1\n"
     ]
    }
   ],
   "source": [
    "# Kleinste element in een niet-gesorteerde lijst\n",
    "\n",
    "import random\n",
    "\n",
    "def kleinste(lijst):\n",
    "\n",
    "    if len(lijst) == 1:\n",
    "\n",
    "        return lijst[0]\n",
    "    \n",
    "    if lijst[0] <= lijst[-1]:\n",
    "        kortereLijst = list(lijst)[:-1]\n",
    "    else:\n",
    "        kortereLijst = list(lijst)[1:]\n",
    "        \n",
    "    return kleinste(kortereLijst)\n",
    "\n",
    "lijst = [random.randint(1,20) for x in range(20)]\n",
    "\n",
    "print(lijst)\n",
    "\n",
    "print(kleinste(lijst))"
   ]
  },
  {
   "cell_type": "markdown",
   "metadata": {},
   "source": [
    "Recusief de driehoek van Pascal"
   ]
  },
  {
   "cell_type": "code",
   "execution_count": 2,
   "metadata": {},
   "outputs": [
    {
     "name": "stdout",
     "output_type": "stream",
     "text": [
      "1 \n",
      "1 1 \n",
      "1 2 1 \n",
      "1 3 3 1 \n",
      "1 4 6 4 1 \n",
      "1 5 10 10 5 1 \n"
     ]
    }
   ],
   "source": [
    "def functie(n):\n",
    "\n",
    "    if n==1:\n",
    "\n",
    "        return [[1]]\n",
    "    \n",
    "    vorigeDriehoek = list(functie(n-1))\n",
    "\n",
    "    vorigeLijn = vorigeDriehoek[-1]\n",
    "    nieuweLijn = [1]\n",
    "\n",
    "    for i in range(1,len(vorigeLijn)):\n",
    "\n",
    "        nieuweLijn.append(vorigeLijn[i-1]+vorigeLijn[i])\n",
    "\n",
    "    nieuweLijn.append(1)\n",
    "\n",
    "    vorigeDriehoek.append(nieuweLijn)\n",
    "\n",
    "    return vorigeDriehoek\n",
    "\n",
    "pascalDriehoek = functie(6)\n",
    "\n",
    "for lijn in pascalDriehoek:\n",
    "    for getal in lijn:\n",
    "        print(getal, end=' ')\n",
    "    print()"
   ]
  },
  {
   "cell_type": "code",
   "execution_count": 3,
   "metadata": {},
   "outputs": [
    {
     "name": "stdout",
     "output_type": "stream",
     "text": [
      "[1, 5, 9, 10, 14, 17, 18, 20, 21]\n",
      "[1, 5, 9, 10]\n",
      "[10]\n"
     ]
    },
    {
     "data": {
      "text/plain": [
       "True"
      ]
     },
     "execution_count": 3,
     "metadata": {},
     "output_type": "execute_result"
    }
   ],
   "source": [
    "lijst = [1,5,9,10,14,17,18,20,21]\n",
    "\n",
    "def zoekBinair(lijst, waarde):\n",
    "\n",
    "    print(lijst)\n",
    "\n",
    "    if len(lijst) == 1:\n",
    "\n",
    "        return waarde == lijst[0]\n",
    "    \n",
    "    middenIdx = len(lijst)//2\n",
    "\n",
    "    if lijst[middenIdx] == waarde:\n",
    "\n",
    "        return True\n",
    "    \n",
    "    elif lijst[middenIdx] < waarde:\n",
    "\n",
    "        return zoekBinair(list(lijst)[middenIdx+1:],waarde)\n",
    "    \n",
    "    elif lijst[middenIdx] > waarde:\n",
    "\n",
    "        return zoekBinair(list(lijst)[:middenIdx],waarde)\n",
    "    \n",
    "zoekBinair(lijst,10)"
   ]
  },
  {
   "cell_type": "code",
   "execution_count": 4,
   "metadata": {},
   "outputs": [
    {
     "name": "stdout",
     "output_type": "stream",
     "text": [
      "[1, 3, 4, 8, 10]\n"
     ]
    }
   ],
   "source": [
    "lijst = [3,10,4,8,1]\n",
    "\n",
    "def mergeSort(lijst):\n",
    "\n",
    "    if len(lijst) == 1:\n",
    "\n",
    "        return lijst\n",
    "    \n",
    "    midden = len(lijst) // 2\n",
    "\n",
    "    linkerhelft = lijst[:midden]\n",
    "    rechterhelft = lijst[midden:]\n",
    "\n",
    "    linksGesorteerd = mergeSort(linkerhelft)\n",
    "    rechtsGesorteerd = mergeSort(rechterhelft)\n",
    "\n",
    "    gesorteerd = list()\n",
    "\n",
    "    while len(linksGesorteerd) > 0 and len(rechtsGesorteerd) > 0:\n",
    "\n",
    "        if linksGesorteerd[0] < rechtsGesorteerd[0]:\n",
    "\n",
    "            gesorteerd.append(linksGesorteerd.pop(0))\n",
    "\n",
    "        else:\n",
    "\n",
    "            gesorteerd.append(rechtsGesorteerd.pop(0))\n",
    "\n",
    "    gesorteerd.extend(rechtsGesorteerd)\n",
    "    gesorteerd.extend(linksGesorteerd)\n",
    "\n",
    "    return gesorteerd\n",
    "\n",
    "print(mergeSort(lijst))"
   ]
  },
  {
   "cell_type": "code",
   "execution_count": 5,
   "metadata": {},
   "outputs": [
    {
     "name": "stdout",
     "output_type": "stream",
     "text": [
      "['ik programmeer graag', 'ik graag programmeer', 'programmeer ik graag', 'programmeer graag ik', 'graag ik programmeer', 'graag programmeer ik']\n"
     ]
    }
   ],
   "source": [
    "strings = [\"ik\", \"programmeer\", \"graag\"]\n",
    "\n",
    "def alleZinnen(lijst):\n",
    "\n",
    "    if len(lijst) == 1:\n",
    "\n",
    "        return lijst\n",
    "    \n",
    "    output = []\n",
    "\n",
    "    for woord in lijst:\n",
    "\n",
    "        minderWoorden = list(lijst)\n",
    "        minderWoorden.remove(woord)\n",
    "        kortereZinnen = alleZinnen(minderWoorden)\n",
    "\n",
    "        for zin in kortereZinnen:\n",
    "\n",
    "            output.append(woord + \" \" + zin)\n",
    "\n",
    "    return output\n",
    "\n",
    "print(alleZinnen(strings))"
   ]
  },
  {
   "cell_type": "code",
   "execution_count": 54,
   "metadata": {},
   "outputs": [
    {
     "name": "stdout",
     "output_type": "stream",
     "text": [
      "[1, 0, 2, 3, 1] 1277\n",
      "[1, 0, 3, 2, 1] 1219\n",
      "[1, 2, 0, 3, 1] 1468\n",
      "[1, 2, 3, 0, 1] 1015\n",
      "[1, 3, 0, 2, 1] 1524\n",
      "[1, 3, 2, 0, 1] 1129\n",
      "[1, 0, 2, 3, 1] 1277\n",
      "[1, 0, 3, 2, 1] 1219\n",
      "[1, 2, 0, 3, 1] 1468\n",
      "[1, 2, 3, 0, 1] 1015\n",
      "[1, 3, 0, 2, 1] 1524\n",
      "[1, 3, 2, 0, 1] 1129\n",
      "1015\n"
     ]
    }
   ],
   "source": [
    "steden = [0,1,2,3,1]\n",
    "\n",
    "def allePaden(steden):\n",
    "\n",
    "    if len(steden) == 1:\n",
    "\n",
    "        return [steden]\n",
    "    \n",
    "    output = []\n",
    "\n",
    "    for stad in steden:\n",
    "\n",
    "        minderSteden = list(steden)\n",
    "        minderSteden.remove(stad)\n",
    "        korterePaden = allePaden(minderSteden)\n",
    "\n",
    "        for pad in korterePaden:\n",
    "\n",
    "            nieuwPad = [stad]\n",
    "            nieuwPad.extend(pad)\n",
    "\n",
    "            output.append(nieuwPad)\n",
    "\n",
    "    return output\n",
    "\n",
    "paden = allePaden(steden)\n",
    "\n",
    "# print(paden)\n",
    "\n",
    "goedePaden = list()\n",
    "\n",
    "for pad in paden:\n",
    "\n",
    "    if pad[0] == pad[-1]:\n",
    "\n",
    "        goedePaden.append(pad)\n",
    "\n",
    "# print(output)\n",
    "\n",
    "afstanden = [\n",
    "    [0, 606, 562, 504],\n",
    "    [606, 0, 402, 458],\n",
    "    [562, 402, 0, 109],\n",
    "    [504, 458, 109, 0]\n",
    "]\n",
    "\n",
    "afstandenPaden = []\n",
    "\n",
    "for pad in goedePaden:\n",
    "\n",
    "    afstand = 0\n",
    "\n",
    "    for i in range(len(pad)-2):\n",
    "\n",
    "        afstand += afstanden[pad[i]][pad[i+1]]\n",
    "\n",
    "    print(pad, afstand)\n",
    "    afstandenPaden.append(afstand)\n",
    "\n",
    "print(min(afstandenPaden))\n"
   ]
  },
  {
   "cell_type": "code",
   "execution_count": 7,
   "metadata": {},
   "outputs": [
    {
     "name": "stdout",
     "output_type": "stream",
     "text": [
      " de tafel staat op de appel\n",
      " de tafel staat naast de appel\n",
      " de tafel ligt op de appel\n",
      " de tafel ligt naast de appel\n",
      " de appel staat op de tafel\n",
      " de appel staat naast de tafel\n",
      " de appel ligt op de tafel\n",
      " de appel ligt naast de tafel\n"
     ]
    }
   ],
   "source": [
    "woordenDict = {\n",
    "    \"de tafel\": \"substantief\", \n",
    "    \"de appel\": \"substantief\", \n",
    "    \"staat\": \"werkwoord\",\n",
    "    \"ligt\": \"werkwoord\", \n",
    "    \"op\": \"voorzetsel\", \n",
    "    \"naast\": \"voorzetsel\"\n",
    " }\n",
    "\n",
    "zinSkelet = [\"substantief\", \"werkwoord\", \"voorzetsel\", \"substantief\"]\n",
    "\n",
    "def genereerZinnen(woordenDict, zinSkelet, zin=\"\"):\n",
    "\n",
    "    if len(zinSkelet) == 0:\n",
    "\n",
    "        return [zin]\n",
    "    \n",
    "    output = []\n",
    "\n",
    "    for woord, functie in woordenDict.items():\n",
    "\n",
    "        if functie == zinSkelet[0] and woord not in zin:\n",
    "\n",
    "            korterSkelet = list(zinSkelet)[1:]\n",
    "\n",
    "            zinnen = genereerZinnen(woordenDict, korterSkelet, zin=f\"{zin} {woord}\")\n",
    "            output.extend(zinnen)\n",
    "    \n",
    "    return output\n",
    "\n",
    "zinnen = genereerZinnen(woordenDict,zinSkelet)\n",
    "\n",
    "for zin in zinnen:\n",
    "    print(zin)"
   ]
  },
  {
   "cell_type": "code",
   "execution_count": 9,
   "metadata": {},
   "outputs": [
    {
     "data": {
      "text/plain": [
       "[(14, [1, 0, 2, 4, 6, 5]),\n",
       " (9, [1, 0, 2, 5]),\n",
       " (2, [1, 0]),\n",
       " (4, [1, 2, 0]),\n",
       " (12, [1, 2, 4, 6, 5]),\n",
       " (7, [1, 2, 5]),\n",
       " (11, [1, 4, 2, 0]),\n",
       " (14, [1, 4, 2, 5]),\n",
       " (13, [1, 4, 6, 5])]"
      ]
     },
     "execution_count": 9,
     "metadata": {},
     "output_type": "execute_result"
    }
   ],
   "source": [
    "buurmatrix = [[0, 1, 2, 1, None, None, None],\n",
    "              [1, 0, 1, None, 5, None, None],\n",
    "              [2, 1, 0, None, 3, 1, None],\n",
    "              [1, None, None, 0, None, 5, None],\n",
    "              [None, 5, 3, 0, None, None, 1],\n",
    "              [None, None, None, 5, None, 0, 2],\n",
    "              [None, None, None, None, 1, 2, 0]]\n",
    "\n",
    "\n",
    "def allePaden(van, naar, buurmatrix, huidigPad=[]):\n",
    "\n",
    "    huidigPad.append(van)\n",
    "\n",
    "    if van == naar:\n",
    "\n",
    "        return [(huidigPad, 0)]\n",
    "\n",
    "    output = []\n",
    "\n",
    "    for buur, afstandTotBuur in enumerate(buurmatrix[van]):\n",
    "\n",
    "        if afstandTotBuur != None and afstandTotBuur != 0 and buur not in huidigPad:\n",
    "\n",
    "            korterePaden = allePaden(buur, naar, buurmatrix, list(huidigPad))\n",
    "\n",
    "            for pad, lengte in korterePaden:\n",
    "\n",
    "                output.append((pad, lengte+1))\n",
    "\n",
    "    return output\n",
    "\n",
    "\n",
    "print(allePaden(1, 5, buurmatrix))\n"
   ]
  },
  {
   "cell_type": "code",
   "execution_count": 27,
   "metadata": {},
   "outputs": [
    {
     "name": "stdout",
     "output_type": "stream",
     "text": [
      "z(e(e)e)gel\n",
      "z(ee)\n",
      "b(aa)rs\n",
      "vincent\n",
      "fi(ll)ip\n"
     ]
    }
   ],
   "source": [
    "def markeerDubbels(string):\n",
    "\n",
    "    huidigeReeks = \"\"\n",
    "    woordDelen = list()\n",
    "\n",
    "    def pasWoordDelenAan(huidigeReeks):\n",
    "\n",
    "        if huidigeReeks != \"\": woordDelen.append(huidigeReeks)\n",
    "\n",
    "    # Overloop alle letters in de string\n",
    "    for letter in string:\n",
    "\n",
    "        # De letter komt al voor in de huidige reeks\n",
    "        if letter in huidigeReeks:\n",
    "\n",
    "            huidigeReeks += letter\n",
    "\n",
    "        # De letter komt niet voor in de huidge reeks\n",
    "        # Schrijf de huidige reeks weg\n",
    "        else:\n",
    "\n",
    "            pasWoordDelenAan(huidigeReeks)\n",
    "            huidigeReeks = letter\n",
    "\n",
    "    # Schrijf het overblijfsel na de loop ook weg\n",
    "    pasWoordDelenAan(huidigeReeks) \n",
    "    outputString = \"\"\n",
    "        \n",
    "    # Overloop elk deel van het woord\n",
    "    for deel in woordDelen:\n",
    "\n",
    "        # De letter die herhaald wordt in het deel\n",
    "        letter = deel[0]\n",
    "\n",
    "        # Check de lengte van de herhaling\n",
    "        if len(deel) == 3:\n",
    "            outputString += f\"({letter}({letter}){letter})\"\n",
    "        elif len(deel) == 2:\n",
    "            outputString += f\"({letter*2})\"\n",
    "        else:\n",
    "            outputString += letter\n",
    "\n",
    "    # Return de effectieve output\n",
    "    return outputString\n",
    "\n",
    "woorden = [\"zeeegel\", \"zee\", \"baars\", \"vincent\", \"fillip\"]\n",
    "\n",
    "for woord in woorden:\n",
    "\n",
    "    print(markeerDubbels(woord))"
   ]
  },
  {
   "cell_type": "code",
   "execution_count": 52,
   "metadata": {},
   "outputs": [
    {
     "name": "stdout",
     "output_type": "stream",
     "text": [
      "1117 [0, 1, 2, 3]\n",
      "1064 [0, 1, 3]\n",
      "1422 [0, 2, 1, 3]\n",
      "671 [0, 2, 3]\n",
      "504 [0, 3]\n"
     ]
    }
   ],
   "source": [
    "buurmatrix = [[0, 1, 2, 1, None , None , None],\n",
    "              [1, 0, 1, None , 5, None , None],\n",
    "              [2, 1, 0, None , 3, 1, None],\n",
    "              [1, None , None , 0, None , 5, None],\n",
    "              [None , 5, 3, 0, None , None , 1],\n",
    "              [None , None , None , 5, None , 0, 2],\n",
    "              [None , None , None , None , 1, 2, 0]]\n",
    "\n",
    "def allePaden(van, tot, huidigPad=[]):\n",
    "\n",
    "    if van == tot:\n",
    "\n",
    "        huidigPad.append(van)\n",
    "        return [(0, huidigPad)]\n",
    "\n",
    "    output = []\n",
    "\n",
    "    huidigPad.append(van)\n",
    "    \n",
    "    for buur, afstandTotBuur in enumerate(buurmatrix[van]):\n",
    "\n",
    "        if afstandTotBuur != None and afstandTotBuur != 0 and buur not in huidigPad:\n",
    "\n",
    "            nieuwePaden = allePaden(buur, tot, list(huidigPad))\n",
    "\n",
    "            for afstand, pad in nieuwePaden:\n",
    "\n",
    "                output.append((afstand+afstandTotBuur, pad))\n",
    "\n",
    "    return output\n",
    "\n",
    "paden = allePaden(0,3)\n",
    "\n",
    "for pad in paden:\n",
    "\n",
    "    print(pad[0], pad[1])"
   ]
  },
  {
   "cell_type": "code",
   "execution_count": 47,
   "metadata": {},
   "outputs": [
    {
     "name": "stdout",
     "output_type": "stream",
     "text": [
      "6 [0, 1, 2, 4, 6]\n",
      "5 [0, 1, 2, 5, 6]\n",
      "12 [0, 1, 4, 2, 5, 6]\n",
      "7 [0, 1, 4, 6]\n",
      "9 [0, 2, 1, 4, 6]\n",
      "6 [0, 2, 4, 6]\n",
      "5 [0, 2, 5, 6]\n",
      "8 [0, 3, 5, 6]\n",
      "De kortste weg is 5.\n"
     ]
    }
   ],
   "source": [
    "buurmatrix = [[0, 1, 2, 1, None , None , None],\n",
    "              [1, 0, 1, None , 5, None , None],\n",
    "              [2, 1, 0, None , 3, 1, None],\n",
    "              [1, None , None , 0, None , 5, None],\n",
    "              [None , 5, 3, 0, None , None , 1],\n",
    "              [None , None , None , 5, None , 0, 2],\n",
    "              [None , None , None , None , 1, 2, 0]]\n",
    "\n",
    "# we zoeken alle paden van begin naar eind met recursie\n",
    "def genereerWegen(start, eind, buurmatrix, huidigPad=[]):\n",
    "\n",
    "    # we returnen een lijst met tupels (lengte, [startknoop, eindknoop])\n",
    "\n",
    "    # triviaal geval\n",
    "    if start == eind:\n",
    "        huidigPad.append(start)\n",
    "        return [(0,huidigPad)]\n",
    "    \n",
    "    # initialiseer huidigPad lijst\n",
    "    huidigPad.append(start)\n",
    "\n",
    "    output = list()\n",
    "\n",
    "    for buurknoop, afstand in enumerate(buurmatrix[start]):\n",
    "\n",
    "        # dit zijn de mogelijke buren waar we naartoe kunnen\n",
    "        # buren die we eerder al bezocht hebben, gaan we niet meer opnieuw bezoeken\n",
    "        if afstand != None and afstand != 0 and buurknoop not in huidigPad:\n",
    "\n",
    "            # genereer de volgende paden (die vertrekken in een buurknoop en eindigen in de eindknoop)\n",
    "            volgendePaden = genereerWegen(buurknoop, eind, buurmatrix, list(huidigPad))\n",
    "\n",
    "            for volgendeAfstand, volgendPad in volgendePaden:\n",
    "                output.append((volgendeAfstand+afstand, volgendPad))\n",
    "\n",
    "    return output\n",
    "\n",
    "wegen = genereerWegen(0,6,buurmatrix)\n",
    "kortsteWeg = 10000000\n",
    "\n",
    "for afstand,weg in wegen:\n",
    "\n",
    "    if afstand < kortsteWeg:\n",
    "        kortsteWeg = afstand\n",
    "    print(afstand,weg)\n",
    "\n",
    "print(f\"De kortste weg is {kortsteWeg}.\")"
   ]
  },
  {
   "cell_type": "code",
   "execution_count": 82,
   "metadata": {},
   "outputs": [
    {
     "name": "stdout",
     "output_type": "stream",
     "text": [
      "(4, 536, [3, 2, 4, 1])\n"
     ]
    }
   ],
   "source": [
    "leveringen = [\n",
    "    [\"Meskens\", 10, 30],\n",
    "    [\"Jorissen\", 10, 50],\n",
    "    [\"Pieters\", 13, 00],\n",
    "    [\"Janssens\", 14, 00]\n",
    "]\n",
    "\n",
    "reistijden = [\n",
    "    [0,120,20,5,10],\n",
    "    [120,0,15,20,3],\n",
    "    [20,15,0,10,10],\n",
    "    [5,20,10,0,37],\n",
    "    [10,3,10,37,0]\n",
    "]\n",
    "\n",
    "def maxPakjes(leveringen, reistijden, volgorde=[1,2,3,4]):\n",
    "\n",
    "    # Initialiseer de tijd\n",
    "    tijd = 8 * 60\n",
    "    # Inladen\n",
    "    tijd += len(leveringen)*2\n",
    "\n",
    "    # Startpositie\n",
    "    positie = 0\n",
    "\n",
    "    # In deze lijst wordt bijgehouden welke levering op tijd waren en op welk uur ze geleverd zijn\n",
    "    opTijd = list()\n",
    "\n",
    "    # Loop over de leveringen\n",
    "    for i,levering in enumerate(leveringen):\n",
    "\n",
    "        # Pas de tijd aan\n",
    "        tijd += reistijden[positie][volgorde[i]]\n",
    "        tijd += 5\n",
    "\n",
    "        # Als het pakje op tijd was, voeg het toe aan de lijst opTijd\n",
    "        if tijd <= levering[1] * 60 + levering[2]:\n",
    "            opTijd.append((levering[0],tijd//60,tijd%60))\n",
    "        \n",
    "        # Pas de positie aan\n",
    "        positie = volgorde[i]\n",
    "    \n",
    "    # Return welke leveringen op tijd waren en wat de totale tijd in minuten was\n",
    "    return opTijd, tijd\n",
    "\n",
    "\n",
    "# Recusieve functie om de permutaties van alle volgordes genereert waarin de stops kunnen overlopen worden\n",
    "def volgordes(stops):\n",
    "\n",
    "    # Triviaal geval\n",
    "    if len(stops) == 1:\n",
    "\n",
    "        return [stops]\n",
    "    \n",
    "    output = []\n",
    "    \n",
    "    # Verwijder telkens 1 van de stops\n",
    "    # Genereer kortere volgordes\n",
    "    # Voeg de stop + de kortere volgorde toe aan de output\n",
    "    for stop in stops:\n",
    "\n",
    "        minderStops = list(stops)\n",
    "        minderStops.remove(stop)\n",
    "\n",
    "        kleinereVolgordes = volgordes(minderStops)\n",
    "\n",
    "        for kleinereVolgorde in kleinereVolgordes:\n",
    "\n",
    "            nieuweVolgorde = [stop]\n",
    "            nieuweVolgorde.extend(kleinereVolgorde)\n",
    "            output.append(nieuweVolgorde)\n",
    "\n",
    "    return output\n",
    "\n",
    "# Alle stops die moeten gedaan worden\n",
    "stops = [1,2,3,4]\n",
    "\n",
    "# Haal alle mogelijek permutaties van de stops op\n",
    "alleVolgordes = volgordes(stops)\n",
    "\n",
    "def getBesteVolgorde(mogelijkeVolgordes, leveringen, reistijden):\n",
    "\n",
    "    maxLeveringen = 0\n",
    "\n",
    "    # Overloop elke volgorde\n",
    "    for mogelijkeVolgorde in mogelijkeVolgordes:\n",
    "\n",
    "        # Haal op welke pakjes op tijd waren voor deze volgorde\n",
    "        # Haal ook op wat de totale tijd van de levering was\n",
    "        opTijd, tijd = maxPakjes(leveringen, reistijden, mogelijkeVolgorde)\n",
    "\n",
    "        # Als het aantal op tijd geleverde pakjes groter is dan het huidig aantal max geleverde pakjes, pas aan\n",
    "        if len(opTijd) > maxLeveringen:\n",
    "            maxLeveringen = len(opTijd)\n",
    "            besteVolgorde = mogelijkeVolgorde\n",
    "            kortsteTijd = tijd\n",
    "        \n",
    "        # Als het aantal geleverde pakjes gelijk is, kijk of de tijd korter is dan de tot nu toe korstste\n",
    "        if len(opTijd) == maxLeveringen and tijd <= kortsteTijd:\n",
    "            besteVolgorde = mogelijkeVolgorde\n",
    "            kortsteTijd = tijd\n",
    "\n",
    "    # Return\n",
    "    return maxLeveringen, kortsteTijd, besteVolgorde\n",
    "\n",
    "print(getBesteVolgorde(alleVolgordes, leveringen, reistijden))"
   ]
  },
  {
   "cell_type": "code",
   "execution_count": 19,
   "metadata": {},
   "outputs": [
    {
     "name": "stdout",
     "output_type": "stream",
     "text": [
      "[0, 1, 2, 3, 4, 5, 6, 7, 8, 9]\n",
      "[0, 1, 2, 3, 4, 5, 6, 7, 8]\n",
      "[0, 1, 2, 3, 4, 5, 6, 7, 8, 9]\n"
     ]
    }
   ],
   "source": [
    "lijst = list(range(10))\n",
    "\n",
    "print(lijst)\n",
    "print(lijst[:-1])\n",
    "print(lijst[:len(lijst)])\n",
    "\n",
    "test = \"test\"\n",
    "lijst = test.split(sep=None)"
   ]
  },
  {
   "cell_type": "code",
   "execution_count": 10,
   "metadata": {},
   "outputs": [
    {
     "name": "stdout",
     "output_type": "stream",
     "text": [
      "['a', 'b', 'c', 'd']\n",
      "['a', 'b', 'c', 'd']\n",
      "[1, 3, 4, 9]\n",
      "0 1\n",
      "1 3\n",
      "2 4\n",
      "3 9\n"
     ]
    }
   ],
   "source": [
    "d = {\n",
    "    \"a\":9,\n",
    "    \"b\":4,\n",
    "    \"c\":1,\n",
    "    \"d\":3\n",
    "}\n",
    "\n",
    "print(sorted(d))\n",
    "print(sorted(d.keys()))\n",
    "print(sorted(d.values()))\n",
    "for i, value in enumerate(sorted(d.values())):\n",
    "    print(i, value)"
   ]
  },
  {
   "cell_type": "code",
   "execution_count": 36,
   "metadata": {},
   "outputs": [
    {
     "name": "stdout",
     "output_type": "stream",
     "text": [
      "[3, 3, 4, 5, 5, 6]\n"
     ]
    }
   ],
   "source": [
    "from random import *\n",
    "\n",
    "def f(lengte):\n",
    "\n",
    "    s = [0]*lengte\n",
    "\n",
    "    for i in range(0,len(s)):\n",
    "\n",
    "        m = randint(0,lengte)\n",
    "        j = i\n",
    "        p = j\n",
    "\n",
    "        while j>0:\n",
    "            if m<s[j-1]:\n",
    "                s[j]=s[j-1]\n",
    "                p=j-1\n",
    "            j-=1\n",
    "        s[p]=m\n",
    "    print(s)\n",
    "\n",
    "def main():\n",
    "    f(6)\n",
    "\n",
    "main()"
   ]
  },
  {
   "cell_type": "code",
   "execution_count": 8,
   "metadata": {},
   "outputs": [
    {
     "data": {
      "text/plain": [
       "[5, 2]"
      ]
     },
     "execution_count": 8,
     "metadata": {},
     "output_type": "execute_result"
    }
   ],
   "source": [
    "def ontbind(factoren):\n",
    "\n",
    "    kopie = list(factoren)\n",
    "\n",
    "    for factor in factoren:\n",
    "\n",
    "        for i in range(2, factor):\n",
    "\n",
    "            if factor % i == 0:\n",
    "\n",
    "                kopie.remove(factor)\n",
    "                kopie.extend([factor//i, i])\n",
    "                return ontbind(kopie)\n",
    "        \n",
    "    return kopie\n",
    "\n",
    "ontbind([10])"
   ]
  },
  {
   "cell_type": "code",
   "execution_count": 21,
   "metadata": {},
   "outputs": [
    {
     "name": "stdout",
     "output_type": "stream",
     "text": [
      "Dti si ene zninetje \n"
     ]
    }
   ],
   "source": [
    "import random\n",
    "\n",
    "def maakLijst(woord):\n",
    "\n",
    "    lijst = []\n",
    "\n",
    "    for letter in woord:\n",
    "\n",
    "        lijst.append(letter)\n",
    "\n",
    "    return lijst\n",
    "\n",
    "def maakWoord(lijst):\n",
    "\n",
    "    woord = \"\"\n",
    "\n",
    "    for letter in lijst:\n",
    "\n",
    "        woord += letter\n",
    "\n",
    "    return woord\n",
    "\n",
    "def scramble(woord):\n",
    "\n",
    "    woordLijst = maakLijst(woord)\n",
    "\n",
    "    randIdx1 = random.randint(0,len(woord)-1)\n",
    "    randIdx2 = random.randint(0,len(woord)-1)\n",
    "    while randIdx2 == randIdx1:\n",
    "        randIdx2 = random.randint(0,len(woord)-1)\n",
    "\n",
    "    tmp = woordLijst[randIdx1]\n",
    "    woordLijst[randIdx1] = woord[randIdx2]\n",
    "    woordLijst[randIdx2] = tmp\n",
    "\n",
    "    return(maakWoord(woordLijst))\n",
    "\n",
    "\n",
    "def transformeerZin(zin):\n",
    "\n",
    "    getransformeerd = \"\"\n",
    "    woorden = zin.split()\n",
    "\n",
    "    for woord in woorden:\n",
    "\n",
    "        getransformeerd += scramble(woord) + \" \"\n",
    "\n",
    "    return getransformeerd\n",
    "\n",
    "print(transformeerZin(\"Dit is een zinnetje\"))\n"
   ]
  },
  {
   "cell_type": "code",
   "execution_count": 22,
   "metadata": {},
   "outputs": [
    {
     "name": "stdout",
     "output_type": "stream",
     "text": [
      "tnecniV\n"
     ]
    }
   ],
   "source": [
    "def reverse(woord):\n",
    "\n",
    "    if len(woord) == 1:\n",
    "\n",
    "        return woord\n",
    "    \n",
    "    return woord[-1] + reverse(woord[:-1])\n",
    "\n",
    "print(reverse(\"Vincent\"))"
   ]
  },
  {
   "cell_type": "code",
   "execution_count": 72,
   "metadata": {},
   "outputs": [
    {
     "data": {
      "text/plain": [
       "-1"
      ]
     },
     "execution_count": 72,
     "metadata": {},
     "output_type": "execute_result"
    }
   ],
   "source": [
    "def vindiets(s,iets):\n",
    "    for i in range(len(s)):\n",
    "        if iets[0] == s[i]:\n",
    "            j = i+1\n",
    "            k = 1\n",
    "            while k < len(iets):\n",
    "                while j < len(s) and s[j] != iets[k]:\n",
    "                    j += 1\n",
    "                if j == len(s):\n",
    "                    break\n",
    "                k += 1\n",
    "            if k == len(iets):\n",
    "                return i\n",
    "\n",
    "    return -1\n",
    "    \n",
    "vindiets(\"abc\", \"ak\")"
   ]
  },
  {
   "cell_type": "code",
   "execution_count": 82,
   "metadata": {},
   "outputs": [
    {
     "data": {
      "text/plain": [
       "['aaa', 'aba', 'aca', 'bab', 'bbb', 'bcb', 'cac', 'cbc', 'ccc']"
      ]
     },
     "execution_count": 82,
     "metadata": {},
     "output_type": "execute_result"
    }
   ],
   "source": [
    "def palindroom(lengte, letters):\n",
    "\n",
    "    if lengte == 0:\n",
    "\n",
    "        return [\"\"]\n",
    "    \n",
    "    if lengte == 1:\n",
    "        \n",
    "        return list(letters)\n",
    "    \n",
    "    kleinere = palindroom(lengte-2,letters)\n",
    "\n",
    "    output = []\n",
    "\n",
    "    for kleiner in kleinere:\n",
    "\n",
    "        for letter in letters:\n",
    "\n",
    "            output.append(kleiner + letter + kleiner)\n",
    "\n",
    "    return output\n",
    "\n",
    "palindroom(3,\"abc\")"
   ]
  },
  {
   "cell_type": "code",
   "execution_count": 84,
   "metadata": {},
   "outputs": [
    {
     "name": "stdout",
     "output_type": "stream",
     "text": [
      "tnecniv\n"
     ]
    }
   ],
   "source": [
    "def keerOm(string):\n",
    "\n",
    "    lijst = list(string)\n",
    "    lijst.reverse()\n",
    "    return \"\".join(lijst)\n",
    "\n",
    "print(keerOm(\"vincent\"))"
   ]
  }
 ],
 "metadata": {
  "kernelspec": {
   "display_name": "base",
   "language": "python",
   "name": "python3"
  },
  "language_info": {
   "codemirror_mode": {
    "name": "ipython",
    "version": 3
   },
   "file_extension": ".py",
   "mimetype": "text/x-python",
   "name": "python",
   "nbconvert_exporter": "python",
   "pygments_lexer": "ipython3",
   "version": "3.11.4"
  }
 },
 "nbformat": 4,
 "nbformat_minor": 2
}
