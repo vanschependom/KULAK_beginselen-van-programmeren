{
 "cells": [
  {
   "cell_type": "markdown",
   "id": "6173fdf4",
   "metadata": {},
   "source": [
    "In deze notebook geven we een eerder fundamenteel inzicht mee. We starten met functies en hoe we deze gebruiken om probleme op te lossen. Daarna gaan we ook even over hoe we met bestanden werken buiten onze code. Dan zien we nog enkele nieuwe functies op collecties, die zullen helpen in het werken met bestanden."
   ]
  },
  {
   "cell_type": "markdown",
   "id": "d2e5a9e8",
   "metadata": {},
   "source": [
    "# Functies\n",
    "\n",
    "Functies zijn een fundamenteel deel van moderne code. In de laatste pokémon-opgave heb je waarschijnlijk wel gemerkt dat er iets ontbrak aan de structuur. We willen niet voor elke methode input vragen aan de gebruiker of alles vooraf programmeren.\n",
    "\n",
    "Functies bestaan er om functionaliteit te kunnen **overdragen** en **structureren**. De essentie van functies is dat ze een **coherent en duidelijk afgelijnde opdracht** uitvoeren. De beschrijving van een functie moet duidelijk stellen wat de functie doet en wat ze niet doet. Een functie bevat ook nooit een lijn die invoer vraag aan de gebruiker, tenzij dat het hoofddoel is van de functie.\n",
    "\n",
    "Functies zijn ook de **basisblokken** voor het bouwen van oplossingen. Je zal merken dat quasi alle opgaves uit deel 2 van de vorige oefenzittingen eigenlijk een functie omvatten.\n",
    "\n",
    "Functies **gebruiken** ook vaak **andere functies**. Weten wat de kleinste verfijningsgraad is, is niet triviaal. Een goede maatstaf is hoe makkelijk je je code kan uitleggen. Neem onderstaand voorbeeld:\n",
    "\n",
    "Functie 1 geeft true als een invoergetal een priemgetal is of een veelvoud van 5 en false als dat niet zo is.\n",
    "Functie 2 geeft true terug als elk getal van een lijst op een positie dat een veelvoud is van 5 true terugkrijgt op functie 1.\n",
    "\n",
    "We kunnen zien wat beide functies doen, maar een beschrijving voor functie 2 zonder functie 1 zou een heel stuk complexer zijn."
   ]
  },
  {
   "cell_type": "code",
   "execution_count": 2,
   "id": "87335195",
   "metadata": {},
   "outputs": [
    {
     "name": "stdout",
     "output_type": "stream",
     "text": [
      "12\n",
      "12\n"
     ]
    }
   ],
   "source": [
    "def opteller(a,b):\n",
    "    '''\n",
    "    Telt 2 getallen bij elkaar op.\n",
    "\n",
    "    Parameters\n",
    "    ----------\n",
    "    a : int\n",
    "        Het getal waarbij wordt opgeteld\n",
    "    b : int\n",
    "        Het getal dat we bij het andere getal optellen\n",
    "    Returns\n",
    "    -------\n",
    "    int\n",
    "        De som van de gegeven getallen\n",
    "\n",
    "    '''\n",
    "    c = a + b\n",
    "    return c\n",
    "\n",
    "#print de som van 4 en 8\n",
    "print(opteller(4,8))\n",
    "\n",
    "#definieer c en d als 4 en 8 en a en b als 1 en 2\n",
    "a = 1\n",
    "b = 2\n",
    "c = 4\n",
    "d = 8\n",
    "\n",
    "#print de som van c en d\n",
    "print(opteller(c,d))"
   ]
  },
  {
   "cell_type": "markdown",
   "id": "c6c7c665",
   "metadata": {},
   "source": [
    "Hier zien we meteen hoe we **commentaar** toevoegen, zodat we niet door de code hoeven te spitten om te begrijpen wat de functie doet. Commentaar is een krachtige tool, maar het kan ook voor frustratie zorgen bij programmeurs.\n",
    "\n",
    "Bij de eenvoudige voorbeelden in deel 1 en deel 2 zal de commentaar waarschijnlijk langer zijn dan de code zelf. Deze gewoonte helpt ons om ervoor te zorgen dat de **functionaliteit duidelijk is**, vooral bij complexere functies. Die heldere commentaar wordt ook verwacht op het examen."
   ]
  },
  {
   "cell_type": "markdown",
   "id": "a36567de",
   "metadata": {},
   "source": [
    "De aandachtige lezer heeft misschien al iets opgemerkt: wanneer we een functie definiëren, geven we namen aan de variabelen. Maar wanneer we vervolgens \"dezelfde\" variabelen een waarde toekennen, lijkt dit geen problemen te veroorzaken.\n",
    "\n",
    "Dit concept staat bekend als de 'scope' van een variabele. Tot nu toe hebben we alleen in één bestand gewerkt, en het is logisch dat een variabele met een bepaalde naam alleen betekenis heeft in dat bestand. Het is ook vanzelfsprekend dat variabelen in andere bestanden niet bekend zijn. We kunnen het idee van scope vergelijken met een for-loop: de variabele waarmee we itereren heeft alleen betekenis binnen die loop. Elke waarde die de variabele had vóór de loop is niet meer relevant.\n",
    "\n",
    "Als we een programma-bestand beschouwen als een boek met instructies, begrijpen we wat er staat zolang we in hetzelfde boek lezen. Bijvoorbeeld, het personage Arthur heeft specifieke eigenschappen in \"The Hitchhiker's Guide to the Galaxy\", maar deze zijn totaal verschillend van Arthur in \"Ridders van de Ronde Tafel\". Op dezelfde manier kunnen variabelen in een programma worden beschouwd.\n",
    "\n",
    "Functiedefinities vormen hier echter een uitzondering. Je kunt ze zien als post-its in de boeken. Wat je daarop schrijft, is onafhankelijk van het boek en je kunt ze overal in het boek plakken. De variabelen in een functie hebben dus alleen waarde binnen die functie, en je bepaalt met welke waarden je de functie oproept buiten de functie zelf."
   ]
  },
  {
   "cell_type": "markdown",
   "id": "4a6b6e8d",
   "metadata": {},
   "source": [
    "# Oefening 1\n",
    "\n",
    "Vul onderstaande code aan. Er worden 15 willekeurige getallen gegenereerd van 1 tot en met 6. Indien een getal voor het eerst voorkomt wordt deze toegevoegd aan de lijst.\n"
   ]
  },
  {
   "cell_type": "code",
   "execution_count": 5,
   "id": "d2f364d8",
   "metadata": {},
   "outputs": [
    {
     "name": "stdout",
     "output_type": "stream",
     "text": [
      "[5, 3, 6, 2, 4, 1]\n"
     ]
    }
   ],
   "source": [
    "import random\n",
    "\n",
    "def voegToeOpEersteZicht(nieuw_object,bestaande_lijst):\n",
    "    '''\n",
    "    Voegt een object toe indien het niet voorkomt in de lijst\n",
    "\n",
    "    Parameters\n",
    "    ----------\n",
    "    nieuw_object : int\n",
    "        Het nieuwe random getal\n",
    "    bestaande_lijst : list\n",
    "        De bestaande lijst met getallen op eerste zicht\n",
    "    Returns\n",
    "    -------\n",
    "    /\n",
    "\n",
    "    '''\n",
    "    if nieuw_object not in bestaande_lijst:\n",
    "\n",
    "        bestaande_lijst.append(nieuw_object)\n",
    "    \n",
    "    \n",
    "\n",
    "if __name__ == '__main__':\n",
    "    \n",
    "    lijst = []\n",
    "    for i in range(15):\n",
    "        willekeurig_getal = random.randint(1,6)\n",
    "        voegToeOpEersteZicht(willekeurig_getal,lijst)\n",
    "\n",
    "    print(lijst)\n",
    "        "
   ]
  },
  {
   "cell_type": "markdown",
   "id": "8f392cd1",
   "metadata": {},
   "source": [
    "# Oefening 2\n",
    "\n",
    "Duid overal aan wat de scope is van elke variabele, dus vanaf welk punt en tot welk punt deze een betekenis heeft."
   ]
  },
  {
   "cell_type": "code",
   "execution_count": 6,
   "id": "7e639321",
   "metadata": {},
   "outputs": [
    {
     "name": "stdout",
     "output_type": "stream",
     "text": [
      "leeftijd in maanden: 276 en leeftijd in dagen: 8395\n"
     ]
    }
   ],
   "source": [
    "def berekenLeeftijdInDagen(leeftijdInJaar): \n",
    "    dagenPerJaar = 365 \n",
    "    leeftijdInDagen = leeftijdInJaar * dagenPerJaar \n",
    "    return leeftijdInDagen \n",
    "\n",
    "def berekenLeeftijdInMaanden(leeftijd): \n",
    "    resultaat = leeftijd * maandenPerJaar \n",
    "    return resultaat \n",
    "\n",
    "def main(): \n",
    "    global maandenPerJaar # de variabele kan overal gebruikt worden\n",
    "    maandenPerJaar = 12\n",
    "    leeftijd = 23\n",
    "    leeftijdInMaanden = berekenLeeftijdInMaanden(leeftijd)\n",
    "    leeftijdInDagen = berekenLeeftijdInDagen(leeftijd) \n",
    "    print(f\"leeftijd in maanden: {leeftijdInMaanden} en leeftijd in dagen: {leeftijdInDagen}\") \n",
    "\n",
    "main()"
   ]
  },
  {
   "cell_type": "markdown",
   "id": "8c921340",
   "metadata": {},
   "source": [
    "De `global` notering betekent dat de variabele betekenis heeft over gans de code, dus ook in de post-its.\n",
    "\n",
    "## Hoe leest de interpreter onze code?\n",
    "\n",
    "Een belangrijk ding waar we nu rekening mee moeten houden is het feit dat de  python interpreter (dus de computer) onze code leest van links naar recht en van boven naar onder. Als we een functie definiëren, dan leest de computer die definitie en noteert die op een post-it. De volgende keer dat je dan die functie oproept neemt hij dan de correcte post-it en voert uit wat daarop staat. Dit betekent echter wel dat we altijd definities moeten geven boven de functie-oproep. Alhoewel wij misschien denken \"het staat er toch?\" heeft de interpreter de definitie nog niet gelezen en zal hij dus de post-it niet terugvinden."
   ]
  },
  {
   "cell_type": "markdown",
   "id": "1980bf6b",
   "metadata": {},
   "source": [
    "# Inlezen van bestanden\n",
    "\n",
    "Tot nu toe hebben we de data voor onze programma's op één van 2 manieren verkregen: we typten dit rechtstreeks in onze code of we vroegen de gebruiker om de data in te geven. Nu zullen we zien hoe we bestanden kunnen inlezen en schrijven. Dit laat ons natuurlijk toe om grote hoeveelheden data te verwerken. We beginnen met de syntax voor het lezen van bestanden die in onze workplace (de map waar ons .py bestand in zit) staan. Dan zullen we zelf een bestand schrijven en geven we nog een aantal methoden om met de lijnen van het bestand om te gaan."
   ]
  },
  {
   "cell_type": "code",
   "execution_count": 7,
   "id": "ad861598",
   "metadata": {},
   "outputs": [
    {
     "name": "stdout",
     "output_type": "stream",
     "text": [
      "Fout, dit is de enige zin.\n",
      "\n",
      "Fout,\n",
      "dit\n",
      "is\n",
      "de\n",
      "enige\n",
      "zin.\n",
      "Fout, dit is de enige zin.\n",
      "\n",
      "Dit is de laatse zin.\n",
      "\n"
     ]
    }
   ],
   "source": [
    "#Maak een nieuw een bestand in een variabele\n",
    "#Aangezien we in het bestand zullen schrijven, geven we dit aan met een \"w\" (\"write\")\n",
    "nieuw_bestand = open(\"bestand.txt\",\"w\")\n",
    "\n",
    "#schrijf een lijn met erachter een enter\n",
    "nieuw_bestand.write(\"Dit is de enige zin!\\n\")\n",
    "\n",
    "#sluit het bestand\n",
    "nieuw_bestand.close()\n",
    "\n",
    "#Open hetzelfde bestand met \"w\" en probeer een zin toe te voegen\n",
    "bestand = open(\"bestand.txt\",\"w\")\n",
    "\n",
    "#schrijf een lijn met erachter een enter\n",
    "bestand.write(\"Fout, dit is de enige zin.\\n\")\n",
    "\n",
    "#sluit het bestand\n",
    "bestand.close()\n",
    "\n",
    "#Open een bestaand bestand in in een variabele\n",
    "#Aangezien we enkel het bestand zullen lezen, geven we dit aan met een \"r\" (\"read\")\n",
    "bestaand_bestand = open(\"bestand.txt\",\"r\")\n",
    "\n",
    "#Itereer over elke lijn in het het bestand\n",
    "for lijn in bestaand_bestand.readlines():\n",
    "    print(lijn)\n",
    "    #Itereer over elk woord in elke lijn in het het bestand\n",
    "    for woord in lijn.split():\n",
    "        print(woord)\n",
    "    \n",
    "\n",
    "#sluit het bestand na het lezen\n",
    "bestaand_bestand.close()\n",
    "\n",
    "#Open een bestaand bestand in een variabele\n",
    "#Aangezien we aan dit bestand zullen toevoegen, geven we dit aan met een \"a\" (\"append\")\n",
    "bestaand_bestand = open(\"bestand.txt\",\"a\")\n",
    "\n",
    "#schrijf een lijn op het einde van het bestand met erachter een enter\n",
    "bestaand_bestand.write(\"Dit is de laatse zin.\\n\")\n",
    "\n",
    "#sluit het bestand\n",
    "bestaand_bestand.close()\n",
    "\n",
    "bestaand_bestand = open(\"bestand.txt\",\"r\")\n",
    "\n",
    "for lijn in bestaand_bestand.readlines():\n",
    "    print(lijn)\n",
    "\n",
    "bestaand_bestand.close()"
   ]
  },
  {
   "cell_type": "markdown",
   "id": "c015af52",
   "metadata": {},
   "source": [
    "# Oefening 3\n",
    " Vervolledig het programma zodat een bestand wordt gemaakt, er de 20 eerste fibonnacci getallen  lijn per lijn in zet en het bestand sluit. Dan wordt het bestand terug ingelezen en de som toegevoegd."
   ]
  },
  {
   "cell_type": "code",
   "execution_count": 15,
   "id": "5a515513",
   "metadata": {},
   "outputs": [],
   "source": [
    "bestand = open('fibo.txt', 'w')\n",
    "fib_1 = 1\n",
    "fib_2 = 1\n",
    "bestand.write(f\"{fib_1}\\n\")\n",
    "bestand.write(f\"{fib_2}\\n\")\n",
    "for i in range(20):\n",
    "    fib_3 = fib_1 + fib_2\n",
    "    bestand.write(f\"{fib_3}\\n\")\n",
    "    fib_1 = fib_2\n",
    "    fib_2 = fib_3\n",
    "bestand.close()\n",
    "\n",
    "som_bestand = open('fibo.txt', 'r')\n",
    "som = 0\n",
    "for lijn in som_bestand.readlines():\n",
    "    som += int(lijn.split()[0])\n",
    "som_bestand.close()\n",
    "\n",
    "toevoeg_bestand = open('fibo.txt', 'a')\n",
    "toevoeg_bestand.write(f\"De som is {som}\")\n",
    "toevoeg_bestand.close()"
   ]
  }
 ],
 "metadata": {
  "kernelspec": {
   "display_name": "Python 3 (ipykernel)",
   "language": "python",
   "name": "python3"
  },
  "language_info": {
   "codemirror_mode": {
    "name": "ipython",
    "version": 3
   },
   "file_extension": ".py",
   "mimetype": "text/x-python",
   "name": "python",
   "nbconvert_exporter": "python",
   "pygments_lexer": "ipython3",
   "version": "3.11.4"
  }
 },
 "nbformat": 4,
 "nbformat_minor": 5
}
