{
 "cells": [
  {
   "cell_type": "markdown",
   "metadata": {},
   "source": [
    "# Oefenzitting 4"
   ]
  },
  {
   "cell_type": "markdown",
   "metadata": {},
   "source": [
    "## 1. Interpreteren van code"
   ]
  },
  {
   "cell_type": "markdown",
   "metadata": {},
   "source": [
    "### Oefening 1.1"
   ]
  },
  {
   "cell_type": "markdown",
   "metadata": {},
   "source": [
    "De functie a heeft dezelfde naam als de parameter a in de functie b."
   ]
  },
  {
   "cell_type": "code",
   "execution_count": null,
   "metadata": {},
   "outputs": [],
   "source": [
    "def a(b,c):\n",
    "    d = b - c\n",
    "    return c - 1\n",
    "\n",
    "def b(a,c):\n",
    "    return a(a,a+c)\n",
    "\n",
    "print(b(3,9))"
   ]
  },
  {
   "cell_type": "markdown",
   "metadata": {},
   "source": [
    "### Oefening 1.2"
   ]
  },
  {
   "cell_type": "code",
   "execution_count": 2,
   "metadata": {},
   "outputs": [
    {
     "name": "stdout",
     "output_type": "stream",
     "text": [
      "16\n",
      "16\n"
     ]
    }
   ],
   "source": [
    "def func (k,l,m):\n",
    "    if k < l:\n",
    "        return m\n",
    "    else :\n",
    "        return k\n",
    "\n",
    "print (func(16,12,8))   # 16\n",
    "print (func(8,12,16))   # 16"
   ]
  },
  {
   "cell_type": "markdown",
   "metadata": {},
   "source": [
    "## 2. Probleemoplossend denken"
   ]
  },
  {
   "cell_type": "markdown",
   "metadata": {},
   "source": [
    "### Oefening 2.2"
   ]
  },
  {
   "cell_type": "code",
   "execution_count": 27,
   "metadata": {},
   "outputs": [
    {
     "name": "stdout",
     "output_type": "stream",
     "text": [
      "[5, 4, 3, 2]\n"
     ]
    }
   ],
   "source": [
    "def swap(lijst):\n",
    "\n",
    "    # Maak een kopie, want lijst is een referentie en anders passen we hem aan\n",
    "    toSwap = list(lijst)\n",
    "\n",
    "    toSwap[-1] = toSwap[0]\n",
    "\n",
    "    return toSwap\n",
    "\n",
    "def shift(lijst):\n",
    "\n",
    "    toShift = []\n",
    "    toShift.append(lijst[-1])\n",
    "\n",
    "    for i in range(len(lijst)-1):\n",
    "\n",
    "        toShift.append(lijst[i])\n",
    "\n",
    "    return toShift\n",
    "\n",
    "def replaceEvenWithZeros(lijst):\n",
    "\n",
    "    toReplace = list(lijst)\n",
    "\n",
    "    for i,getal in enumerate(toReplace):\n",
    "\n",
    "        if getal % 2 == 0:\n",
    "\n",
    "            toReplace[i] = 0\n",
    "\n",
    "    return toReplace\n",
    "\n",
    "def moveEvenToFront(lijst):\n",
    "\n",
    "    toMove = list(lijst)\n",
    "\n",
    "    even = []\n",
    "\n",
    "    for getal in lijst:\n",
    "\n",
    "        if getal % 2 == 0:\n",
    "\n",
    "            even.append(getal)\n",
    "            toMove.pop(toMove.index(getal))\n",
    "\n",
    "    return even + toMove\n",
    "\n",
    "def reverse(lijst):\n",
    "\n",
    "    toRevert = []\n",
    "\n",
    "    for i in range(1, len(lijst)+1):\n",
    "\n",
    "        toRevert.append(lijst[-i])\n",
    "    \n",
    "    return toRevert"
   ]
  },
  {
   "cell_type": "markdown",
   "metadata": {},
   "source": [
    "### Oefening 2.3"
   ]
  },
  {
   "cell_type": "code",
   "execution_count": 31,
   "metadata": {},
   "outputs": [
    {
     "name": "stdout",
     "output_type": "stream",
     "text": [
      "True\n"
     ]
    }
   ],
   "source": [
    "teControleren = [\n",
    "    [7,12,1,14],\n",
    "    [2,13,8,11],\n",
    "    [16,3,10,5],\n",
    "    [9,6,15,4]\n",
    "]\n",
    "\n",
    "def bevatAlleGetallen(matrix):\n",
    "\n",
    "    reedsOverlopen = set()\n",
    "\n",
    "    for rij in matrix:\n",
    "\n",
    "        for kolom in rij:\n",
    "\n",
    "            reedsOverlopen.add(kolom)\n",
    "\n",
    "    alleGetallen = set([x for x in range(1,17)])\n",
    "\n",
    "    if reedsOverlopen == alleGetallen:\n",
    "\n",
    "        return True\n",
    "    \n",
    "    else:\n",
    "\n",
    "        return False\n",
    "    \n",
    "def sommenZelfdeWaarde(matrix):\n",
    "\n",
    "    linkseDiagonaalSom = 0\n",
    "    rechtseDiagonaalSom = 0\n",
    "\n",
    "    for i in range(len(matrix)):\n",
    "\n",
    "        # Check of alle rijen een gelijke som hebben\n",
    "        if i != len(matrix)-1 and sum(matrix[i]) != sum(matrix[i+1]):\n",
    "\n",
    "            print('rij')\n",
    "            return False\n",
    "\n",
    "        kolomSom = 0\n",
    "\n",
    "        # Loop over rijen binnen de kolom\n",
    "        for r in range(len(matrix)):\n",
    "\n",
    "            kolomSom += matrix[r][i]\n",
    "\n",
    "        linkseDiagonaalSom += matrix[i][i]\n",
    "        rechtseDiagonaalSom += matrix[i][-i-1]\n",
    "\n",
    "        if kolomSom != sum(matrix[0]):\n",
    "\n",
    "            return False\n",
    "        \n",
    "    if linkseDiagonaalSom != sum(matrix[0]) or rechtseDiagonaalSom != sum(matrix[0]):\n",
    "\n",
    "        return False\n",
    "    \n",
    "    else:\n",
    "\n",
    "        return True\n",
    "\n",
    "def isMagischVierkant(matrix):\n",
    "    \n",
    "    if bevatAlleGetallen(matrix) and sommenZelfdeWaarde(matrix):\n",
    "\n",
    "        return True\n",
    "    \n",
    "    else:\n",
    "\n",
    "        return False\n",
    "    \n",
    "print(isMagischVierkant(teControleren))"
   ]
  },
  {
   "cell_type": "markdown",
   "metadata": {},
   "source": [
    "### Oefening 2.4"
   ]
  },
  {
   "cell_type": "code",
   "execution_count": 150,
   "metadata": {},
   "outputs": [
    {
     "name": "stdout",
     "output_type": "stream",
     "text": [
      "[5, 2, 3, 1, 5, 5, 1, 4, 6, 1, 5, 6, 5, 1, 4, 5, 5, 2, 3, 1]\n",
      "[5, 5]\n",
      "[5, 5] 3 1 5 5 1 4 6 1 5 6 5 1 4 5 5 2 3 1 "
     ]
    }
   ],
   "source": [
    "import random\n",
    "\n",
    "def genereerWorpen(aantal):\n",
    "\n",
    "    return [random.randint(1,6) for x in range(aantal)]\n",
    "\n",
    "def langsteReeks(lijst):\n",
    "\n",
    "    langsteReeks = [lijst[0]]\n",
    "    huidigeReeks = [lijst[0]]\n",
    "    vorigeWorp = 0\n",
    "\n",
    "    for worp in lijst:\n",
    "\n",
    "        # De worp behoort tot de huidige streak\n",
    "        if worp in huidigeReeks and vorigeWorp == worp:\n",
    "\n",
    "            # We voegen de worp toe aan de streak\n",
    "            huidigeReeks.append(worp)\n",
    "\n",
    "            # Als de lengte van de streak groter is dan de lengte van de langste, is de streak de nieuwe langste\n",
    "            if len(huidigeReeks) > len(langsteReeks):\n",
    "\n",
    "                langsteReeks.clear() \n",
    "                langsteReeks = list(huidigeReeks)\n",
    "                huidigeReeks.clear()\n",
    "\n",
    "        # De behoort niet tot de streak dus de streak is verbroken en gelijk aan een lijst met daarin de worp\n",
    "        else:\n",
    "\n",
    "            huidigeReeks = [worp]\n",
    "\n",
    "        # print(f\"Worp: {worp}\")\n",
    "        # print(f\"Huidige reeks: {huidigeReeks}\")\n",
    "        # print(f\"Langste reeks: {langsteReeks} \\n\")\n",
    "\n",
    "        # Sla de worp op voor de volgende iteratie\n",
    "        vorigeWorp = worp\n",
    "\n",
    "    return langsteReeks\n",
    "\n",
    "def beginVanReeks(index, lijst, reeks):\n",
    "\n",
    "    for i in range(len(reeks)-1):\n",
    "\n",
    "        if index+i < len(lijst) and lijst[index+i] != reeks[i]:\n",
    "\n",
    "            return False\n",
    "        \n",
    "    return True\n",
    "\n",
    "def printGemarkeerd(lijst, reeks):\n",
    "\n",
    "    i = 0\n",
    "    reedsGemarkeerd = False\n",
    "\n",
    "    while i < len(lijst):\n",
    "\n",
    "        if beginVanReeks(i, lijst, reeks) and not reedsGemarkeerd:\n",
    "\n",
    "            print(reeks, end=\" \")\n",
    "            i += len(reeks)\n",
    "            reedsGemarkeerd = True\n",
    "\n",
    "        else:\n",
    "\n",
    "            print(lijst[i], end=\" \")\n",
    "            i += 1\n",
    "            \n",
    "\n",
    "if __name__ == \"__main__\":\n",
    "\n",
    "    dobbelsteenworpen = genereerWorpen(20)\n",
    "\n",
    "    print(dobbelsteenworpen)\n",
    "    print(langsteReeks(dobbelsteenworpen))\n",
    "    printGemarkeerd(dobbelsteenworpen, langsteReeks(dobbelsteenworpen))"
   ]
  },
  {
   "cell_type": "markdown",
   "metadata": {},
   "source": [
    "### Oefening 2.5"
   ]
  },
  {
   "cell_type": "code",
   "execution_count": 185,
   "metadata": {},
   "outputs": [
    {
     "name": "stdout",
     "output_type": "stream",
     "text": [
      "900 90 9 \n",
      "999\n"
     ]
    }
   ],
   "source": [
    "def romeinsNaarDecimaal(romeins):\n",
    "\n",
    "    conversie = {\n",
    "        'I':1,\n",
    "        'V':5,\n",
    "        'X':10,\n",
    "        'L':50,\n",
    "        'C':100,\n",
    "        'D':500,\n",
    "        'M':1000,\n",
    "    }\n",
    "\n",
    "    decimaalGetal = 0\n",
    "\n",
    "    # letters = [letter.upper() for letter in romeins]\n",
    "    waardes = [conversie[letter.upper()] for letter in romeins]\n",
    "\n",
    "    # Normaal gezien worden de letters in volgorde van afnemende waarde geschreven\n",
    "    # Deze regel wordt doorbroken wanneer we getallen van elkaar aftrekken, zoals bv. bij IV = 4\n",
    "\n",
    "    i = 0\n",
    "\n",
    "    while i < len(waardes):\n",
    "\n",
    "        if i+1 < len(waardes) and waardes[i] < waardes[i+1]:\n",
    "\n",
    "            print(waardes[i+1]-waardes[i], end=\" \")\n",
    "            decimaalGetal += waardes[i+1]-waardes[i]\n",
    "            i += 2\n",
    "        \n",
    "        else:\n",
    "\n",
    "            print(waardes[i], end=\" \")\n",
    "            decimaalGetal += waardes[i]\n",
    "            i += 1\n",
    "\n",
    "    return decimaalGetal\n",
    "\n",
    "print(f\"\\n{romeinsNaarDecimaal(input('Geef een romeins getal: '))}\")"
   ]
  },
  {
   "cell_type": "markdown",
   "metadata": {},
   "source": [
    "### Oefening 2.6"
   ]
  },
  {
   "cell_type": "code",
   "execution_count": 192,
   "metadata": {},
   "outputs": [
    {
     "name": "stdout",
     "output_type": "stream",
     "text": [
      "(5*x^10) + (9*x^7) + (-1*x^1) + (-10*x^0) + "
     ]
    }
   ],
   "source": [
    "def nieuweVeelterm(coef, deg):\n",
    "\n",
    "    veelterm = {\n",
    "        deg: coef\n",
    "    }\n",
    "\n",
    "    return veelterm\n",
    "\n",
    "def addTerm(poly, coef, deg):\n",
    "\n",
    "    poly[deg] = coef\n",
    "\n",
    "def printVeelterm(veelterm):\n",
    "\n",
    "    for deg,coef in sorted(veelterm.items(), reverse=True):\n",
    "\n",
    "        print(f\"({coef}*x^{deg})\", end=\" + \")\n",
    "\n",
    "if __name__ == '__main__':\n",
    "\n",
    "    p = nieuweVeelterm(-10,0)\n",
    "    addTerm(p, -1, 1)\n",
    "    addTerm(p, 9, 7)\n",
    "    addTerm(p, 5, 10)\n",
    "    printVeelterm(p)"
   ]
  },
  {
   "cell_type": "markdown",
   "metadata": {},
   "source": [
    "## 3. UOVT"
   ]
  },
  {
   "cell_type": "markdown",
   "metadata": {},
   "source": [
    "### Oefening 3.1"
   ]
  },
  {
   "cell_type": "code",
   "execution_count": 206,
   "metadata": {},
   "outputs": [
    {
     "name": "stdout",
     "output_type": "stream",
     "text": [
      "         ;\n",
      "        ;;;\n",
      "       ;;;;;\n",
      "      ;;;;;;;\n",
      "     ;;;;;;;;;\n",
      "    ;;;;;;;;;;;\n",
      "   ;;;;;;;;;;;;;\n",
      "  ;;;;;;;;;;;;;;;\n",
      " ;;;;;;;;;;;;;;;;;\n",
      ";;;;;;;;;;;;;;;;;;;\n"
     ]
    }
   ],
   "source": [
    "   #\n",
    "  ###\n",
    " #####\n",
    "#######\n",
    "\n",
    "def bouwPiramide(hoogte, symbool='\"'):\n",
    "\n",
    "    # De breedte is sowieso oneven\n",
    "    breedteBasis = 1 + 2*(hoogte-1)\n",
    "    \n",
    "    spaties = int((breedteBasis - 1) / 2)\n",
    "\n",
    "    for i in range(1,hoogte+1):\n",
    "\n",
    "        print(\" \" * spaties + symbool*(2*i-1))\n",
    "        spaties -= 1\n",
    "\n",
    "if __name__ == \"__main__\":\n",
    "\n",
    "    bouwPiramide(10,';')"
   ]
  },
  {
   "cell_type": "markdown",
   "metadata": {},
   "source": [
    "### Oefening 3.2"
   ]
  },
  {
   "cell_type": "code",
   "execution_count": null,
   "metadata": {},
   "outputs": [],
   "source": [
    "def createDocWithLineNumbers(bestaandDocument, nieuwDocument):\n",
    "\n",
    "    bestaand = open(bestaandDocument, 'r')\n",
    "    nieuw = open(str(nieuwDocument), 'w')\n",
    "\n",
    "    i = 1\n",
    "\n",
    "    for lijn in bestaand.readlines():\n",
    "\n",
    "        nieuw.write(f\"/* {i:<3} */ {lijn}\")\n",
    "        i += 1\n",
    "\n",
    "    nieuw.close()\n",
    "    bestaand.close()\n",
    "\n",
    "if __name__ == \"__main__\":\n",
    "\n",
    "    bestaand = input(\"Wat is de naam van het bestaande document? \")\n",
    "    nieuw = input(\"Hoe moet het nieuwe document heten? \")\n",
    "    createDocWithLineNumbers(bestaand, nieuw)"
   ]
  },
  {
   "cell_type": "markdown",
   "metadata": {},
   "source": [
    "### Oefening 3.3"
   ]
  },
  {
   "cell_type": "code",
   "execution_count": 242,
   "metadata": {},
   "outputs": [
    {
     "name": "stdout",
     "output_type": "stream",
     "text": [
      "Verwerkte zin: 'Java is crazy.' \n",
      "Grootte nieuwe woordenschat: 3\n",
      "Nieuwe woorden toegevoegd: ['java', 'is', 'crazy']\n",
      "Verwerkte zin: 'Python is really crazy!' \n",
      "Grootte nieuwe woordenschat: 5\n",
      "Nieuwe woorden toegevoegd: ['python', 'really']\n",
      "KLAAR\n",
      "{'java': 1, 'is': 2, 'crazy': 2, 'python': 1, 'really': 1}\n"
     ]
    }
   ],
   "source": [
    "import string\n",
    "\n",
    "def cleanWord(w):\n",
    "\n",
    "    return w.lower().strip(string.punctuation)\n",
    "\n",
    "def getWoorden(regel):\n",
    "\n",
    "    cleaned = cleanWord(regel)\n",
    "    return cleaned.split()\n",
    "\n",
    "def leesBestand(naam):\n",
    "\n",
    "    bestand = open(naam, 'r')\n",
    "    regels = list()\n",
    "\n",
    "    for regel in bestand.readlines():\n",
    "        regels.append(regel)\n",
    "        \n",
    "    return regels\n",
    "\n",
    "def woordenschat(bestand):\n",
    "\n",
    "    regels = leesBestand(bestand)\n",
    "\n",
    "    aantalRegels = len(regels)\n",
    "\n",
    "    woordenlijst = dict()\n",
    "\n",
    "    for regel in regels:\n",
    "\n",
    "        print(f\"Verwerkte zin: '{regel.strip()}' \")\n",
    "\n",
    "        woorden = getWoorden(regel.strip())\n",
    "\n",
    "        nieuweWoorden = []\n",
    "\n",
    "        alOpgeteld = []\n",
    "\n",
    "        for woord in woorden:\n",
    "\n",
    "            if woord not in woordenlijst:\n",
    "\n",
    "                nieuweWoorden.append(woord)\n",
    "                woordenlijst[woord] = 1\n",
    "                alOpgeteld.append(woord)\n",
    "\n",
    "            if woord not in alOpgeteld:\n",
    "\n",
    "                woordenlijst[woord] += 1\n",
    "                alOpgeteld.append(woord)\n",
    "\n",
    "        print(f\"Grootte nieuwe woordenschat: {len(woordenlijst)}\")\n",
    "        print(f\"Nieuwe woorden toegevoegd: {nieuweWoorden}\")\n",
    "\n",
    "    print(\"KLAAR\")\n",
    "\n",
    "    komenVaakVoor = list()\n",
    "\n",
    "    for woord in woordenlijst:\n",
    "\n",
    "        if woordenlijst[woord]/aantalRegels > 0.5:\n",
    "\n",
    "            komenVaakVoor.append(woord)\n",
    "\n",
    "    print(komenVaakVoor)\n",
    "\n",
    "\n",
    "woordenschat('woordenschat.txt')"
   ]
  },
  {
   "cell_type": "markdown",
   "metadata": {},
   "source": []
  }
 ],
 "metadata": {
  "kernelspec": {
   "display_name": "base",
   "language": "python",
   "name": "python3"
  },
  "language_info": {
   "codemirror_mode": {
    "name": "ipython",
    "version": 3
   },
   "file_extension": ".py",
   "mimetype": "text/x-python",
   "name": "python",
   "nbconvert_exporter": "python",
   "pygments_lexer": "ipython3",
   "version": "3.11.4"
  }
 },
 "nbformat": 4,
 "nbformat_minor": 2
}
