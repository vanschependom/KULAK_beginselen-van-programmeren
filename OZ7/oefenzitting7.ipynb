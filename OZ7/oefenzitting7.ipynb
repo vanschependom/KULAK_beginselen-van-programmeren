{
 "cells": [
  {
   "cell_type": "markdown",
   "metadata": {},
   "source": [
    "# Oefenzitting 7"
   ]
  },
  {
   "cell_type": "markdown",
   "metadata": {},
   "source": [
    "## 1. Probleemoplossend denken"
   ]
  },
  {
   "cell_type": "markdown",
   "metadata": {},
   "source": [
    "### Oefening 1.1"
   ]
  },
  {
   "cell_type": "markdown",
   "metadata": {},
   "source": [
    "Afgewerkt in OZ6."
   ]
  },
  {
   "cell_type": "markdown",
   "metadata": {},
   "source": [
    "### Oefenzitting 1.2"
   ]
  },
  {
   "cell_type": "markdown",
   "metadata": {},
   "source": [
    "Om de minimale afstand tussen twee punten op een wegenkaart te vinden, kunnen we exhaustief alle paden genereren tussen de twee punten.\n",
    "Daarna selecteren we het pad met de kortste lengte. Een stratennetwerken worden in de computerwetenschappen gemoddeleerd als grafen, waarbij de kruispunten de toppen geven en de straat segementen de bogen. Zoek recursief voor het stratenplan de kortste afstand tussen A en G. De afstand tussen elke naburige kruispunten wordt gegeven door de buurmatrix horende bij de graaf."
   ]
  },
  {
   "cell_type": "code",
   "execution_count": 37,
   "metadata": {},
   "outputs": [
    {
     "name": "stdout",
     "output_type": "stream",
     "text": [
      "6 [0, 1, 2, 4]\n",
      "5 [0, 1, 2, 5]\n",
      "12 [0, 1, 4, 2, 5]\n",
      "7 [0, 1, 4]\n",
      "9 [0, 2, 1, 4]\n",
      "6 [0, 2, 4]\n",
      "5 [0, 2, 5]\n",
      "8 [0, 3, 5]\n",
      "De kortste weg is 5.\n"
     ]
    }
   ],
   "source": [
    "buurmatrix = [[0, 1, 2, 1, None , None , None],\n",
    "              [1, 0, 1, None , 5, None , None],\n",
    "              [2, 1, 0, None , 3, 1, None],\n",
    "              [1, None , None , 0, None , 5, None],\n",
    "              [None , 5, 3, 0, None , None , 1],\n",
    "              [None , None , None , 5, None , 0, 2],\n",
    "              [None , None , None , None , 1, 2, 0]]\n",
    "\n",
    "# we zoeken alle paden van begin naar eind met recursie\n",
    "def genereerWegen(start, eind, buurmatrix, huidigPad=[]):\n",
    "\n",
    "    # we returnen een lijst met tupels (lengte, [startknoop, eindknoop])\n",
    "\n",
    "    # triviaal geval\n",
    "    if start == eind:\n",
    "        return [(0,huidigPad)]\n",
    "    \n",
    "    # initialiseer huidigPad lijst\n",
    "    huidigPad.append(start)\n",
    "\n",
    "    output = list()\n",
    "\n",
    "    for buurknoop, afstand in enumerate(buurmatrix[start]):\n",
    "\n",
    "        # dit zijn de mogelijke buren waar we naartoe kunnen\n",
    "        # buren die we eerder al bezocht hebben, gaan we niet meer opnieuw bezoeken\n",
    "        if afstand != None and afstand != 0 and buurknoop not in huidigPad:\n",
    "\n",
    "            # genereer de volgende paden (die vertrekken in een buurknoop en eindigen in de eindknoop)\n",
    "            volgendePaden = genereerWegen(buurknoop, eind, buurmatrix, list(huidigPad))\n",
    "\n",
    "            for volgendeAfstand, volgendPad in volgendePaden:\n",
    "                output.append((volgendeAfstand+afstand, volgendPad))\n",
    "\n",
    "    return output\n",
    "\n",
    "wegen = genereerWegen(0,6,buurmatrix)\n",
    "kortsteWeg = 10000000\n",
    "\n",
    "for afstand,weg in wegen:\n",
    "\n",
    "    if afstand < kortsteWeg:\n",
    "        kortsteWeg = afstand\n",
    "    print(afstand,weg)\n",
    "\n",
    "print(f\"De kortste weg is {kortsteWeg}.\")"
   ]
  },
  {
   "cell_type": "markdown",
   "metadata": {},
   "source": [
    "### Oefening 1.3"
   ]
  },
  {
   "cell_type": "markdown",
   "metadata": {},
   "source": [
    "Schrijf een recursieve functie die gegeven een lijst van woorden (strings) alle mogelijke zinnen genereert die uit exact deze woorden bestaan:<br> `[\"ik\", \"programmeer\", \"graag\"]`."
   ]
  },
  {
   "cell_type": "code",
   "execution_count": 45,
   "metadata": {},
   "outputs": [
    {
     "data": {
      "text/plain": [
       "['ik programmeer graag',\n",
       " 'ik graag programmeer',\n",
       " 'programmeer ik graag',\n",
       " 'programmeer graag ik',\n",
       " 'graag ik programmeer',\n",
       " 'graag programmeer ik']"
      ]
     },
     "execution_count": 45,
     "metadata": {},
     "output_type": "execute_result"
    }
   ],
   "source": [
    "strings = [\"ik\", \"programmeer\", \"graag\"]\n",
    "\n",
    "def alleZinnen(strings):\n",
    "\n",
    "    if len(strings) == 1:\n",
    "\n",
    "        return strings\n",
    "    \n",
    "    # plak het eerste woord voor alle andere woorden\n",
    "    output = []\n",
    "\n",
    "    # itereer over elk woord in strings\n",
    "    for i, string in enumerate(strings):\n",
    "\n",
    "        # de lijst van woorden zonder het huidige woord\n",
    "        stringsZonderHuidige = list(strings)\n",
    "        stringsZonderHuidige.pop(i)\n",
    "\n",
    "        # de zinnen waarvoor we het huidige woord zullen plakken\n",
    "        andereZinnen = alleZinnen(stringsZonderHuidige)\n",
    "\n",
    "        # plak het huidige woord aan de combinaties van de andere woorden\n",
    "        for andereZin in andereZinnen:\n",
    "\n",
    "            # schrijf het weg\n",
    "            output.append(string + \" \" + andereZin)\n",
    "        \n",
    "    return output\n",
    "    \n",
    "alleZinnen(strings)"
   ]
  },
  {
   "cell_type": "markdown",
   "metadata": {},
   "source": [
    "### Oefening 1.4"
   ]
  },
  {
   "cell_type": "markdown",
   "metadata": {},
   "source": [
    "Schrijf een recursieve functie `geneerZinnen` met twee argumenten.<br>\n",
    "<ul>\n",
    "<li>Het eerste argument is een dictionary met als keys strings en met als value hun functie in een zin.</li>\n",
    "<li>Het tweede argument is een zinskelet dat een zin de nieert als een lijst van zinfuncties.</li>\n",
    "</ul>"
   ]
  },
  {
   "cell_type": "code",
   "execution_count": 64,
   "metadata": {},
   "outputs": [
    {
     "name": "stdout",
     "output_type": "stream",
     "text": [
      "de tafel staat op de tafel\n",
      "de tafel staat op de appel\n",
      "de tafel staat naast de tafel\n",
      "de tafel staat naast de appel\n",
      "de tafel ligt op de tafel\n",
      "de tafel ligt op de appel\n",
      "de tafel ligt naast de tafel\n",
      "de tafel ligt naast de appel\n",
      "de appel staat op de tafel\n",
      "de appel staat op de appel\n",
      "de appel staat naast de tafel\n",
      "de appel staat naast de appel\n",
      "de appel ligt op de tafel\n",
      "de appel ligt op de appel\n",
      "de appel ligt naast de tafel\n",
      "de appel ligt naast de appel\n"
     ]
    }
   ],
   "source": [
    "woordenDict = {\n",
    "    \"de tafel\": \"substantief\", \n",
    "    \"de appel\": \"substantief\", \n",
    "    \"staat\": \"werkwoord\",\n",
    "    \"ligt\": \"werkwoord\", \n",
    "    \"op\": \"voorzetsel\", \n",
    "    \"naast\": \"voorzetsel\"\n",
    " }\n",
    "\n",
    "zinSkelet = [\"substantief\", \"werkwoord\", \"voorzetsel\", \"substantief\"]\n",
    "\n",
    "def genereerZinnen(woordenDict, zinSkelet):\n",
    "\n",
    "    # alle mogelijkheden voor het eerste woord in de zin\n",
    "    eersteWoorden = []\n",
    "    for woord,functie in woordenDict.items():\n",
    "        if functie == zinSkelet[0]:\n",
    "            eersteWoorden.append(woord)\n",
    "\n",
    "    # als de lengte van de zin 1 moet zijn, dan returnen we gewoon alle mogelijkheden van hierboven\n",
    "    if len(zinSkelet) == 1:\n",
    "        return eersteWoorden\n",
    "\n",
    "    output = []\n",
    "\n",
    "    # overloop elk eerst woord in de mogelijkheden voor het eerste woord\n",
    "    for eersteWoord in eersteWoorden:\n",
    "\n",
    "        # genereer de volgende zinnen\n",
    "        volgendeZinnen = genereerZinnen(woordenDict,zinSkelet[1:])\n",
    "\n",
    "        # overloop elke volgende zin, zodat we het eerste woord ervoor kunnen plakken\n",
    "        for volgendeZin in volgendeZinnen:\n",
    "\n",
    "            # plak het eerste woord voor de volgende zin\n",
    "            output.append(eersteWoord + \" \" +  volgendeZin)\n",
    "\n",
    "    return output\n",
    "\n",
    "# print de output\n",
    "zinnen = genereerZinnen(woordenDict,zinSkelet)\n",
    "for zin in zinnen:\n",
    "    print(zin)"
   ]
  },
  {
   "cell_type": "markdown",
   "metadata": {},
   "source": [
    "Uitbreiding: zorg ervoor dat elk element uit de dictionary maximaal 1 keer gebruikt wordt. _'De appel staat op de appel'_ mag dus niet meer gegenereerd worden."
   ]
  },
  {
   "cell_type": "code",
   "execution_count": null,
   "metadata": {},
   "outputs": [],
   "source": [
    "woordenDict = {\n",
    "    \"de tafel\": \"substantief\", \n",
    "    \"de appel\": \"substantief\", \n",
    "    \"staat\": \"werkwoord\",\n",
    "    \"ligt\": \"werkwoord\", \n",
    "    \"op\": \"voorzetsel\", \n",
    "    \"naast\": \"voorzetsel\"\n",
    " }\n",
    "\n",
    "zinSkelet = [\"substantief\", \"werkwoord\", \"voorzetsel\", \"substantief\"]\n",
    "\n",
    "def genereerZinnen(woordenDict, zinSkelet):\n",
    "\n",
    "    eersteWoorden = []\n",
    "    for woord,functie in woordenDict.items():\n",
    "        if functie == zinSkelet[0]:\n",
    "            eersteWoorden.append(woord)\n",
    "\n",
    "    if len(zinSkelet) == 1:\n",
    "\n",
    "        return eersteWoorden\n",
    "\n",
    "    output = []\n",
    "\n",
    "    for eersteWoord in eersteWoorden:\n",
    "\n",
    "        # we maken een nieuwe dictionary\n",
    "        # deze dictionary bevat het woord dat we gebruiken (eersteWoord) niet meer\n",
    "        nieuweDict = dict(woordenDict)\n",
    "        del nieuweDict[eersteWoord]\n",
    "\n",
    "        # we genereren de volgende zinnen met de nieuwe dictionary nieuweDict ipv de oude woordenDict\n",
    "        volgendeZinnen = genereerZinnen(nieuweDict,zinSkelet[1:])\n",
    "\n",
    "        for volgendeZin in volgendeZinnen:\n",
    "\n",
    "            output.append(eersteWoord + \" \" +  volgendeZin)\n",
    "\n",
    "    return output\n",
    "\n",
    "zinnen = genereerZinnen(woordenDict,zinSkelet)\n",
    "\n",
    "for zin in zinnen:\n",
    "\n",
    "    print(zin)"
   ]
  },
  {
   "cell_type": "markdown",
   "metadata": {},
   "source": [
    "## 2. UOVT"
   ]
  },
  {
   "cell_type": "markdown",
   "metadata": {},
   "source": [
    "Schrijf een programma dat recursief een sudoku oplost. De initiele sudoku kan voorgesteld worden als een lijst van lijsten."
   ]
  },
  {
   "cell_type": "code",
   "execution_count": 89,
   "metadata": {},
   "outputs": [
    {
     "name": "stdout",
     "output_type": "stream",
     "text": [
      "-------------------------------------\n",
      "| 1 |   |   |   |   |   |   |   | 6 | \n",
      "-------------------------------------\n",
      "|   |   | 6 |   | 2 |   | 7 |   |   | \n",
      "-------------------------------------\n",
      "| 7 | 8 | 9 | 4 | 5 |   | 1 |   | 3 | \n",
      "-------------------------------------\n",
      "|   |   |   | 8 |   | 7 |   |   | 4 | \n",
      "-------------------------------------\n",
      "|   |   |   |   | 3 |   |   |   |   | \n",
      "-------------------------------------\n",
      "|   | 9 |   |   |   | 4 | 2 |   | 1 | \n",
      "-------------------------------------\n",
      "| 3 | 1 | 2 | 9 | 7 |   |   | 4 |   | \n",
      "-------------------------------------\n",
      "|   | 4 |   |   | 1 | 2 |   | 7 | 8 | \n",
      "-------------------------------------\n",
      "| 9 |   | 8 |   |   |   |   |   |   | \n",
      "-------------------------------------\n",
      "{8, 3, 4, 7}\n",
      "{1, 3, 4, 5, 7, 8, 9}\n"
     ]
    }
   ],
   "source": [
    "sudoku = [\n",
    "    [1, None, None, None, None, None, None, None, 6],\n",
    "    [None, None, 6, None, 2, None, 7, None, None],\n",
    "    [7, 8, 9, 4, 5, None, 1, None, 3],\n",
    "    [None, None, None, 8, None, 7, None, None, 4],\n",
    "    [None, None, None, None, 3, None, None, None, None],\n",
    "    [None, 9, None, None, None, 4, 2, None, 1],\n",
    "    [3, 1, 2, 9, 7, None, None, 4, None],\n",
    "    [None, 4, None, None, 1, 2, None, 7, 8],\n",
    "    [9, None, 8, None, None, None, None, None, None]\n",
    "]\n",
    "\n",
    "#print het bord af\n",
    "for i in range(len(sudoku)):\n",
    "\n",
    "    lijn = \"| \"\n",
    "\n",
    "    for j in range(len(sudoku)):\n",
    "\n",
    "        if sudoku[i][j] == None:\n",
    "\n",
    "            lijn += \"  | \"\n",
    "\n",
    "        else:\n",
    "\n",
    "            lijn += str(sudoku[i][j]) + \" | \"\n",
    "\n",
    "    print(\"-------------------------------------\")\n",
    "    print(lijn)\n",
    "\n",
    "print(\"-------------------------------------\")\n",
    "\n",
    "# return de coordinaten van een groot kotje\n",
    "def niner(co):\n",
    "\n",
    "    rij = co[0]\n",
    "    kolom = co[1]\n",
    "\n",
    "    return (rij // 3, kolom // 3)\n",
    "\n",
    "# return de getallen in een vierkant van 9 kotjes\n",
    "def getallenInNiner(coNiner, sudoku):\n",
    "\n",
    "    beginRij = coNiner[0] * 3\n",
    "    beginKolom = coNiner[1] * 3\n",
    "\n",
    "    getallen = set()\n",
    "\n",
    "    for i in range(beginRij, beginRij + 3):\n",
    "\n",
    "        for j in range(beginKolom, beginKolom + 3):\n",
    "\n",
    "            if sudoku[i][j] != None:\n",
    "                getallen.add(sudoku[i][j])\n",
    "\n",
    "    return getallen\n",
    "\n",
    "# return een set met alle getallen op een bepaalde kolom\n",
    "def getallenOpKolom(kolom,sudoku):\n",
    "\n",
    "    getallen = set()\n",
    "\n",
    "    for i in range(len(sudoku)):\n",
    "\n",
    "        if sudoku[i][kolom] != None:\n",
    "\n",
    "            getallen.add(sudoku[i][kolom])\n",
    "\n",
    "    return getallen\n",
    "\n",
    "# return een set met alle getallen op een bepaalde rij\n",
    "def getallenOpRij(rij,sudoku):\n",
    "\n",
    "    getallen = set()\n",
    "\n",
    "    for i in range(len(sudoku)):\n",
    "\n",
    "        if sudoku[rij][i] != None:\n",
    "\n",
    "            getallen.add(sudoku[rij][i])\n",
    "\n",
    "    return getallen\n",
    "\n",
    "coNiner = niner((5,3))\n",
    "\n",
    "print(getallenInNiner(coNiner,sudoku))\n",
    "\n",
    "print(getallenOpRij(2,sudoku))"
   ]
  }
 ],
 "metadata": {
  "kernelspec": {
   "display_name": "base",
   "language": "python",
   "name": "python3"
  },
  "language_info": {
   "codemirror_mode": {
    "name": "ipython",
    "version": 3
   },
   "file_extension": ".py",
   "mimetype": "text/x-python",
   "name": "python",
   "nbconvert_exporter": "python",
   "pygments_lexer": "ipython3",
   "version": "3.11.4"
  }
 },
 "nbformat": 4,
 "nbformat_minor": 2
}
