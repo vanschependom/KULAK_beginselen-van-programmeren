{
 "cells": [
  {
   "cell_type": "markdown",
   "id": "b114c44b",
   "metadata": {},
   "source": [
    "# Foutmeldingen\n",
    "\n",
    "In deze notebook worden verschillende veel voorkomen foutmeldingen besproken. Een goed begrip van deze meldingen kan ervoor zorgen dat je efficienter fouten uit je code kan halen.\n",
    "\n",
    "Elk stukje code hieronder bevat een fout. Lees aandachtig de foutmelding en probeer de fout recht te zetten."
   ]
  },
  {
   "cell_type": "markdown",
   "id": "70261f29",
   "metadata": {},
   "source": [
    "## Name ... not defined"
   ]
  },
  {
   "cell_type": "code",
   "execution_count": 1,
   "id": "618572d6",
   "metadata": {},
   "outputs": [
    {
     "name": "stdout",
     "output_type": "stream",
     "text": [
      "welkom Patrick\n"
     ]
    }
   ],
   "source": [
    "  \n",
    "def genereer_welkomst_bericht(naam):\n",
    "    return f\"welkom {naam}\"\n",
    "\n",
    "if __name__ == \"__main__\":\n",
    "    print(genereer_welkomst_bericht(\"Patrick\"))"
   ]
  },
  {
   "cell_type": "code",
   "execution_count": 2,
   "id": "5729b1ce",
   "metadata": {},
   "outputs": [],
   "source": [
    "import numpy as np\n",
    "straal = 4\n",
    "oppervlakte_cirkel = np.pi*straal**2"
   ]
  },
  {
   "cell_type": "code",
   "execution_count": 4,
   "id": "4e0679a7",
   "metadata": {},
   "outputs": [
    {
     "name": "stdout",
     "output_type": "stream",
     "text": [
      "oppervlakte cirkel is 50.26548245743669\n",
      "omtrek cirkel is 25.132741228718345\n"
     ]
    }
   ],
   "source": [
    "import numpy as np\n",
    "\n",
    "straal = 4\n",
    "oppervlakte_cirkel = np.pi*straal**2\n",
    "omtrek_cirkel = 2*straal*np.pi\n",
    "print(f\"oppervlakte cirkel is {oppervlakte_cirkel}\")\n",
    "print(f\"omtrek cirkel is {omtrek_cirkel}\")"
   ]
  },
  {
   "cell_type": "markdown",
   "id": "0147cd96",
   "metadata": {},
   "source": [
    "## Not hashable\n",
    "\n",
    "Je moet een **hash-functie** kunnen toepassen op de elementen van een set en de keys van een dictionary. De hash-functie zorgt ervoor dat er snel gecheckt kan worden of element in de set zit en wat de value is die hoort bij een bepaalde key.\n",
    "\n",
    "Weet dat `int` en `str` hashable zijn, terwijl lijsten dit niet zijn. "
   ]
  },
  {
   "cell_type": "code",
   "execution_count": 5,
   "id": "81a8a48b",
   "metadata": {},
   "outputs": [],
   "source": [
    "studenten_m = [\"Joris\", \"Piet\", \"Corneel\"]\n",
    "set_studenten = set(studenten_m)\n",
    "\n",
    "studenten_v = [\"Merlinda\", \"Suzanne\", \"Merel\"]\n",
    "for student_v in studenten_v:\n",
    "    set_studenten.add(student_v)"
   ]
  },
  {
   "cell_type": "markdown",
   "id": "89627bc8",
   "metadata": {},
   "source": [
    "## Out of range"
   ]
  },
  {
   "cell_type": "code",
   "execution_count": 7,
   "id": "31ab5f14",
   "metadata": {},
   "outputs": [
    {
     "name": "stdout",
     "output_type": "stream",
     "text": [
      "Arctic Monkeys - 505\n",
      "Arctic Monkeys - When the Sun Goes Down\n",
      "Franz Ferdinand - This Fire\n",
      "Franz Ferdinand - Take Me Out\n",
      "The Killers - Human\n"
     ]
    }
   ],
   "source": [
    "favoriete_muziek = {\"Arctic Monkeys\": ['505', 'When the Sun Goes Down'], \"Franz Ferdinand\": ['This Fire', 'Take Me Out'],\n",
    "                   \"The Killers\": [\"Human\"]}\n",
    "\n",
    "for band in favoriete_muziek:\n",
    "    song_idx = 0\n",
    "    while song_idx < len(favoriete_muziek[band]):\n",
    "        print(f\"{band} - {favoriete_muziek[band][song_idx]}\")\n",
    "        song_idx += 1\n",
    "    \n",
    "# PS: Zorg ervoor dat the killers ook correct worden afgeprint"
   ]
  },
  {
   "cell_type": "code",
   "execution_count": 9,
   "id": "f7743827",
   "metadata": {},
   "outputs": [
    {
     "name": "stdout",
     "output_type": "stream",
     "text": [
      "Vecht met de draak\n",
      "Ga gang binnen\n",
      "Ga gang binnen\n",
      "Drink toverdrank\n",
      "Loop snel weg\n",
      "Loop snel weg\n",
      "Gooi dobbelsteen opnieuw\n",
      "Ga gang binnen\n",
      "Pluk fruit van de boom\n",
      "Gooi dobbelsteen opnieuw\n"
     ]
    }
   ],
   "source": [
    "import random\n",
    "acties_bij_dobbelsteen_worp = [\"Ga gang binnen\", \"Drink toverdrank\", \"Loop snel weg\", \n",
    "                               \"Vecht met de draak\", \"Gooi dobbelsteen opnieuw\", \"Pluk fruit van de boom\"]\n",
    "\n",
    "for i in range(10):\n",
    "    print(acties_bij_dobbelsteen_worp[random.randint(1,6)-1])"
   ]
  },
  {
   "cell_type": "markdown",
   "id": "8f6fdfed",
   "metadata": {},
   "source": [
    "## Type-fouten\n",
    "\n",
    "Let altijd op het datatype. Dit bepaald mee wat met een bepaalde variabele kan gedaan worden."
   ]
  },
  {
   "cell_type": "code",
   "execution_count": 12,
   "id": "16ce0a08",
   "metadata": {},
   "outputs": [
    {
     "name": "stdout",
     "output_type": "stream",
     "text": [
      "Geef een staal in: 5\n",
      "De omtrek van de cirkel is 31.41592653589793\n"
     ]
    }
   ],
   "source": [
    "import numpy as np\n",
    "straal = float(input(\"Geef een staal in: \"))\n",
    "omtrek = np.pi*straal*2\n",
    "print(\"De omtrek van de cirkel is \" + str(omtrek))"
   ]
  },
  {
   "cell_type": "markdown",
   "id": "f62d11e4",
   "metadata": {},
   "source": [
    "## Indentatie fouten"
   ]
  },
  {
   "cell_type": "code",
   "execution_count": 18,
   "id": "7d1f4788",
   "metadata": {},
   "outputs": [
    {
     "name": "stdout",
     "output_type": "stream",
     "text": [
      "{'Eels', 'Franz Ferdinand', 'Elvis Presley', 'Arctic Monkeys'}\n",
      "{'We Are The Champions', 'When the Sun Goes Down', 'Take Me Out', '505', \"Can't Help Falling in Love\", 'This Fire'}\n"
     ]
    }
   ],
   "source": [
    "# Print de unieke band en song namen\n",
    "\n",
    "favoriete_muziek = {\"Arctic Monkeys\": ['505', 'When the Sun Goes Down'], \"Franz Ferdinand\": ['This Fire', 'Take Me Out'],\n",
    "                   \"Eels\": [\"Can't Help Falling in Love\"], \"Elvis Presley\": [\"Can't Help Falling in Love\", \"We Are The Champions\"]}\n",
    "\n",
    "unieke_band_namen = set()\n",
    "unieke_song_namen = set()\n",
    "\n",
    "for band in favoriete_muziek:\n",
    "    \n",
    "    for song in favoriete_muziek[band]:\n",
    "        unieke_song_namen.add(song)\n",
    "    unieke_band_namen.add(band)\n",
    "\n",
    "print(unieke_band_namen)\n",
    "print(unieke_song_namen)\n",
    "\n",
    "# Naast indentatie, denk ook verder na over eventueel andere fouten of inefficienties."
   ]
  },
  {
   "cell_type": "markdown",
   "id": "341545cf",
   "metadata": {},
   "source": [
    "## Not callable\n",
    "\n",
    "Enkel functies zijn *oproepbaar*."
   ]
  },
  {
   "cell_type": "code",
   "execution_count": 19,
   "id": "4a881474",
   "metadata": {},
   "outputs": [
    {
     "name": "stdout",
     "output_type": "stream",
     "text": [
      "Ik luister graag muziek\n"
     ]
    }
   ],
   "source": [
    "out_str = \"Ik luister graag muziek\"\n",
    "print(out_str)\n",
    "\n",
    "# Om te verifieren dat de aanpassing effect heeft, moet je mogelijk de kernel herstarten\n",
    "# Kernel -> Restart\n"
   ]
  },
  {
   "cell_type": "code",
   "execution_count": 20,
   "id": "66c59a0c",
   "metadata": {},
   "outputs": [
    {
     "name": "stdout",
     "output_type": "stream",
     "text": [
      "De lengte van het bericht is: 43\n"
     ]
    }
   ],
   "source": [
    "bericht = \"De chambrangs worden geplaatst rond de deur\"\n",
    "bericht = bericht.upper()\n",
    "print(f\"De lengte van het bericht is: {len(bericht)}\")"
   ]
  },
  {
   "cell_type": "code",
   "execution_count": null,
   "id": "7ca5d51c",
   "metadata": {},
   "outputs": [],
   "source": []
  }
 ],
 "metadata": {
  "kernelspec": {
   "display_name": "Python 3 (ipykernel)",
   "language": "python",
   "name": "python3"
  },
  "language_info": {
   "codemirror_mode": {
    "name": "ipython",
    "version": 3
   },
   "file_extension": ".py",
   "mimetype": "text/x-python",
   "name": "python",
   "nbconvert_exporter": "python",
   "pygments_lexer": "ipython3",
   "version": "3.9.12"
  }
 },
 "nbformat": 4,
 "nbformat_minor": 5
}
