{
 "cells": [
  {
   "cell_type": "markdown",
   "id": "b114c44b",
   "metadata": {},
   "source": [
    "# Foutmeldingen\n",
    "\n",
    "In deze notebook worden verschillende veel voorkomen foutmeldingen besproken. Een goed begrip van deze meldingen kan ervoor zorgen dat je efficienter fouten uit je code kan halen.\n",
    "\n",
    "Elk stukje code hieronder bevat een fout. Lees aandachtig de foutmelding en probeer de fout recht te zetten."
   ]
  },
  {
   "cell_type": "markdown",
   "id": "70261f29",
   "metadata": {},
   "source": [
    "## Name ... not defined"
   ]
  },
  {
   "cell_type": "code",
   "execution_count": 22,
   "id": "618572d6",
   "metadata": {},
   "outputs": [
    {
     "name": "stdout",
     "output_type": "stream",
     "text": [
      "welkom Patrick\n"
     ]
    }
   ],
   "source": [
    "  \n",
    "def genereer_welkomst_bericht(naam):\n",
    "    return f\"welkom {naam}\"\n",
    "\n",
    "if __name__ == \"__main__\":\n",
    "    # print(genereer_welkomstbericht(\"Patrick\"))\n",
    "    print(genereer_welkomst_bericht(\"Patrick\"))"
   ]
  },
  {
   "cell_type": "code",
   "execution_count": 23,
   "id": "5729b1ce",
   "metadata": {},
   "outputs": [],
   "source": [
    "import numpy as np\n",
    "straal = 4\n",
    "oppervlakte_cirkel = np.pi*straal**2"
   ]
  },
  {
   "cell_type": "code",
   "execution_count": 24,
   "id": "4e0679a7",
   "metadata": {},
   "outputs": [
    {
     "name": "stdout",
     "output_type": "stream",
     "text": [
      "oppervlakte cirkel is 50.26548245743669\n",
      "omtrek cirkel is 25.132741228718345\n"
     ]
    }
   ],
   "source": [
    "straal = 4\n",
    "oppervlakte_cirkel = np.pi*straal**2\n",
    "omtrek_cirkel = np.pi*straal*2\n",
    "print(f\"oppervlakte cirkel is {oppervlakte_cirkel}\")\n",
    "print(f\"omtrek cirkel is {omtrek_cirkel}\")"
   ]
  },
  {
   "cell_type": "markdown",
   "id": "0147cd96",
   "metadata": {},
   "source": [
    "## Not hashable\n",
    "\n",
    "Je moet een **hash-functie** kunnen toepassen op de elementen van een set en de keys van een dictionary. De hash-functie zorgt ervoor dat er snel gecheckt kan worden of element in de set zit en wat de value is die hoort bij een bepaalde key.\n",
    "\n",
    "Weet dat `int` en `str` hashable zijn, terwijl lijsten dit niet zijn. "
   ]
  },
  {
   "cell_type": "code",
   "execution_count": 25,
   "id": "81a8a48b",
   "metadata": {},
   "outputs": [
    {
     "name": "stdout",
     "output_type": "stream",
     "text": [
      "{'Suzanne', 'Merlinda', 'Merel', 'Joris', 'Corneel', 'Piet'}\n"
     ]
    }
   ],
   "source": [
    "studenten_m = [\"Joris\", \"Piet\", \"Corneel\"]\n",
    "set_studenten = set(studenten_m)\n",
    "\n",
    "studenten_v = [\"Merlinda\", \"Suzanne\", \"Merel\"]\n",
    "# set_studenten.add(studenten_v)\n",
    "\n",
    "# lange methode\n",
    "for st_v in studenten_v:\n",
    "    set_studenten.add(st_v)\n",
    "\n",
    "alle_studenten = list(studenten_v)\n",
    "alle_studenten.extend(studenten_m)\n",
    "set_studenten = set(alle_studenten)\n",
    "print(set_studenten)\n",
    "\n",
    "# Korte methode\n",
    "set_studenten = set_studenten.union(set(studenten_v))"
   ]
  },
  {
   "cell_type": "markdown",
   "id": "89627bc8",
   "metadata": {},
   "source": [
    "## Out of range"
   ]
  },
  {
   "cell_type": "code",
   "execution_count": 26,
   "id": "31ab5f14",
   "metadata": {},
   "outputs": [
    {
     "name": "stdout",
     "output_type": "stream",
     "text": [
      "Arctic Monkeys - 505\n",
      "Arctic Monkeys - When the Sun Goes Down\n",
      "Franz Ferdinand - This Fire\n",
      "Franz Ferdinand - Take Me Out\n",
      "The Killers - Human\n"
     ]
    }
   ],
   "source": [
    "favoriete_muziek = {\"Arctic Monkeys\": ['505', 'When the Sun Goes Down'], \"Franz Ferdinand\": ['This Fire', 'Take Me Out'],\n",
    "                   \"The Killers\": [\"Human\"]}\n",
    "\n",
    "for band in favoriete_muziek:\n",
    "    song_idx = 0\n",
    "    # while song_idx < len(favoriete_muziek[band]):\n",
    "    while song_idx < len(favoriete_muziek[band]):\n",
    "        print(f\"{band} - {favoriete_muziek[band][song_idx]}\")\n",
    "        song_idx += 1\n",
    "    \n",
    "# PS: Zorg ervoor dat the killers ook correct worden afgeprint"
   ]
  },
  {
   "cell_type": "code",
   "execution_count": 1,
   "id": "f7743827",
   "metadata": {},
   "outputs": [
    {
     "name": "stdout",
     "output_type": "stream",
     "text": [
      "Drink toverdrank\n",
      "Ga gang binnen\n",
      "Drink toverdrank\n",
      "Vecht met de draak\n",
      "Pluk fruit van de boom\n",
      "Drink toverdrank\n",
      "Gooi dobbelsteen opnieuw\n",
      "Loop snel weg\n",
      "Pluk fruit van de boom\n",
      "Ga gang binnen\n"
     ]
    }
   ],
   "source": [
    "import random\n",
    "acties_bij_dobbelsteen_worp = [\"Ga gang binnen\", \"Drink toverdrank\", \"Loop snel weg\", \n",
    "                               \"Vecht met de draak\", \"Gooi dobbelsteen opnieuw\", \"Pluk fruit van de boom\"]\n",
    "\n",
    "for i in range(10):\n",
    "    print(random.choice(acties_bij_dobbelsteen_worp))\n",
    "    # print(acties_bij_dobbelsteen_worp[random.randint(0,len(acties_bij_dobbelsteen_worp)-1)])"
   ]
  },
  {
   "cell_type": "markdown",
   "id": "8f6fdfed",
   "metadata": {},
   "source": [
    "## Type-fouten\n",
    "\n",
    "Let altijd op het datatype. Dit bepaald mee wat met een bepaalde variabele kan gedaan worden."
   ]
  },
  {
   "cell_type": "code",
   "execution_count": 28,
   "id": "16ce0a08",
   "metadata": {},
   "outputs": [
    {
     "name": "stdout",
     "output_type": "stream",
     "text": [
      "De omtrek van de cirkel is 182.212373908208\n"
     ]
    }
   ],
   "source": [
    "import numpy as np\n",
    "straal = float(input(\"Geef een staal in: \"))\n",
    "omtrek = np.pi*straal*2\n",
    "print(\"De omtrek van de cirkel is \" + str(omtrek))"
   ]
  },
  {
   "cell_type": "markdown",
   "id": "f62d11e4",
   "metadata": {},
   "source": [
    "## Indentatie fouten"
   ]
  },
  {
   "cell_type": "code",
   "execution_count": 2,
   "id": "7d1f4788",
   "metadata": {},
   "outputs": [
    {
     "name": "stdout",
     "output_type": "stream",
     "text": [
      "{'Elvis Presley', 'Franz Ferdinand', 'Eels', 'Arctic Monkeys'}\n",
      "{\"Can't Help Falling in Love\", 'We Are The Champions'}\n"
     ]
    }
   ],
   "source": [
    "# Print de unieke band en song namen\n",
    "\n",
    "favoriete_muziek = {\"Arctic Monkeys\": ['505', 'When the Sun Goes Down'], \"Franz Ferdinand\": ['This Fire', 'Take Me Out'],\n",
    "                   \"Eels\": [\"Can't Help Falling in Love\"], \"Elvis Presley\": [\"Can't Help Falling in Love\", \"We Are The Champions\"]}\n",
    "\n",
    "unieke_band_namen = set()\n",
    "\n",
    "for band,songs in favoriete_muziek.items():\n",
    "    unieke_song_namen = set()\n",
    "    for song in songs:\n",
    "        if song not in unieke_song_namen:\n",
    "            unieke_song_namen.add(song)\n",
    "        if band not in unieke_band_namen:\n",
    "            unieke_band_namen.add(band)\n",
    "\n",
    "print(unieke_band_namen)\n",
    "print(unieke_song_namen)\n",
    "\n",
    "# Naast indentatie, denk ook verder na over eventueel andere fouten of inefficienties."
   ]
  },
  {
   "cell_type": "markdown",
   "id": "341545cf",
   "metadata": {},
   "source": [
    "## Not callable\n",
    "\n",
    "Enkel functies zijn *oproepbaar*."
   ]
  },
  {
   "cell_type": "code",
   "execution_count": 30,
   "id": "4a881474",
   "metadata": {},
   "outputs": [
    {
     "name": "stdout",
     "output_type": "stream",
     "text": [
      "Ik luister graag muziek\n"
     ]
    }
   ],
   "source": [
    "# print = \"Ik luister graag muziek\"\n",
    "# print(print)\n",
    "\n",
    "toPrint = \"Ik luister graag muziek\"\n",
    "print(toPrint)\n",
    "\n",
    "# Om te verifieren dat de aanpassing effect heeft, moet je mogelijk de kernel herstarten\n",
    "# Kernel -> Restart\n"
   ]
  },
  {
   "cell_type": "code",
   "execution_count": 31,
   "id": "66c59a0c",
   "metadata": {},
   "outputs": [
    {
     "name": "stdout",
     "output_type": "stream",
     "text": [
      "De lengte van het bericht is: 43\n"
     ]
    }
   ],
   "source": [
    "bericht = \"De chambrangs worden geplaatst rond de deur\"\n",
    "bericht = bericht.upper()\n",
    "print(f\"De lengte van het bericht is: {len(bericht)}\")"
   ]
  }
 ],
 "metadata": {
  "kernelspec": {
   "display_name": "Python 3 (ipykernel)",
   "language": "python",
   "name": "python3"
  },
  "language_info": {
   "codemirror_mode": {
    "name": "ipython",
    "version": 3
   },
   "file_extension": ".py",
   "mimetype": "text/x-python",
   "name": "python",
   "nbconvert_exporter": "python",
   "pygments_lexer": "ipython3",
   "version": "3.11.4"
  }
 },
 "nbformat": 4,
 "nbformat_minor": 5
}
