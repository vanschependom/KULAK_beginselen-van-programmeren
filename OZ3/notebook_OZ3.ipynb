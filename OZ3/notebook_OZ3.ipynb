{
 "cells": [
  {
   "cell_type": "markdown",
   "id": "6173fdf4",
   "metadata": {},
   "source": [
    "In deze notebook gaan we dieper in op collecties: **lijsten**, **sets** en **dictionaries**.\n",
    "\n",
    "We hebben in vorige sessies ons vooral bezig gehouden met wat een computer \"doet\". In deze sessie zullen we dieper ingaan op hoe een computer dingen \"weet\". We hebben al besproken dat we integers, strings en floats kunnen voorstellen. Wat we echter graag willen doen zijn verzamelingen opbouwen van die objecten.\n",
    "\n",
    "In deze sessie zullen we uitleggen hoe we een verzameling definiëren, welke soorten er zijn en hoe we ermee kunnen werken."
   ]
  },
  {
   "cell_type": "markdown",
   "id": "d2e5a9e8",
   "metadata": {},
   "source": [
    "# List\n",
    "\n",
    "Een lijst beschouwen we vaak als de basiscollectie, het is in elke geval de meest intuïtieve. We kunnen een lijst echt voorstellen als een lijst zoals we die zouden noteren op een blad papier: `(1,5,7,9,10)`\n",
    "\n",
    "Een lijst is een **verameling van elementen** met een **bepaalde volgorde**. We kunnen de spreken over het i-de getal in een lijst.\n",
    "\n",
    "Hieronder bekijken we enkele voorbeelden, let ook op het feit dat we nergens vooraf, of tijdens het beschrijven, vastleggen wat er exact in die lijst zal zitten."
   ]
  },
  {
   "cell_type": "code",
   "execution_count": null,
   "id": "87335195",
   "metadata": {},
   "outputs": [],
   "source": [
    "# Maak een lege lijst\n",
    "lijst = list()\n",
    "\n",
    "# Maak een lege lijst, maar zorg dat het minder opvalt\n",
    "lijst = []\n",
    "\n",
    "# Maak een lijst met je favoriete getallen\n",
    "favoriete_getallen = [1,1,2,3,5,8,\"dertien\",21.0,42]\n",
    "\n",
    "# Voeg jouw 10 favoriete woorden toe aan een lijst\n",
    "favoriete_objecten = []\n",
    "while len(favoriete_objecten) < 10:\n",
    "    favoriete_objecten.append(input(\"Wat is je \" +str(len(favoriete_objecten)+1) + \"e favoriete getal/woord? \"))\n",
    "print( f\"je favoriete lijst: {favoriete_objecten}\")\n",
    "    "
   ]
  },
  {
   "cell_type": "code",
   "execution_count": null,
   "id": "4dfb13b7",
   "metadata": {},
   "outputs": [],
   "source": [
    "# Maak een lijst waarvan sommige elementen opnieuw een lijst zijn\n",
    "twee_dee_lijst= [[1,2],[\"drie\",\"vier\",1.9573],\"D5R\"]"
   ]
  },
  {
   "cell_type": "code",
   "execution_count": null,
   "id": "55fed6d8",
   "metadata": {},
   "outputs": [],
   "source": [
    "# Een lijst kan ook gevuld worden met de lijst.append(element) methode en gelezen met lijst[index] zoals hieronder:\n",
    "\n",
    "som = 0\n",
    "mijnlijst = []\n",
    "while(som < 10):\n",
    "    #som += x is een kortere schrijfwijze voor som = som + x\n",
    "    getal = int(input(\"geef een getal om op te tellen \"))\n",
    "    som += getal\n",
    "    mijnlijst.append(getal)\n",
    "print(\"meer dan 10!\")\n",
    "print(f\"De som is: {som}\")\n",
    "index = int(input(\"het hoeveelste getal wil je terugzien? \"))\n",
    "print(f\"Het {index}e getal dat je gaf was: {mijnlijst[index-1]}\")"
   ]
  },
  {
   "cell_type": "code",
   "execution_count": null,
   "id": "f9f9277c",
   "metadata": {},
   "outputs": [],
   "source": [
    "#Het is goed om in te zien dat het range(min,max,stap) commando ook gewoon een lijst bouwt:\n",
    "\n",
    "for element in range(0,10,1):\n",
    "    print(element)\n",
    "    \n",
    "print (\"manueel:\") \n",
    "\n",
    "for element in [0,1,2,3,4,5,6,7,8,9]:\n",
    "    print(element)"
   ]
  },
  {
   "cell_type": "markdown",
   "id": "4a6b6e8d",
   "metadata": {},
   "source": [
    "# Oefening 1\n",
    "\n",
    "Vul onderstaande code aan, zodat een lijst wordt opgebouwd met lengte 15 dat alle veelvouden van het gevraagde basisgetal geeft:\n"
   ]
  },
  {
   "cell_type": "code",
   "execution_count": null,
   "id": "5ba6dbe6",
   "metadata": {},
   "outputs": [],
   "source": [
    "basisgetal = int(input(\"Wat is de basis? \"))\n",
    "in_te_vullen_getal = basisgetal\n",
    "lijst = ...\n",
    "while (...):\n",
    "    lijst...\n",
    "    in_te_vullen_getal = in_te_vullen_getal + basisgetal\n",
    "\n",
    "print(lijst)\n"
   ]
  },
  {
   "cell_type": "markdown",
   "id": "02727693",
   "metadata": {},
   "source": [
    "# Set\n",
    "\n",
    "Een set is een andere belangrijke collectie in python.\n",
    "Een set in python is gerelateerd aan een verzameling in de wiskunde. Het heeft hiertoe ook enkele nuttige eigenschappen: Een set is een **verameling van elementen**, zoals een lijst, maar een set bevat **geen dubbels** en heeft **geen volgorde**. We kunnen een object aan een set toevoegen dat er al in zit, maar de set zal niet groter worden. Er zijn ook een aantal functies die we kunnen uitvoeren op sets die we kennen uit de verzamelingleer: **unie, doorsnede en verschil**\n",
    "\n",
    "We kunnen echter niet lager over het i-de element van een set spreken."
   ]
  },
  {
   "cell_type": "code",
   "execution_count": null,
   "id": "076ae1b1",
   "metadata": {},
   "outputs": [],
   "source": [
    "#Maak een lege set\n",
    "lege_set = set()\n",
    "\n",
    "# Maak een set met je favoriete getallen\n",
    "favoriete_getallen = {1,1,2,3,5,8,\"dertien\",21.0,42}\n",
    "print(favoriete_getallen)\n",
    "\n",
    "# Voeg jouw 10 favoriete woorden toe aan een lijst\n",
    "favoriete_objecten = set()\n",
    "while len(favoriete_objecten) < 10:\n",
    "    favoriete_objecten.add(input(\"Wat is je \" +str(len(favoriete_objecten)+1) + \"e favoriete getal/woord? \"))\n",
    "print( f\"je favoriete set: {favoriete_objecten}\")\n"
   ]
  },
  {
   "cell_type": "markdown",
   "id": "47e580b5",
   "metadata": {},
   "source": [
    "Een belangijk verschil met lijsten, is dat sets eigenlijk niet kunnen worden veranderd. Ze zijn \"immutable\". De operatie add() creeërt eigenlijk een nieuwe set met alle elementen van de vorige set en het nieuwe element. Daarom geven de wiskundige operaties, die hierna komen, ook telkens een nieuwe set terug."
   ]
  },
  {
   "cell_type": "code",
   "execution_count": null,
   "id": "19f6ffa1",
   "metadata": {},
   "outputs": [],
   "source": [
    "#Maak enkele basissets:\n",
    "set_1 = {1,2,3,4,5}\n",
    "set_2 = {4,5,6,7,8}\n",
    "\n",
    "#Maak de unie van de 2 sets\n",
    "unie = set_1.union(set_2)\n",
    "print(unie)\n",
    "\n",
    "#Maak de doorsnede van de 2 sets\n",
    "doorsnede = set_1.intersection(set_2)\n",
    "print(doorsnede)\n",
    "\n",
    "#Maak het verschil van set 1 met set 2\n",
    "verschil_1_2 = set_1.difference(set_2)\n",
    "print(verschil_1_2)\n",
    "\n",
    "#Maak het verschil van set 1 met set 2\n",
    "verschil_2_1 = set_2.difference(set_1)\n",
    "print(verschil_2_1)\n",
    "\n",
    "#Maak het verschil van set 1 met set 2\n",
    "verschil_1_2 = set_1 - set_2\n",
    "print(verschil_1_2)\n",
    "\n",
    "#Maak het verschil van set 1 met set 2\n",
    "verschil_2_1 = set_2 - set_1 \n",
    "print(verschil_2_1)"
   ]
  },
  {
   "cell_type": "markdown",
   "id": "420dbfc3",
   "metadata": {},
   "source": [
    "Aangezien sets en lijsten beide een opeenvolging van objecten zijn, kunnen we de ene converteren in de andere. Het is ook beter om objecten aan een lijst toe te voegen en dan om te vormen naar een set. Anders moet er intern telkens een nieuwe set worden gebouwd."
   ]
  },
  {
   "cell_type": "code",
   "execution_count": null,
   "id": "91825f5f",
   "metadata": {},
   "outputs": [],
   "source": [
    "#Start met een lege lijst\n",
    "lijst =[]\n",
    "\n",
    "#Voeg enkele objecten toe\n",
    "lijst.append(4)\n",
    "lijst.append(\"banaan\")\n",
    "lijst.append(42)\n",
    "lijst.append(4)\n",
    "\n",
    "print(lijst)\n",
    "\n",
    "#Verander de lijst in een set\n",
    "set_van_lijst = set(lijst)\n",
    "\n",
    "print(set_van_lijst)\n",
    "\n",
    "#Verander de set in een lijst\n",
    "lijst_van_set = list(set_van_lijst)\n",
    "print(lijst_van_set)\n"
   ]
  },
  {
   "cell_type": "markdown",
   "id": "d8df023b",
   "metadata": {},
   "source": [
    "# Oefening 2\n",
    "\n",
    "Voor elke subset in een gegeven lijst, print de gemeenschappelijke elementen met een gemeenschappelijke basisset."
   ]
  },
  {
   "cell_type": "code",
   "execution_count": null,
   "id": "bb2c805a",
   "metadata": {},
   "outputs": [],
   "source": [
    "lijst = [{3,6,4},{5,8,4},{3,9,14},{3,6,4}]\n",
    "basis_set = {2,4,8}\n",
    "\n",
    "for ... :\n",
    "    print(...)"
   ]
  },
  {
   "cell_type": "markdown",
   "id": "27be0fe0",
   "metadata": {},
   "source": [
    "# Dictionary\n",
    "\n",
    "Een dictionary (woordenboek?) is een hele nieuwe manier om objecten te organiseren. Tot nu toe hebben we enkel collecties gezien die lineair zijn: we zetten allerlei objecten naast elkaar. In een lijst kunnen we nog het 10e object vragen, in een set heeft zelf dat geen zinnige betekenis. Als we nu echter objecten willen sorteren, dan zijn sets en lijsten het equivalent van alles in een zak gooien.\n",
    "\n",
    "Een dictionary is een **tweedelige verzameling**: er is een verzameling van **keys** en één van **values**. Er is een link (mapping) tussen een key en een value. \n",
    "\n",
    "Dictionary heeft geen rechtstreeks nederlands equivalent, maar we kunnen volgende metafoor gebruiken: Een dictionary is een bankkluis met een registerboek en sleutels voor elk kluisje. De keys zijn natuurlijk de sleutels en de values zijn de kluisjes, waar eender welk object kan in zitten. We kunnen dan snel zien dat de sleutels een set moeten vormen en dus uniek zijn. De values daarintegen kunnen wel dubbels bevatten. Als we nu een waarde willen toevoegen, dan moeten we een koppel aanbieden: een sleutel om de kluis te kunnen sluiten en terug te openen en een object om in de kluis te stoppen.\n",
    "\n",
    "De functie get(sleutel) haalt de waarde uit het kluisje dat opent met de sleutel."
   ]
  },
  {
   "cell_type": "code",
   "execution_count": null,
   "id": "b9e2755a",
   "metadata": {},
   "outputs": [],
   "source": [
    "# Maak een lege dictionary\n",
    "dictionary = dict()\n",
    "\n",
    "# Maak een lege dictionary, maar zorg dat het minder opvalt\n",
    "dictionary = {}\n",
    "\n",
    "# Maak een dictionary entry met je favoriete getallen\n",
    "dictionary[\"favoriete_getallen\"] = [1,1,2,3,5,8,\"dertien\",21.0,42]\n",
    "print(dictionary)\n",
    "\n",
    "#Print de keys\n",
    "print(dictionary.keys())\n",
    "\n",
    "\n",
    "#print de values\n",
    "print(dictionary.values())\n",
    "\n",
    "# Voeg jouw 5 favoriete objecten toe aan een lijst\n",
    "favoriete_objecten = {}\n",
    "while len(favoriete_objecten) < 5:\n",
    "    value = input(f\"Wat is je {len(favoriete_objecten)+1}e favoriete getal/woord? \")\n",
    "    key = input(\"Hoe wil je dit object noemen? \")\n",
    "    favoriete_objecten[key] = value\n",
    "print( f\"je favoriete dictionary: {favoriete_objecten}\")"
   ]
  },
  {
   "cell_type": "markdown",
   "id": "381604b6",
   "metadata": {},
   "source": [
    "Viel je iets op bij het printen van de keys en values? De methode `.keys()` en `.values()` geven een keyset en valueset terug en geen gewone lijst of set. We kunnen deze in een for-lus gebruiken zonder problemen, maar de gewone lijst/set operaties werken niet. Om dat op te lossen gebruiken we altijd `set(dict.keys())` en `list(dict.values())`. \n",
    "\n",
    "Als we gewoon de dictionary in een for-lus gebruiken, dan gaat python automatisch over de keys itereren. Als we terug naar de kluisjes gaan dan kunnen we zien dat het een stuk sneller is om elke sleutel in onze sleutelbos te inspecteren dan elk kluisje."
   ]
  },
  {
   "cell_type": "code",
   "execution_count": null,
   "id": "01f2f94e",
   "metadata": {},
   "outputs": [],
   "source": [
    "#Maak een dictionary\n",
    "dictionary = {\"key_1\":15,\"key_2\":22,\"key_3\":37}\n",
    "\n",
    "#Itereer over de dictionary\n",
    "for element in dictionary:\n",
    "    print(element)\n",
    "    \n",
    "print(\"\\n\"+\"keys:\")\n",
    "    \n",
    "#Itereer over de keys van de dictionary\n",
    "for element in dictionary.keys():\n",
    "    print(element)\n",
    "    \n",
    "print(\"\\n\"+\"values:\")\n",
    "\n",
    "#Itereer over de values van de dictionary\n",
    "for element in dictionary:\n",
    "    print(dictionary.get(element))\n"
   ]
  },
  {
   "cell_type": "markdown",
   "id": "274ebd8c",
   "metadata": {},
   "source": [
    "# Oefening 3\n",
    "\n",
    "Vul onderstaande code aan, zodat een dictionary wordt opgebouwd die als keys alle elementen van een lijst bevat met als value hoe vaak ze voorkwamen in de lijst."
   ]
  },
  {
   "cell_type": "code",
   "execution_count": null,
   "id": "18cb235b",
   "metadata": {},
   "outputs": [],
   "source": [
    "lijst = [1,5,4,4,6,8,9,3,5,3]\n",
    "dictionary = ...\n",
    "for element in lijst:\n",
    "    if element in ...:\n",
    "        vorig_aantal = dictionary...\n",
    "        nieuw_aantal = vorig_aantal + 1\n",
    "        dictionary... = nieuw_aantal\n",
    "    else:\n",
    "        dictionary... = 1\n",
    "        \n",
    "print(dictionary)"
   ]
  }
 ],
 "metadata": {
  "kernelspec": {
   "display_name": "Python 3 (ipykernel)",
   "language": "python",
   "name": "python3"
  },
  "language_info": {
   "codemirror_mode": {
    "name": "ipython",
    "version": 3
   },
   "file_extension": ".py",
   "mimetype": "text/x-python",
   "name": "python",
   "nbconvert_exporter": "python",
   "pygments_lexer": "ipython3",
   "version": "3.9.12"
  }
 },
 "nbformat": 4,
 "nbformat_minor": 5
}
