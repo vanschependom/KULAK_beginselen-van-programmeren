{
 "cells": [
  {
   "cell_type": "markdown",
   "metadata": {},
   "source": [
    "# Oefenzitting 2"
   ]
  },
  {
   "cell_type": "markdown",
   "metadata": {},
   "source": [
    "## 1. Interpreteren van code"
   ]
  },
  {
   "cell_type": "markdown",
   "metadata": {},
   "source": [
    "### Oefening 1.1"
   ]
  },
  {
   "cell_type": "code",
   "execution_count": 1,
   "metadata": {},
   "outputs": [
    {
     "name": "stdout",
     "output_type": "stream",
     "text": [
      "10\n",
      "10\n",
      "5\n"
     ]
    }
   ],
   "source": [
    "i = 0\n",
    "j = 10\n",
    "n = 0\n",
    "while i != j:\n",
    "    i = i + 2\n",
    "    n = n + 1\n",
    "print (i)\n",
    "print (j)\n",
    "print (n)"
   ]
  },
  {
   "cell_type": "markdown",
   "metadata": {},
   "source": [
    "### Oefening 1.2"
   ]
  },
  {
   "cell_type": "code",
   "execution_count": 2,
   "metadata": {},
   "outputs": [
    {
     "name": "stdout",
     "output_type": "stream",
     "text": [
      "0\n",
      "1\n",
      "0\n",
      "1\n",
      "2\n",
      "3\n",
      "0\n",
      "1\n",
      "2\n",
      "3\n",
      "4\n",
      "5\n",
      "6\n",
      "7\n",
      " groter \n"
     ]
    }
   ],
   "source": [
    "n = 6\n",
    "k = [2 ,4 ,8 ,17]\n",
    "a = 9\n",
    "for n in k:\n",
    "    if n < a:\n",
    "        for x in range (n):\n",
    "            print (x)\n",
    "    else :\n",
    "        print (\" groter \")"
   ]
  },
  {
   "cell_type": "markdown",
   "metadata": {},
   "source": [
    "## 2. Probleemoplossend denken"
   ]
  },
  {
   "cell_type": "markdown",
   "metadata": {},
   "source": [
    "### Oefening 2.1"
   ]
  },
  {
   "cell_type": "code",
   "execution_count": 110,
   "metadata": {},
   "outputs": [
    {
     "name": "stdout",
     "output_type": "stream",
     "text": [
      "3 3\n"
     ]
    }
   ],
   "source": [
    "import random\n",
    "import matplotlib.pyplot as plt\n",
    "import numpy as np\n",
    "\n",
    "# We starten in de oorsprong\n",
    "x = 0\n",
    "y = 0\n",
    "\n",
    "# We nemen de eerste 10 stappen\n",
    "for i in range(1,11):\n",
    "\n",
    "    # # random getal van 0 tot en met 3\n",
    "    # randomRichting = random.randint(0,3)\n",
    "\n",
    "    # if randomRichting == 0:\n",
    "    #     x += 1\n",
    "    # elif randomRichting == 1:\n",
    "    #     x -= 1\n",
    "    # elif randomRichting == 2:\n",
    "    #     y += 1 \n",
    "    # elif randomRichting == 3:\n",
    "    #     y -= 1\n",
    "\n",
    "    # random getal van 0 tot en met 3\n",
    "    randomRichting = random.choice([\"boven\", \"onder\", \"links\", \"rechts\"])\n",
    "\n",
    "    match randomRichting:\n",
    "        case \"rechts\":\n",
    "            x += 1\n",
    "        case \"links\":\n",
    "            x -= 1\n",
    "        case \"boven\":\n",
    "            y += 1 \n",
    "        case \"onder\":\n",
    "            y -= 1\n",
    "\n",
    "print(x,y)"
   ]
  },
  {
   "cell_type": "markdown",
   "metadata": {},
   "source": [
    "### Oefening 2.2"
   ]
  },
  {
   "cell_type": "code",
   "execution_count": 58,
   "metadata": {},
   "outputs": [
    {
     "name": "stdout",
     "output_type": "stream",
     "text": [
      "True\n"
     ]
    }
   ],
   "source": [
    "gebruikerGetal = int(input(\"Geef een geheel getal: \"))\n",
    "\n",
    "isPriemgetal = True\n",
    "\n",
    "# 1 en het getal zelf mogen niet in de range zitten\n",
    "for i in range(2, gebruikerGetal):\n",
    "\n",
    "    # Als het getal deelbaar is door een getal, kleiner dan zichzelf, verschillend van 1\n",
    "    if gebruikerGetal % i == 0:\n",
    "\n",
    "        isPriemgetal = False\n",
    "\n",
    "print(isPriemgetal)\n"
   ]
  },
  {
   "cell_type": "markdown",
   "metadata": {},
   "source": [
    "### Oefening 2.3"
   ]
  },
  {
   "cell_type": "code",
   "execution_count": 85,
   "metadata": {},
   "outputs": [
    {
     "name": "stdout",
     "output_type": "stream",
     "text": [
      "  Ma  Di Woe  Do  Vr  Za  Zo\n",
      "           1   2   3   4   5\n",
      "   6   7   8   9  10  11  12\n",
      "  13  14  15  16  17  18  19\n",
      "  20  21  22  23  24  25  26\n",
      "  27  28  29  30  31"
     ]
    }
   ],
   "source": [
    "eersteDag = input(\"Eerste dag van de maand: \")\n",
    "\n",
    "while eersteDag != 'Ma' and eersteDag != 'Di' and eersteDag != 'Woe' and eersteDag != 'Do' and eersteDag != 'Vr' and eersteDag != 'Za' and eersteDag != 'Zo':\n",
    "    eersteDag = input(\"Dat is geen correcte dag. Geef een juiste dag: \")\n",
    "\n",
    "aantalDagen = int(input(\"Wat is de lengte van de maand?\"))\n",
    "\n",
    "# Dagen\n",
    "print(\"%4s%4s%4s%4s%4s%4s%4s\" % ('Ma', 'Di', 'Woe', 'Do', 'Vr', 'Za', 'Zo'))\n",
    "\n",
    "aantalSpaties = 0\n",
    "\n",
    "if eersteDag == 'Di':\n",
    "    aantalSpaties = 1\n",
    "elif eersteDag == 'Woe':\n",
    "    aantalSpaties = 2\n",
    "elif eersteDag == 'Do':\n",
    "    aantalSpaties = 3\n",
    "elif eersteDag == 'Vr':\n",
    "    aantalSpaties = 4\n",
    "elif eersteDag == 'Za':\n",
    "    aantalSpaties = 5\n",
    "elif eersteDag == 'Zo':\n",
    "    aantalSpaties = 6\n",
    "\n",
    "for i in range(aantalSpaties):\n",
    "    print(\"%4s\" % (\" \"), end = \"\")\n",
    "\n",
    "overOpLijn = 7 - aantalSpaties\n",
    "\n",
    "for i in range(1,aantalDagen + 1):\n",
    "    if overOpLijn >= 2:\n",
    "        overOpLijn -=1\n",
    "        print('%4d' % i, end = \"\")\n",
    "    else:\n",
    "        print('%4d' % i)\n",
    "        overOpLijn = 7"
   ]
  },
  {
   "cell_type": "markdown",
   "metadata": {},
   "source": [
    "## 3. UOVT"
   ]
  },
  {
   "cell_type": "markdown",
   "metadata": {},
   "source": [
    "### Oefening 3.1"
   ]
  },
  {
   "cell_type": "code",
   "execution_count": 1,
   "metadata": {},
   "outputs": [
    {
     "name": "stdout",
     "output_type": "stream",
     "text": [
      "23 - 23 + 4349 - 1204 = 3145\n"
     ]
    }
   ],
   "source": [
    "userInput = input(\"Geef de getallen, gescheiden door een spatie en afgesloten door een 0: \")\n",
    "\n",
    "getallen = []\n",
    "effectieveSom = 0\n",
    "stringSom = \"\"\n",
    "bewerkingIsPlus = True\n",
    "\n",
    "getallen = userInput.split(\" \")\n",
    "\n",
    "for getal in getallen:\n",
    "\n",
    "    if bewerkingIsPlus:\n",
    "\n",
    "        effectieveSom += int(getal)\n",
    "        if stringSom != \"\": stringSom += \" + \"\n",
    "        stringSom += getal\n",
    "        bewerkingIsPlus = False\n",
    "\n",
    "    else:\n",
    "\n",
    "        effectieveSom -= int(getal)\n",
    "        stringSom += \" - \" + getal\n",
    "        bewerkingIsPlus = True\n",
    "\n",
    "print(f'{stringSom} = {effectieveSom}')"
   ]
  },
  {
   "cell_type": "markdown",
   "metadata": {},
   "source": [
    "### Oefening 3.2"
   ]
  },
  {
   "cell_type": "code",
   "execution_count": 4,
   "metadata": {},
   "outputs": [
    {
     "name": "stdout",
     "output_type": "stream",
     "text": [
      "50.0\n",
      "86.0\n",
      "176.0\n",
      "212.0\n",
      "77.0\n"
     ]
    }
   ],
   "source": [
    "def fahrenheit(celcius):\n",
    "    return 1.8*celcius + 32\n",
    "\n",
    "userCelcius = input(\"Geef de temperatuur in °C: \")\n",
    "\n",
    "while userCelcius != \"q\":\n",
    "    print(fahrenheit(int(userCelcius)))\n",
    "    userCelcius = input(\"Geef de temperatuur in °C: \")"
   ]
  },
  {
   "cell_type": "markdown",
   "metadata": {},
   "source": [
    "### Oefening 3.3"
   ]
  },
  {
   "cell_type": "code",
   "execution_count": 12,
   "metadata": {},
   "outputs": [
    {
     "name": "stdout",
     "output_type": "stream",
     "text": [
      "7.389046015712681\n"
     ]
    }
   ],
   "source": [
    "import math\n",
    "\n",
    "x = int(input(\"Wat is x? \"))\n",
    "\n",
    "som = 0\n",
    "tmp = 1\n",
    "n = 0\n",
    "\n",
    "# sommeer van n tot 1000\n",
    "while tmp > 0.0000001:\n",
    "\n",
    "    tmp = math.pow(x,n)\n",
    "\n",
    "    for i in range(1,n+1):\n",
    "\n",
    "        tmp /= i\n",
    "\n",
    "    som += tmp\n",
    "    n += 1\n",
    "\n",
    "print(som)"
   ]
  }
 ],
 "metadata": {
  "kernelspec": {
   "display_name": "base",
   "language": "python",
   "name": "python3"
  },
  "language_info": {
   "codemirror_mode": {
    "name": "ipython",
    "version": 3
   },
   "file_extension": ".py",
   "mimetype": "text/x-python",
   "name": "python",
   "nbconvert_exporter": "python",
   "pygments_lexer": "ipython3",
   "version": "3.11.4"
  }
 },
 "nbformat": 4,
 "nbformat_minor": 2
}
