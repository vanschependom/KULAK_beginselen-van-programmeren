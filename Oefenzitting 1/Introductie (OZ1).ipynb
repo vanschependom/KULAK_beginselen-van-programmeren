{
 "cells": [
  {
   "cell_type": "markdown",
   "id": "22a7c5cc",
   "metadata": {},
   "source": [
    "# Introductie programmeren\n",
    "\n",
    "De bedoeling van dit vak is dat jullie na afloop de basis beheersen van programmeren en simpele programma's kunnen lezen en schrijven. Jullie zullen ook al een kritische blik kunnen werpen op de structuur van code en een analyse maken over de efficientie en correctheid van gegeven code.\n",
    "\n",
    "Nu nemen we even een stapje terug om jullie de terminologie bij te brengen. Natuurlijk kent iedereen de computer, het fysieke apparaat waarmee we werken. In een computer is er opslag aanwezig, het geheugen, dat data kan opslaan. Eén van de vormen van de data is onze code. Code is in de basis een tekstbestand met woorden, waarvan de meeste een afgesproken betekenis hebben, dit is dan de programmeertaal. \n",
    "\n",
    "Code op zich is vrij waardeloos, wat we eigenlijk willen is de code uitvoeren. Nu aangezien enkel wij de afgesproken betekenis van de woorden in de code kennen, hebben we een programma nodig dat die code omvormt naar instructies die de computer begrijpt en kan uitvoeren.\n",
    "\n",
    "Python is een voorbeeld van zo'n programmeertaal en python gebruikt een interpreter om de code te vertalen. In deze lessenreeks leren we jullie dus programmeren in Python, door code te schrijven volgens de taalregels van Python wat we dan laten uitvoeren door de Python interpreter.\n",
    "\n",
    "Als we nu even teruggaan naar de computer, dan kunnen we op een computer ook andere data opslaan: dit kan gaan van een getal, tot een woord, tot een lijst kommagetallen enzoverder. In de volgende sectie zullen we overlopen hoe we aan Python duidelijk maken dat we iets willen opslaan in het geheugen van de computer, wat voor soort data we willen opslaan en hoe wij dat stukje geheugen zullen noemen."
   ]
  },
  {
   "cell_type": "markdown",
   "id": "4be858df",
   "metadata": {},
   "source": [
    "# Variabelen\n",
    "\n",
    "Om in Python aan te geven dat we graag data zouden opslaan gebruiken we volgende syntax: naam = waarde\n",
    "\n",
    "We hoeven niet aan te geven wat de data is, hoe groot deze is of dergelijke. Python is hier als taal uitzonderlijk flexibel in om de leesbaarheid te verbeteren. Bij elk volgend gebruik van het woord \"naam\" zal de huidige waarde uit het geheugen worden gehaald of zal de nieuwe waarde in plaats van de oude worden geschreven (bij een nieuwe lijn met naam = waarde)."
   ]
  },
  {
   "cell_type": "code",
   "execution_count": 1,
   "id": "7c2ba7a3",
   "metadata": {},
   "outputs": [
    {
     "name": "stdout",
     "output_type": "stream",
     "text": [
      "15\n"
     ]
    }
   ],
   "source": [
    "variabele_1 = 15\n",
    "\n",
    "print(variabele_1)"
   ]
  },
  {
   "cell_type": "code",
   "execution_count": 20,
   "id": "cbcd3d13",
   "metadata": {},
   "outputs": [
    {
     "name": "stdout",
     "output_type": "stream",
     "text": [
      "10\n",
      "banaan\n",
      "appel\n"
     ]
    }
   ],
   "source": [
    "\n",
    "mijn_naam = 10\n",
    "\n",
    "print(mijn_naam)\n",
    "\n",
    "mijn_naam = \"banaan\"\n",
    "\n",
    "print(mijn_naam)\n",
    "\n",
    "andere_naam = \"appel\"\n",
    "\n",
    "print(andere_naam)"
   ]
  },
  {
   "cell_type": "markdown",
   "id": "387c3bef",
   "metadata": {},
   "source": [
    "# Data types\n",
    "\n",
    "Het is wel belangrijk om in te zien dat Python zelf wel een onderscheid maakt tussen de types data die je kan opslaan, we beginnen even met de basistypes en tonen je in enkele voorbeeldjes hoe je aan Python kan vragen welk type data is gebruikt om de waarde op te slaan.\n",
    " \n",
    "<ul>\n",
    "<li>Numerieke informatie:\n",
    "    <ul>\n",
    "        <li> <b>int</b>: geheel getal</li>\n",
    "        <li> <b>float</b>: rationeel getal</li>\n",
    "    </ul>\n",
    "</li>\n",
    "<li>Tekstuele informatie:</li>\n",
    "        <ul>\n",
    "        <li> <b>char</b>: letter</li>\n",
    "        <li> <b>str</b>: tekst</li>\n",
    "    </ul>\n",
    "<li>Waarheids informatie:</li>\n",
    "            <ul>\n",
    "        <li> <b>Bool</b>: <i>True</i> of <i>False</i></li>\n",
    "    </ul>\n",
    "</ul>\n",
    "\n"
   ]
  },
  {
   "cell_type": "code",
   "execution_count": 21,
   "id": "0357a630",
   "metadata": {},
   "outputs": [
    {
     "name": "stdout",
     "output_type": "stream",
     "text": [
      "Het type van het geheel getal: <class 'int'>\n"
     ]
    }
   ],
   "source": [
    "geheel_getal = 5\n",
    "print(f\"Het type van het geheel getal: {geheel_getal.__class__}\")"
   ]
  },
  {
   "cell_type": "code",
   "execution_count": 22,
   "id": "9df28991",
   "metadata": {},
   "outputs": [
    {
     "name": "stdout",
     "output_type": "stream",
     "text": [
      "Het type van het rationaal getal: <class 'float'>\n",
      "\n"
     ]
    }
   ],
   "source": [
    "rationaal_getal = 5.\n",
    "print(f\"Het type van het rationaal getal: {rationaal_getal.__class__}\\n\")"
   ]
  },
  {
   "cell_type": "code",
   "execution_count": 23,
   "id": "0d86a91e",
   "metadata": {},
   "outputs": [
    {
     "name": "stdout",
     "output_type": "stream",
     "text": [
      "<class 'str'>\n",
      "<class 'str'>\n"
     ]
    }
   ],
   "source": [
    "letter = 'a'\n",
    "print(letter.__class__)\n",
    "karakter = chr(97)\n",
    "print(karakter.__class__)"
   ]
  },
  {
   "cell_type": "code",
   "execution_count": 24,
   "id": "1ee3bf81",
   "metadata": {},
   "outputs": [
    {
     "name": "stdout",
     "output_type": "stream",
     "text": [
      "letter: a\n",
      "karakter: a\n"
     ]
    }
   ],
   "source": [
    "#strings kunnen geconcateneerd worden met '+'\n",
    "print(\"letter: \" + letter)\n",
    "print(\"karakter: \" + karakter)"
   ]
  },
  {
   "cell_type": "markdown",
   "id": "56e806b4",
   "metadata": {},
   "source": [
    "# Vergelijkings en logische operatoren\n",
    "\n",
    "Nadat we twee variabelen geinitialiseerd hebben, kunnen we de waarde van deze twee met elkaar vergelijken. De volgende vergelijkingsoperatoren kunnen gebruikt worden:\n",
    "\n",
    "* Vergelijkingsoperatoren\n",
    "    * Gelijk aan: $==$\n",
    "    * Strikt groter dan: $>$\n",
    "    * Strikt kleiner dan: $<$\n",
    "    * Groter of gelijk aan: $>=$\n",
    "    * Kleiner of gelijk aan: $<=$\n",
    "    * Niet gelijk aan: !=\n",
    "* Logische operatoren\n",
    "    * `and`: Geeft `True` terug wanneer de operanden aan weerszijde van de operator `True` zijn.\n",
    "    * `or`: Geeft `True` terug wanneer minstens één van de operanden van de operator `True` is.\n",
    "    * `not`: Geeft `True` terug wanner de operand `False` is, of omgekeerd.\n",
    "\n",
    "Let op het verschil tussen een <b>toekenning</b> ($=$) en een <b>vergelijking</b> ($==$) !"
   ]
  },
  {
   "cell_type": "code",
   "execution_count": 25,
   "id": "451bb4fa",
   "metadata": {},
   "outputs": [
    {
     "name": "stdout",
     "output_type": "stream",
     "text": [
      "geheel_getal == rationaal_getal: True \n"
     ]
    }
   ],
   "source": [
    "print(f\"geheel_getal == rationaal_getal: {geheel_getal == rationaal_getal} \")"
   ]
  },
  {
   "cell_type": "markdown",
   "id": "f7ce0caa",
   "metadata": {},
   "source": [
    "# Formateren van een string\n",
    "\n",
    "    Waneer we de waarde van een niet-string variable willen printen, moet deze eerst van formaat (of type) veranderd worden. Dit kan gedaan worden door expliciet de variable te casten naar een string type, of beter door gebruik te maken van de verschillende format methodes.    "
   ]
  },
  {
   "cell_type": "code",
   "execution_count": 19,
   "id": "1d9652c6",
   "metadata": {},
   "outputs": [
    {
     "name": "stdout",
     "output_type": "stream",
     "text": [
      "De gebruiker is 30 jaar oud en speelt graag basket\n",
      "De gebruiker is 30 jaar oud en speelt graag basket\n",
      "De gebruiker is 30 jaar oud en speelt graag basket\n"
     ]
    }
   ],
   "source": [
    "# initialiseren van variabelen:\n",
    "leeftijd = 30\n",
    "hobby = \"basket\"\n",
    "\n",
    "# percent methode:\n",
    "print(\"De gebruiker is %d jaar oud en speelt graag %s\" % (leeftijd, hobby))\n",
    "\n",
    "# format methode:\n",
    "print(\"De gebruiker is {0} jaar oud en speelt graag {1}\".format(leeftijd, hobby))\n",
    "\n",
    "# f-string methode:\n",
    "print(f\"De gebruiker is {leeftijd} jaar oud en speelt graag {hobby}\")"
   ]
  },
  {
   "cell_type": "markdown",
   "id": "3b9e912d",
   "metadata": {},
   "source": [
    "# Oefening 1:\n",
    "\n",
    "Genereer een welkomstbericht aan de hand van je favoriete format methode."
   ]
  },
  {
   "cell_type": "code",
   "execution_count": 39,
   "id": "e78634b5",
   "metadata": {},
   "outputs": [
    {
     "name": "stdout",
     "output_type": "stream",
     "text": [
      "Welkom John Doe!\n",
      "Welkom John Doe!\n",
      "Welkom John Doe!\n"
     ]
    }
   ],
   "source": [
    "# Geef je voor en familienaam in\n",
    "voornaam = \"John\"\n",
    "familienaam = \"Doe\"\n",
    "\n",
    "# Maak een welkomstbericht\n",
    "print(f\"Welkom {voornaam} {familienaam}!\")\n",
    "print(\"Welkom %s %s!\" % (voornaam,familienaam))\n",
    "print(\"Welkom {0} {1}!\".format(voornaam, familienaam))"
   ]
  },
  {
   "cell_type": "markdown",
   "id": "9d9cb9c8",
   "metadata": {},
   "source": [
    "# Oefening 2:\n",
    "\n",
    "Er wordt ons gevraagd om een database aan te maken met de namen van de studenten. Om ruimte te besparen, mogen we enkel de eerste letter van de voornaam, en de eerste 3 letters van de achternaam gebruiken. Kan je code maken waarbij voor een gegeven voor- en familienaam dit formaat (VFFF) wordt getoond aan de gebruiker?"
   ]
  },
  {
   "cell_type": "code",
   "execution_count": 11,
   "id": "425dfea8",
   "metadata": {},
   "outputs": [
    {
     "name": "stdout",
     "output_type": "stream",
     "text": [
      "AKET\n"
     ]
    }
   ],
   "source": [
    "# Geef voor en familienaam van de student in:\n",
    "voornaam = \"Ash\"\n",
    "familienaam = \"Ketchum\"\n",
    "\n",
    "# Maak de afgekorte versie van de naam:\n",
    "verkorteVoornaam = voornaam[0]\n",
    "verkorteFamilienaam = familienaam[0:3] #3 is niet inclusief\n",
    "verkorteNaam = verkorteVoornaam.upper() + verkorteFamilienaam.upper()\n",
    "\n",
    "# Druk de afgekorte versie af:\n",
    "print(verkorteNaam)\n"
   ]
  },
  {
   "cell_type": "markdown",
   "id": "65a71e64",
   "metadata": {},
   "source": [
    "# Beslissingen\n",
    "\n",
    "Bij het uitvoeren van een stuk code wordt deze normaal lijn per lijn, van boven naar onder uitgevoerd. We kunnen er echter voor zorgen dat de lijnen in een andere volgorde worden gelezen. Hiervoor zijn en bepaalde specifieke structuren. \n",
    "\n",
    "De eerste structuur die we behandelen zijn de if/else statements. Zoals de naam het zegt is dit een structuur die code uitvoert onder een bepaalde conditie (als ... dan ..., anders ...). Om aan de interpreter\n",
    "\n",
    "Aan de hand van een conditie voeren we net wel of net niet een bepaalde blok code uit. Geef aandacht aan de structuur van if statements: alles wat geïndenteerd staat (dat een tab heeft), behoord tot die tak van de beslissing. Dus als de voorwaarde voldaan is, wordt alles uitgevoerd dat na de `if` geïndenteerd staat. Indien niet wordt dit stuk code overgeslaan. \n",
    "\n",
    "Later zien we ook nog lussen en functies."
   ]
  },
  {
   "cell_type": "code",
   "execution_count": 40,
   "id": "3313e3a6",
   "metadata": {},
   "outputs": [
    {
     "name": "stdout",
     "output_type": "stream",
     "text": [
      "We hebben nog genoeg voorraad.\n"
     ]
    }
   ],
   "source": [
    "# initialiseer variabelen\n",
    "aantal_pintjes_in_frigo = 5\n",
    "\n",
    "if aantal_pintjes_in_frigo == 0:\n",
    "    print(\"Maak nieuwe collect&go bestelling!\")\n",
    "elif aantal_pintjes_in_frigo > 20:\n",
    "    print(\"Feest vanavond, nodig enkele vrienden uit!\")\n",
    "else:\n",
    "    print(\"We hebben nog genoeg voorraad.\")"
   ]
  },
  {
   "cell_type": "markdown",
   "id": "32abfa83",
   "metadata": {},
   "source": [
    "# Oefening 3:\n",
    "\n",
    "Schrijf een programma dat de reële wortels van een vierkantsvergelijking\n",
    "($ax^2 + bx + c = 0$) berekent en afdrukt. Indien de discriminant (b2 – 4ac) negatief is,\n",
    "dan meldt het programma dat er geen reële wortels zijn."
   ]
  },
  {
   "cell_type": "code",
   "execution_count": 18,
   "id": "41f81cb1",
   "metadata": {},
   "outputs": [
    {
     "name": "stdout",
     "output_type": "stream",
     "text": [
      "Geen reële oplossingen.\n"
     ]
    }
   ],
   "source": [
    "# Initialiseer waarden van de coeffienten:\n",
    "a = 2\n",
    "b = 3\n",
    "c = 4\n",
    "\n",
    "# Bereken de Discriminant:\n",
    "D = (b**2) - (4*a*c)\n",
    "\n",
    "# Print alle wortels af:\n",
    "if D > 0:\n",
    "    print(\"x =\", (-b) + D**(1/2)/(2*a))\n",
    "    if D != 0:\n",
    "        print(\"x =\", (-b) - D**(1/2)/(2*a))\n",
    "else:\n",
    "    print(\"Geen reële oplossingen.\")\n"
   ]
  },
  {
   "cell_type": "markdown",
   "id": "64dcf9b0",
   "metadata": {},
   "source": [
    "# Input/Output\n",
    "\n",
    "In de voorgaande secties hebben we al deels kennis gemaakt met de <code>print()</code> functie. Deze functie drukt strings af op het scherm. Zo kan een programma informatie geven aan de gebruiker.\n",
    "\n",
    "Vaak is ook het omgekeerde vereist, dat de gebruiker informatie moet invoeren in een programma. Dit kan gebeuren met behulp van de <code>input()</code> functie. \n",
    "\n",
    "Let op: de input functie geeft altijd een string terug. Indien je een getal verwacht en hiermee berekeningen mee wil maken, zal je het zelf eerst moeten converteren naar een int of float."
   ]
  },
  {
   "cell_type": "code",
   "execution_count": 52,
   "id": "297300b8",
   "metadata": {},
   "outputs": [
    {
     "name": "stdout",
     "output_type": "stream",
     "text": [
      "Pokemons moeten niet alleen schattig zijn, \n",
      "ze moeten ook sterk zijn in een gevecht.\n"
     ]
    }
   ],
   "source": [
    "# Voorbeeld waarbij we input vragen van de gebruiker.\n",
    "\n",
    "# Vraag de gebruiker voor zijn favoriete pokemon:\n",
    "favoriete_pokemon = input(\"Geef de naam van je favoriete pokemon: \")\n",
    "\n",
    "# .upper() zal de string opgeslaan in de variabele 'favoriete_pokemon' \n",
    "# transformeren naar een string met allemaal uppercase letters\n",
    "if favoriete_pokemon.upper() == \"PIKACHU\":\n",
    "    print(\"Pika, Pika!\")\n",
    "elif favoriete_pokemon.upper() == \"CHARIZARD\":\n",
    "    print(\"Iemand met verstand van zaken!\")\n",
    "# We checken of de favoriete pokomen ofwel Bulbasaur ofwel Odish is.\n",
    "elif (favoriete_pokemon.upper() == \"BULBASAUR\") or (favoriete_pokemon.upper() == \"ODISH\"):\n",
    "    # We stellen een nieuwe vraag aan de gebruiker\n",
    "    vegetarisch = input(\"Ben jij toevalig vegetarisch? (Y/N): \")\n",
    "    if vegetarisch.upper() == \"Y\":\n",
    "        print(\"Ik dacht het al!\")\n",
    "    elif vegetarisch.upper() == \"N\":\n",
    "        # \\ kan je gebruiken om lange lijnen code op te splitsen over meerder lijnen.\n",
    "        print(\"Pokemons moeten niet alleen schattig zijn, \\n\"\\\n",
    "              \"ze moeten ook sterk zijn in een gevecht.\")\n",
    "    else:\n",
    "        print(\"U gaf geen correcte input.\")\n",
    "else:\n",
    "    # Als de favoriete pokemon niet Pikachu, Charizard, Bulbasaur of Odish is,\n",
    "    # komen we hier terecht. In dit geval doen we helemaal niets, vandaar de pass.\n",
    "    # De else conditie zou dus volledige kunnen weg gelaten worden,\n",
    "    # maar dit kan soms handig zijn als een placeholder, om later je code aan te vullen.\n",
    "    pass\n"
   ]
  },
  {
   "cell_type": "markdown",
   "id": "3f1f6f41",
   "metadata": {},
   "source": [
    "# Oefening 4:\n",
    "\n",
    "Schrijf een programma dat nagaat of een gegeven jaar een schrikkeljaar is. Normaal is elk jaar dat deelbaar is door 4 (bvb. 1996) een schrikkeljaar. Echter, jaren die deelbaar zijn door 100 (bvb. 1900) zijn dan weer geen schrikkeljaar, tenzij ze ook deelbaar zijn door 400 (bvb. 2000), dan zijn ze toch een schrikkeljaar.\n",
    "\n",
    "Tip: Voor de deelbaarheid te controleren van een getal, maak je best gebruik van de modulo operator `%`. Twee getallen a en b zijn congruent modulo een getal m>1, als hun verschil a-b een geheel veelvoud is van m. Denk bijvoorbeeld aan de uren van de klok: `14 % 12 == 2` (14u is equivalent aan 2u in de middag)."
   ]
  },
  {
   "cell_type": "code",
   "execution_count": 50,
   "id": "d5bdfc4d",
   "metadata": {},
   "outputs": [
    {
     "name": "stdout",
     "output_type": "stream",
     "text": [
      "Het is een schrikkeljaar.\n"
     ]
    }
   ],
   "source": [
    "# Vraag de gebruiker om een jaartal in te geven:\n",
    "jaar = int(input(\"Geef het jaartal in\"))\n",
    "schrikkeljaar = True\n",
    "\n",
    "# Schrijf een logica structuur die controleert of een jaartal een schrikeljaar is of niet.\n",
    "# Pas de variabele schrikkeljaar aan, naargelag de condities.\n",
    "if (jaar % 4 != 0) or ((jaar % 100 == 0) and (jaar % 400 != 0)):\n",
    "    schrikkeljaar = False\n",
    "\n",
    "if schrikkeljaar:\n",
    "    # Genereer een boodschap die de gebruiker een melding geeft dat het jaartal EEN schrikkeljaar is.\n",
    "    print(\"Het is een schrikkeljaar.\")\n",
    "else:\n",
    "    # Genereer een boodschap die de gebruiker een melding geeft dat het jaartal GEEN schrikkeljaar is.\n",
    "    print(\"Het is geen schrikkeljaar\")\n"
   ]
  }
 ],
 "metadata": {
  "kernelspec": {
   "display_name": "Python 3 (ipykernel)",
   "language": "python",
   "name": "python3"
  },
  "language_info": {
   "codemirror_mode": {
    "name": "ipython",
    "version": 3
   },
   "file_extension": ".py",
   "mimetype": "text/x-python",
   "name": "python",
   "nbconvert_exporter": "python",
   "pygments_lexer": "ipython3",
   "version": "3.11.4"
  }
 },
 "nbformat": 4,
 "nbformat_minor": 5
}
