{
 "cells": [
  {
   "cell_type": "markdown",
   "id": "c7b6919f",
   "metadata": {},
   "source": [
    "# Complexiteit (basis)\n",
    "\n",
    "In deze noteboek zullen we de basis behandelen van complexiteit. De discipline complexiteit omvat eigenlijk elke studie naar hoe \"moeilijk\" een probleem is en hoe \"goed\" je oplossing voor dat probleem is. We kunnen dus de vraag \"wat is de complexiteit van deze code\" opvatten als: \"is deze code relatief vlot in het oplossen van het probleem?\". De verwoording \"relatief vlot\" laat ruimte in 2 richtingen: \"vlot\" kan \"snel\" betekenen of \"op een manier die weinig middelen (geheugen, etc) gebruikt\". Door relatief eraan toe te voegen bedoelen we ook dat sommige problemen ook gewoon moeilijker zijn dan andere.\n"
   ]
  },
  {
   "cell_type": "markdown",
   "id": "47ceb37f",
   "metadata": {},
   "source": [
    "## Tijdscomplexiteit van het organiseren van een feest\n",
    "\n",
    "In deze analyse wilen we weten hoeveel tijd iets zal nemen. Veronderstel even dat we een **feestje willen geven** en we willen inschatten hoe lang je over een taak zal doen. Je wil ook wel het aantal mensen dat komt laten variëren en dus wil je eigenlijk ook weten **hoeveel extra werk een paar extra mensen** je zou kosten.\n",
    "\n",
    "### $O(c)$\n",
    "Stel dat ik volgende functie heb die me het huis laat opkuisen:\n"
   ]
  },
  {
   "cell_type": "code",
   "execution_count": 1,
   "id": "406c6a30",
   "metadata": {},
   "outputs": [],
   "source": [
    "def maak_huis_proper(huis,aantal_gasten):\n",
    "    \n",
    "    '''\n",
    "    Een functie die het huis opruimt.\n",
    "    '''\n",
    "    raap_afval_op(huis)\n",
    "    plaats_afvalzak_buiten(huis)\n",
    "    doe_het_stof_af(huis)\n",
    "    stofzuig_de_tapijten(huis)\n",
    "    dweil_het_huis(huis)\n",
    "    \n",
    "    return huis\n",
    "        "
   ]
  },
  {
   "cell_type": "markdown",
   "id": "437e57a3",
   "metadata": {},
   "source": [
    "We zien dat deze taak onafhankelijk is van het aantal gasten. Als we $n=aantal\\_gasten$ dan zeggen we dat dit algorimte $O(c)$ heeft t.o.v. n. Dit betekent dat de functie een constante looptijd heeft, die constante kan verschillen van machine tot machine (iemand die beter kan kuisen zal de taak sneller doen) maar varieer het aantal gasten en de tijd zal dezelfde blijven."
   ]
  },
  {
   "cell_type": "markdown",
   "id": "0b910783",
   "metadata": {},
   "source": [
    "### $O(n)$\n",
    "\n",
    "Nu bekijken we een ander probleem: Op het feest wil je aan **elke genodigde een drankje geven**. Om dit vlot te laten verlopen schenken we eerst de drankjes uit, daarna delen we ze uit met de gastenlijst bij ons. We kunnen dit modelleren met volgende functies:"
   ]
  },
  {
   "cell_type": "code",
   "execution_count": 2,
   "id": "b0f5090b",
   "metadata": {},
   "outputs": [],
   "source": [
    "def schenk_drankjes(aantal_gasten):\n",
    "    '''\n",
    "    Een functie om de drankjes uit te schenken\n",
    "    '''\n",
    "    glazen =[]\n",
    "    huidige_fles = open_nieuwe_fles()\n",
    "    for i in range(aantal_gasten):\n",
    "        if huidige_fles.is_empty():\n",
    "            huidige_fles =  open_nieuwe_fles()\n",
    "        glazen.append(schenk_in_glas(huidige_fles))\n",
    "        \n",
    "    return glazen\n",
    "\n",
    "def verdeel_drankjes(gastenlijst,glazen)\n",
    "    for gast in gastenlijst:\n",
    "        glas = glazen.pop()\n",
    "        gast.geef_drankje(glas)\n",
    "    \n",
    "        "
   ]
  },
  {
   "cell_type": "markdown",
   "id": "164cb7b1",
   "metadata": {},
   "source": [
    "We zien dat we in de eerste funties evenveel glazen moeten uitschenken als er gasten zijn, als het aantal gasten dus $m$ is en de tijd om een glas uit te schenken is een constante $c$ dan zullen we $m*c$ tijd nodig hebben. Er is echter nog een klein verschil: voor $k$ gasten zal de tijd die we nodig hebben $c+d$ zijn, met $d$ de tijd om een fles te openen. De totale complexiteit voor die functie is dus $(n-k)*c + k*(c+d)$ of $n*c + k*d$. Door nu over te schakelen naar $O()$ notatie moeten we enkel kijken naaar het grootste getal. En aangezien er meer dan 1 glas uit een fles kan zal altijd $k < n$ waardoor de complexiteit kan worden beschreven als $O(n)$.\n",
    "\n",
    "De tweede functie doet ook een constant werk $c$ voor elke gast op de gastenlijst. Nu stellen we $n$ gelijk aan de lengte van de gastenlijst en stellen we dat de complexiteit $n*c$ is. Dit is wel onder de veronderstellen dat de $.pop()$ operatie een constante tijd neemt. Dit is gelukkig ook zo, want we kunnen altijd het eerste glas nemen in dezelfde tijd. De totale complexiteit is hier dus opnieuw $O(n)$. Maar let wel dat $n$ hier de lengte is van de invoer.\n"
   ]
  },
  {
   "cell_type": "markdown",
   "id": "5b646376",
   "metadata": {},
   "source": [
    "### $O(n^2)$\n",
    "\n",
    "Neem nu het volgende probleem: niet iedereen op het feestje kent elkaar en je wil zorgen dat **iedereen zeker eens tegen de rest van de gasten heeft gepsproken**. Je gaat dus telkens rond met een gast en stelt hem aan iedereen voor. We kunnen dit als volgt modelleren:"
   ]
  },
  {
   "cell_type": "code",
   "execution_count": 3,
   "id": "7a041d5e",
   "metadata": {},
   "outputs": [],
   "source": [
    "def stel_gasten_voor(gastenlijst):\n",
    "    for gast in gastenlijst:\n",
    "        for andere_gast in gastenlijst:\n",
    "            if gast != andere_gast:\n",
    "                gast.zeg_hallo(andere_gast)"
   ]
  },
  {
   "cell_type": "markdown",
   "id": "0d940e99",
   "metadata": {},
   "source": [
    "In bovenstaande code willen we eigenlijk weten hoe vaak er hallo wordt gezegd. De actie van het zeggen van hallo is constant (we veronderstellen dat iedereen aan ongeveer hetzelfde tempo \"hallo\" zegt). We zien nu dat dit binnen de eerste lus gebeurd voor elke gast die niet de gast is waarmee we aan het rondwandelen zijn, dus $(n-1)*c$ tijd kost met $n=len(gastenlijst)$. We wandelen rond met elke gast, dus deze lus herhalen we $n$ keer. Dit brengt de totale complexiteit op $n*(n-1)*c$ of dus $n*n*c - n*c$. Als we nu $O()$ notatie gebruiken, dan moeten we enkel de grootste term beschouwen. We zien dat er altijd geldt $n < n*n$. \n",
    "\n",
    "De totale complexiteit is dus $O(n^2)$."
   ]
  },
  {
   "cell_type": "markdown",
   "id": "ce0a11bc",
   "metadata": {},
   "source": [
    "### Belang van de complexiteit van operaties"
   ]
  },
  {
   "cell_type": "markdown",
   "id": "96e59230",
   "metadata": {},
   "source": [
    "We hebben nu verondersteld dan elke gast gewoon \"hallo\" zegt, maar als de gast een deel van de gasten al kent, dan kan het zijn dat deze daar ook iets over wil zeggen. In het extreme geval kunnen we veronderstellen dat ze elke persoon benoemen die ze al kenden aan elke gast die ze ontmoeten. Dit zorgt ervoor dat gast.zeg_hallo(andere_gast) voor elke gast een lengte heeft die ongeveer $n/d$ is, met d hoeveel groepjes er zijn die elkaar kenden (voetbal, school, ...). Dit is een simplificatie die geen rekening houdt met overlap in groepen, maar de grootte van $d$ is niet relevant zoals we later zullen zien. Dus als er overlap is, maak de groepen dan gewoon groter (en $d$ kleiner). \n",
    "\n",
    "We kunnen nu de complexiteit herschrijven als $n*n*n/d - n*n/d$ of dus $n*n*n*(1/d) - n*n*(1/d)$. We hebben hier nu terug dat $1/d$ gewoon een constante is en dat $n*n < n*n*n$.\n",
    "\n",
    "De complexiteit is nu veranderd naar $O(n^3)$"
   ]
  },
  {
   "cell_type": "markdown",
   "id": "039281fe",
   "metadata": {},
   "source": [
    "### $O(2^n)$\n",
    "\n",
    "Nadat we al deze berekeningen hebben gedaan komen we tot de volgende conclusie: je hebt eigenlijk geen vrienden voor een feestje. Voor dit probleem bestaat alweer een heel geforceerde en asociale oplossing: We nodigen onze 2 vrienden uit- en vragen hen om 2 vrienden uit te nodigen.\n",
    "\n",
    "Nadat ze dit hebben gedaan krijgen we $2+ 2*2 =6$ bevestigingen. Dit is wat weinig voor je grote feest dus je modelleert even het probleem als volgt:"
   ]
  },
  {
   "cell_type": "code",
   "execution_count": 4,
   "id": "040e43e7",
   "metadata": {},
   "outputs": [],
   "source": [
    "def gasten_uitnodigen(gast, aantal_keer_doorsturen):\n",
    "    gast.bevestig_aankomst()\n",
    "    if aantal_keer_doorsturen > 0:\n",
    "        vrienden = gast.vindt_vrienden()\n",
    "        gasten_uitnodigen(vrienden[0],aantal_keer_doorsturen-1)\n",
    "        gasten_uitnodigen(vrienden[1],aantal_keer_doorsturen-1)\n",
    "    "
   ]
  },
  {
   "cell_type": "markdown",
   "id": "23841277",
   "metadata": {},
   "source": [
    "Omdat je niet wil dat je uitnodiging internationaal geseind worden als spam en je zelf wel een beetje wil controleren hoeveel mensen er komen, geef je een maximaal aantal keer mee dat de mail mag worden doorgestuurd. We zullen de complexiteit van het problemen nu zetten in functie van het aantal keer dat de mail wordt doorgestuurd. Dus $n=$ aantal_keer_doorsturen.\n",
    "\n",
    "Veronderstellen we dat $k$ mensen zijn uitgenodigd, dan zullen deze elke 2 personen of dus $2*k$ mensen uitnodigen. Deze zullen dan op hun beurt $2*2*k$ mensen uitnodigen. We zien dus dat het aantal nieuwe uitgenodigden zal groeien met $O(2^n)$.\n",
    "\n",
    "Om dit even in perspectief te zetten: als we na die 6 bevestigingen een mail sturen naar die 4 mensen die we niet kenden dat ook zij jouw mail mogen sturen (dus 2 mensen uitnodigen die 2 mensen mogen uitnodigen), dan zullen er $4*2 + 4*2*2=24$ gasten extra komen. Als we minstens 50 gasten willen (nu zijn er $6+24 = 30$) en we herhalen dit nog eens voor de 16 laatste personen, dan hebben we plots een feest gegeven voor $30+ 16*2+ 16*2*2 = 32+64 = 30 +96 = 126$ gasten. Dit is een beetje boven de capaciteit van de garage..."
   ]
  },
  {
   "cell_type": "markdown",
   "id": "d7332dc7",
   "metadata": {},
   "source": [
    "### $O(log(n))$"
   ]
  },
  {
   "cell_type": "markdown",
   "id": "7e978780",
   "metadata": {},
   "source": [
    "Nadat je je fout realiseert en een nieuwe locatie wil zoeken, valt je oog op de naam van een gast waarvan je weet dat deze een grote loods heeft. In een poging om je feest te redden wil je deze contacteren. Je neemt er een telefoonboek bij en probeert zijn nummer te achterhalen. \n",
    "\n",
    "Als computerkenner heb je nog gehoord dat er zoekalgoritmes zijn die snel werken en bedenk je volgend stappenplan: 1) sla het telefoonboek open in het midden. Als zijn naam alfabetisch na de middelste naam komt, ga je naar de middelste bladzijde van de rechterhelft, anders ga je naar de middelste bladzijde van de linkerhelft. Doe zo verder tot je de naam hebt gevonden.\n",
    "\n",
    "Hieronder zien we de code voor dit binair zoek algoritme:"
   ]
  },
  {
   "cell_type": "code",
   "execution_count": 6,
   "id": "0ba3219d",
   "metadata": {},
   "outputs": [],
   "source": [
    "def binair_zoeken(naam,telefoonboek,eerste_mogelijke_pagina,laatste_mogelijke_pagina):\n",
    "    if laatste_mogelijke_pagina - eerste_mogelijke_pagina == 0:\n",
    "        return eerste_mogelijke_pagina\n",
    "    middelste_pagina = (laatste_mogelijke_pagina - eerste_mogelijke_pagina)//2\n",
    "    if telefoonboek[middelste_pagina].eerste_woord_is_alfabetisch_voor(naam):\n",
    "        return binair_zoeken(naam,telefoonboek,middelste_pagina,laatste_mogelijke_pagina)\n",
    "    else:\n",
    "        return binair_zoeken(naam,telefoonboek,eerste_mogelijke_pagina,middelste_pagina)"
   ]
  },
  {
   "cell_type": "markdown",
   "id": "4a0d7fe6",
   "metadata": {},
   "source": [
    "Laat ons nu even kijken hoelang het zal duren voor we de naam gevonden hebben (let op dat we enkel stoppen als we nog maar 1 pagina moeten doorzoeken, we houden er geen rekening mee dat we toevallig de naam als eerste woord tegenkomen):\n",
    "\n",
    "Stellen we $n$ gelijk aan de grootte van het telefoonboek dus zal $n$ strikt groter zijn dan 1, dan zien we dat we elke stap 1 vergelijking maken, 1 berekening, nog 1 vergelijking en dit probleem oplossen voor een boek van grootte $n/2$.\n",
    "\n",
    "We zullen dit even iets wiskundiger moeten schrijven: stel $comp(n) = a + b + a +comp(n/2)$ met $comp(n)$ de complexiteit van het algoritme op een boek met grootte $n$, $a$ de tijd om een vergelijking te doen en $b$ de tijd om een berekening te maken.\n",
    "\n",
    "Elke stap hebben we dus $2*a+b$ werk tijdens die stap en we delen telkens $n$ door 2. Stel nu dat na $y$ keer het probleem op te delen, de complexiteit constant wordt: $comp(n/2^y) = c$. Dit zal gebeuren wanneer $n/2^y=1$. Dus zoeken we wanneer $2^k=n$ of $y=log_2(n)$. Aangezien we in comuters altijd in 2-tallen (0 en 1) rekenen, schrijven we dit gewoon als $y=log(n)$.\n",
    "\n",
    "Keren we nu terug naar de complexiteit, aangezien we $y$ iteratiedan voeren we $y*(2*a+b)$ werk uit of dus $comp(n) = log(n) * (2*a+b)$. Aangezien a en b constanten zijn, kunnen we de complexiteit in $O()$-notatie schrijven als $O(log(n))$"
   ]
  },
  {
   "cell_type": "markdown",
   "id": "d79b2f34",
   "metadata": {},
   "source": [
    "### Het eigenlijke feest\n",
    "\n",
    "Na deze notebook hebben jullie de tools om de complexiteitsoefeningen van deze sessie op te lossen."
   ]
  }
 ],
 "metadata": {
  "kernelspec": {
   "display_name": "Python 3 (ipykernel)",
   "language": "python",
   "name": "python3"
  },
  "language_info": {
   "codemirror_mode": {
    "name": "ipython",
    "version": 3
   },
   "file_extension": ".py",
   "mimetype": "text/x-python",
   "name": "python",
   "nbconvert_exporter": "python",
   "pygments_lexer": "ipython3",
   "version": "3.9.12"
  }
 },
 "nbformat": 4,
 "nbformat_minor": 5
}
