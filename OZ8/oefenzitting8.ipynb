{
 "cells": [
  {
   "cell_type": "markdown",
   "metadata": {},
   "source": [
    "# Oefenzitting 8"
   ]
  },
  {
   "cell_type": "markdown",
   "metadata": {},
   "source": [
    "## 1. Interpreteren van code"
   ]
  },
  {
   "cell_type": "markdown",
   "metadata": {},
   "source": [
    "### Oefening 1.1"
   ]
  },
  {
   "cell_type": "code",
   "execution_count": null,
   "metadata": {},
   "outputs": [],
   "source": [
    "from random import *\n",
    "\n",
    "# complexiteit: kwadratische orde\n",
    "def f(lengte):\n",
    "    s = [0] * lengte\n",
    "    for i in range(0, len(s)):\n",
    "        m = randint(0, lengte)\n",
    "        j = i\n",
    "        p = j\n",
    "        while j > 0:\n",
    "            if m < s[j - 1]:\n",
    "                s[j] = s[j - 1]\n",
    "                p = j - 1\n",
    "            j -= 1\n",
    "        s[p] = m\n",
    "    print(s)\n",
    "\n",
    "# complexiteit: C(f) = C(for) + C(sorted)\n",
    "# O(n) + O(n log n) = O(n log n)\n",
    "def f_beter(lengte):\n",
    "    s = []\n",
    "    for i in range(0, lengte):\n",
    "        randomGetal = randint(0, lengte)\n",
    "        s.append(randomGetal)\n",
    "    return sorted(s)\n",
    "\n",
    "\n",
    "def main():\n",
    "    invoer = int(input(\"Invoer? \"))\n",
    "    print(f_beter(invoer))\n",
    "\n",
    "main()"
   ]
  },
  {
   "cell_type": "code",
   "execution_count": 68,
   "metadata": {},
   "outputs": [
    {
     "name": "stdout",
     "output_type": "stream",
     "text": [
      "r =                     [1, 6, 12, 18, 24, 30, 36, 42] :      42.00\n",
      "r =                     [42, 36, 30, 24, 18, 12, 6, 1] :      42.00\n",
      "r =                  [1, -12, 24, 42, -36, 30, -18, 6] :      42.00\n"
     ]
    }
   ],
   "source": [
    "# O(n^2)\n",
    "def gorec(r, s, mm):\n",
    "    if s > len(r):\n",
    "        return mm\n",
    "    for t in range(len(r)):\n",
    "        drs = 0\n",
    "        n = 0\n",
    "        for x in range(t, len(r), s):\n",
    "            if r[x] > 0:\n",
    "                drs += r[x]\n",
    "                n += 1\n",
    "        if n > 0:\n",
    "            m = drs / n\n",
    "            if m > mm:\n",
    "                mm = m\n",
    "    return gorec(r, s + 1, mm)\n",
    "\n",
    "# O(n)\n",
    "def gorec_beter(r,s,mm):\n",
    "    maximum = max(r)\n",
    "    if maximum > mm:\n",
    "        return maximum\n",
    "    elif s > len(r):\n",
    "        return 0\n",
    "    else:\n",
    "        return mm\n",
    "\n",
    "def main():\n",
    "    r1 = [1, 6, 12, 18, 24, 30, 36, 42]\n",
    "    print(\"r = %50s : %10.2f\" % (r1, gorec(r1, 1, 0)))\n",
    "\n",
    "    r2 = [42, 36, 30, 24, 18, 12, 6, 1]\n",
    "    print(\"r = %50s : %10.2f\" % (r2, gorec(r2, 1, 0)))\n",
    "\n",
    "    r3 = [1, -12, 24, 42, -36, 30, -18, 6]\n",
    "    print(\"r = %50s : %10.2f\" % (r3, gorec(r3, 1, 0)))\n",
    "\n",
    "if __name__ == \"__main__\":\n",
    "    main()"
   ]
  },
  {
   "cell_type": "markdown",
   "metadata": {},
   "source": [
    "## 2. Probleemoplossend denken"
   ]
  },
  {
   "cell_type": "markdown",
   "metadata": {},
   "source": [
    "### Oefening 2.1"
   ]
  },
  {
   "cell_type": "markdown",
   "metadata": {},
   "source": [
    "Het slicen met `lijst[:midden]` zorgt voor lineaire orde. We kunnen de orde dus niet reduceren naar een $log(n)$. Daarom proberen we de slice operator weg te werken."
   ]
  }
 ],
 "metadata": {
  "kernelspec": {
   "display_name": "base",
   "language": "python",
   "name": "python3"
  },
  "language_info": {
   "codemirror_mode": {
    "name": "ipython",
    "version": 3
   },
   "file_extension": ".py",
   "mimetype": "text/x-python",
   "name": "python",
   "nbconvert_exporter": "python",
   "pygments_lexer": "ipython3",
   "version": "3.11.4"
  }
 },
 "nbformat": 4,
 "nbformat_minor": 2
}
