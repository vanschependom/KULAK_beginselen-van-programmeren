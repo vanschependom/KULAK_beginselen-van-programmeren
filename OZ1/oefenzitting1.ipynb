{
 "cells": [
  {
   "cell_type": "markdown",
   "metadata": {},
   "source": [
    "# Oefenzitting 1"
   ]
  },
  {
   "cell_type": "markdown",
   "metadata": {},
   "source": [
    "### Inleiding"
   ]
  },
  {
   "cell_type": "code",
   "execution_count": 1,
   "metadata": {},
   "outputs": [
    {
     "name": "stdout",
     "output_type": "stream",
     "text": [
      "5\n"
     ]
    }
   ],
   "source": [
    "mysterie = 1\n",
    "mysterie = mysterie + 1\n",
    "mysterie = 1 + 2 * mysterie\n",
    "print ( mysterie )"
   ]
  },
  {
   "cell_type": "code",
   "execution_count": 1,
   "metadata": {},
   "outputs": [
    {
     "name": "stdout",
     "output_type": "stream",
     "text": [
      "1 1 2\n"
     ]
    }
   ],
   "source": [
    "n = 1\n",
    "k = 2\n",
    "r = k\n",
    "if r < k:\n",
    "    n = r\n",
    "else :\n",
    "    k = n\n",
    "print(n,k,r)"
   ]
  },
  {
   "cell_type": "code",
   "execution_count": 6,
   "metadata": {},
   "outputs": [
    {
     "name": "stdout",
     "output_type": "stream",
     "text": [
      "4\n",
      "6\n",
      "0\n",
      "10\n"
     ]
    }
   ],
   "source": [
    "n = 124\n",
    "k = 30\n",
    "l = 12\n",
    "\n",
    "print( n // k)\n",
    "print(k % l)\n",
    "print(l // n)\n",
    "print(n // l)"
   ]
  },
  {
   "cell_type": "markdown",
   "metadata": {},
   "source": [
    "### Oefening 2.1"
   ]
  },
  {
   "cell_type": "markdown",
   "metadata": {},
   "source": [
    "Eerste implementatie"
   ]
  },
  {
   "cell_type": "code",
   "execution_count": 3,
   "metadata": {},
   "outputs": [
    {
     "name": "stdout",
     "output_type": "stream",
     "text": [
      "De afspraken overlappen.\n"
     ]
    }
   ],
   "source": [
    "startTijdstip1 = float(input(\"Geef het starttijdstip van afspraak 1.\"))\n",
    "duurtijd1 = float(input(\"Hoe lang duurt de afspraak?\"))\n",
    "\n",
    "startTijdstip2 = float(input(\"Geef het starttijdstip van afspraak 1.\"))\n",
    "duurtijd2 = float(input(\"Hoe lang duurt de afspraak?\"))\n",
    "\n",
    "if (startTijdstip1 + duurtijd1 < startTijdstip2) and (startTijdstip2 + duurtijd2 < startTijdstip2):\n",
    "\n",
    "    print(\"De afspraken overlappen niet.\")\n",
    "\n",
    "else:\n",
    "\n",
    "    print(\"De afspraken overlappen.\")"
   ]
  },
  {
   "cell_type": "markdown",
   "metadata": {},
   "source": [
    "Tweede implementatie"
   ]
  },
  {
   "cell_type": "code",
   "execution_count": 7,
   "metadata": {},
   "outputs": [
    {
     "name": "stdout",
     "output_type": "stream",
     "text": [
      "De afspraken overlappen.\n"
     ]
    }
   ],
   "source": [
    "startHour1 = int(input('Wat is het startuur van afspraak 1?'))\n",
    "startMinutes1 = int(input(f'Geef de minuten na {startHour1}:'))\n",
    "totalStartMinutes1 = startHour1 * 60 + startMinutes1\n",
    "\n",
    "durationHour1 = int(input('Hoeveel uur duurt afspraak 1?'))\n",
    "durationMinutes1 = int(input(\"En hoeveel extra minuten?\"))\n",
    "totalDurationMinutes1 = durationHour1 + durationMinutes1\n",
    "\n",
    "\n",
    "startHour2 = int(input('Wat is het startuur van afspraak 2?'))\n",
    "startMinutes2 = int(input(f'Geef de minuten na {startHour2}:'))\n",
    "totalStartMinutes2 = startHour2 * 60 + startMinutes2\n",
    "\n",
    "durationHour2 = int(input('Hoeveel uur duurt afspraak 2?'))\n",
    "durationMinutes2 = int(input(\"En hoeveel extra minuten?\"))\n",
    "totalDurationMinutes2 = durationHour2 + durationMinutes2\n",
    "\n",
    "\n",
    "if (totalStartMinutes1 + totalDurationMinutes1 < totalStartMinutes2) and (totalStartMinutes2 + totalDurationMinutes2 < totalStartMinutes1):\n",
    "\n",
    "    print(\"De afspraken overlappen niet.\")\n",
    "\n",
    "else:\n",
    "\n",
    "    print(\"De afspraken overlappen.\")"
   ]
  },
  {
   "cell_type": "markdown",
   "metadata": {},
   "source": [
    "### Oefening 2.2"
   ]
  },
  {
   "cell_type": "code",
   "execution_count": 10,
   "metadata": {},
   "outputs": [
    {
     "name": "stdout",
     "output_type": "stream",
     "text": [
      "Toestel is aan het starten...\n"
     ]
    }
   ],
   "source": [
    "# Verbruik van de vaatwas in kWh per wasbeurt\n",
    "VERBRUIK_VAATWAS = 0.75\n",
    "\n",
    "# We vragen input aan de gebruiker in kWh\n",
    "productieZonnepanelen = float(input(\"Wat is de huidige productie van de zonnepanelen?\"))\n",
    "verbruikRest = float(input(\"Wat is het huidig verbruik van de rest van het huis?\"))\n",
    "oplaadniveauThuisbatterij = float(input(\"Wat is het oplaadniveau van de thuisbatterij in decimalen?\"))\n",
    "\n",
    "\n",
    "# Mag het toestel gestart worden?\n",
    "magStarten = False\n",
    "\n",
    "\n",
    "# Batterij meer dan 90% opgeladen\n",
    "if oplaadniveauThuisbatterij > 0.9:\n",
    "    magStarten = True\n",
    "\n",
    "# Productie kan meer dan 80% van de noodzakelijke stroom leveren\n",
    "if (VERBRUIK_VAATWAS + verbruikRest) / productieZonnepanelen > 0.8:\n",
    "    magStarten = True\n",
    "\n",
    "# Batterij is meer dan 65% opgeladen en de productie kan voor 65% van de noodzakelijke stroom instaan\n",
    "if (oplaadniveauThuisbatterij > 0.65) and ((VERBRUIK_VAATWAS + verbruikRest) / productieZonnepanelen > 0.65):\n",
    "    magStarten = True\n",
    "\n",
    "\n",
    "if not magStarten:\n",
    "    userInput = input(\"Eigenlijk mag het toestel niet starten. \\n Mag het toestel alsnog effectief gestart worden? (J/N)\")\n",
    "    if userInput == 'J':\n",
    "        magStarten = True\n",
    "\n",
    "\n",
    "if magStarten:\n",
    "    print(\"Toestel is aan het starten...\")"
   ]
  },
  {
   "cell_type": "markdown",
   "metadata": {},
   "source": [
    "### Oefening 2.3"
   ]
  },
  {
   "cell_type": "code",
   "execution_count": 16,
   "metadata": {},
   "outputs": [
    {
     "name": "stdout",
     "output_type": "stream",
     "text": [
      "Dit zijn de pool-coördinaten: (11.18,1.11)\n"
     ]
    }
   ],
   "source": [
    "# Boogtangens importeren\n",
    "from math import atan, sqrt\n",
    "\n",
    "x = int(input(\"Geef de x-coördinaat:\"))\n",
    "y = int(input(\"Geef de y-coördinaat:\"))\n",
    "\n",
    "r = sqrt(x**2+y**2)\n",
    "theta = atan(y/x)\n",
    "\n",
    "rAfgerond = round(r, 2)\n",
    "thetaAfgerond = round(theta, 2)\n",
    "\n",
    "print(\"Dit zijn de pool-coördinaten: ({0},{1})\".format(rAfgerond,thetaAfgerond))"
   ]
  },
  {
   "cell_type": "markdown",
   "metadata": {},
   "source": [
    "### Oefening 2.4"
   ]
  },
  {
   "cell_type": "code",
   "execution_count": 1,
   "metadata": {},
   "outputs": [
    {
     "name": "stdout",
     "output_type": "stream",
     "text": [
      "False\n"
     ]
    }
   ],
   "source": [
    "dagenSindsLaatste = int(input('Hoeveel dagen geleden was je vorige sportsessie?'))\n",
    "duurtijdLaatste = int(input('Wat was de duurtijd van deze sportsessie in minuten?'))\n",
    "hartslagLaatste = int(input(\"Wat was je gemiddelde hartslag?\"))\n",
    "\n",
    "opnieuwSporten = False\n",
    "\n",
    "if dagenSindsLaatste >= 2 or duurtijdLaatste < 30:\n",
    "    opnieuwSporten = True\n",
    "\n",
    "if duurtijdLaatste >= 30 and hartslagLaatste > 180:\n",
    "    opnieuwSporten = False\n",
    "\n",
    "print(opnieuwSporten)"
   ]
  },
  {
   "cell_type": "markdown",
   "metadata": {},
   "source": [
    "### Oefening 3.1"
   ]
  },
  {
   "cell_type": "code",
   "execution_count": 7,
   "metadata": {},
   "outputs": [
    {
     "name": "stdout",
     "output_type": "stream",
     "text": [
      "+-+-+-+\n",
      "| | | |\n",
      "+-+-+-+\n",
      "| | | |\n",
      "+-+-+-+\n",
      "| | | |\n",
      "+-+-+-+\n"
     ]
    }
   ],
   "source": [
    "plus = \"+\"\n",
    "plusMin = \"+-\"\n",
    "streep = \"|\"\n",
    "\n",
    "def printPlusMin():\n",
    "    print(plusMin*3 + plus)\n",
    "\n",
    "def printStrepen():\n",
    "    print((streep+\" \")*3 + streep)\n",
    "\n",
    "for i in range(3):\n",
    "    printPlusMin()\n",
    "    printStrepen()\n",
    "    \n",
    "print(plusMin*3 + plus)"
   ]
  },
  {
   "cell_type": "markdown",
   "metadata": {},
   "source": [
    "### Oefening 3.2"
   ]
  },
  {
   "cell_type": "code",
   "execution_count": 8,
   "metadata": {},
   "outputs": [
    {
     "name": "stdout",
     "output_type": "stream",
     "text": [
      "Breedte: 215.89999999999998\n",
      "Hoogte: 279.4\n"
     ]
    }
   ],
   "source": [
    "# De afmetingen van standaard Amerikaans briefformaat in inches\n",
    "WIDTH = 8.5\n",
    "HEIGHT = 11\n",
    "\n",
    "# De omzettingsfactor\n",
    "CONVERSION_RATE = 25.4\n",
    "\n",
    "def convertInches(inches):\n",
    "    return inches * CONVERSION_RATE\n",
    "\n",
    "# We drukken de omgezette formaten af\n",
    "print(f\"Breedte: {convertInches(WIDTH)}\")\n",
    "print(f\"Hoogte: {convertInches(HEIGHT)}\")"
   ]
  },
  {
   "cell_type": "markdown",
   "metadata": {},
   "source": [
    "### Oefening 3.3"
   ]
  },
  {
   "cell_type": "markdown",
   "metadata": {},
   "source": [
    "Note: index eind is niet inclusive."
   ]
  },
  {
   "cell_type": "code",
   "execution_count": 11,
   "metadata": {},
   "outputs": [
    {
     "name": "stdout",
     "output_type": "stream",
     "text": [
      "vin...dom\n"
     ]
    }
   ],
   "source": [
    "userInput = input(\"Geef een lange string:\")\n",
    "\n",
    "afTeDrukken = userInput[:3] + \"...\" + userInput[len(userInput)-3:len(userInput)]\n",
    "\n",
    "print(afTeDrukken)"
   ]
  },
  {
   "cell_type": "markdown",
   "metadata": {},
   "source": [
    "### Oefening 3.4"
   ]
  },
  {
   "cell_type": "code",
   "execution_count": null,
   "metadata": {},
   "outputs": [],
   "source": [
    "userFloat = float(input(\"Geef een float in:\"))\n",
    "\n",
    "toevoeging = \"\"\n",
    "if abs(userFloat) < 1: toevoeging = \"klein \"\n",
    "elif abs(userFloat) > 1000000: toevoeging = \"groot \"\n",
    "\n",
    "if(userFloat == 0):\n",
    "    print(\"Dit getal is 0.\")\n",
    "elif(userFloat > 0):\n",
    "    print(f\"Dit is een {toevoeging}positief getal.\")\n",
    "elif(userFloat < 0):\n",
    "    print(f\"Dit is een {toevoeging}negatief getal.\")"
   ]
  },
  {
   "cell_type": "code",
   "execution_count": null,
   "metadata": {},
   "outputs": [],
   "source": []
  }
 ],
 "metadata": {
  "kernelspec": {
   "display_name": "Python 3",
   "language": "python",
   "name": "python3"
  },
  "language_info": {
   "codemirror_mode": {
    "name": "ipython",
    "version": 3
   },
   "file_extension": ".py",
   "mimetype": "text/x-python",
   "name": "python",
   "nbconvert_exporter": "python",
   "pygments_lexer": "ipython3",
   "version": "3.11.4"
  }
 },
 "nbformat": 4,
 "nbformat_minor": 2
}
