{
 "cells": [
  {
   "cell_type": "markdown",
   "metadata": {},
   "source": [
    "# Sessie 4: Programmeerstructuren"
   ]
  },
  {
   "cell_type": "code",
   "execution_count": null,
   "metadata": {},
   "outputs": [],
   "source": [
    "import numpy as np\n",
    "import sympy as sp"
   ]
  },
  {
   "cell_type": "markdown",
   "metadata": {},
   "source": [
    "### <font color=yellow>If statement</font>"
   ]
  },
  {
   "cell_type": "markdown",
   "metadata": {},
   "source": [
    "#### If"
   ]
  },
  {
   "cell_type": "markdown",
   "metadata": {},
   "source": [
    "Een voorwaardelijke opdracht wordt alleen uitgevoerd als aan een bepaalde voorwaarde is voldaan."
   ]
  },
  {
   "cell_type": "code",
   "execution_count": null,
   "metadata": {},
   "outputs": [],
   "source": [
    "getal = 5"
   ]
  },
  {
   "cell_type": "code",
   "execution_count": null,
   "metadata": {},
   "outputs": [],
   "source": [
    "if getal > 10:\n",
    "    print(\"hello\")"
   ]
  },
  {
   "cell_type": "code",
   "execution_count": null,
   "metadata": {},
   "outputs": [],
   "source": [
    "if getal < 10:\n",
    "    print(\"hello\")"
   ]
  },
  {
   "cell_type": "markdown",
   "metadata": {},
   "source": [
    "#### Else"
   ]
  },
  {
   "cell_type": "markdown",
   "metadata": {},
   "source": [
    "\"else\" kan alleen na een if statement gebruikt worden en geeft een opdracht weer die moet uitgevoerd worden wanneer er niet aan de voorwaarde van de if-statement voldaan is."
   ]
  },
  {
   "cell_type": "code",
   "execution_count": null,
   "metadata": {},
   "outputs": [],
   "source": [
    "temperatuur = -20\n",
    "if temperatuur > 100:\n",
    "    toestand = \"te warm\"\n",
    "else:\n",
    "    toestand = \"net goed\"\n",
    "print(toestand)\n"
   ]
  },
  {
   "cell_type": "markdown",
   "metadata": {},
   "source": [
    "#### Elif"
   ]
  },
  {
   "cell_type": "markdown",
   "metadata": {},
   "source": [
    "om meer dan mogelijkheden in een voorwaardelijke opdracht te implementeren, gebruik je \"elif\"."
   ]
  },
  {
   "cell_type": "code",
   "execution_count": null,
   "metadata": {},
   "outputs": [],
   "source": [
    "temperatuur = -20\n",
    "if temperatuur > 100:\n",
    "    toestand = \"te warm\"\n",
    "elif temperatuur < 0:\n",
    "    toestand = \"te koud\"\n",
    "else:\n",
    "    toestand = \"net goed\"\n",
    "print(toestand)"
   ]
  },
  {
   "cell_type": "markdown",
   "metadata": {},
   "source": [
    "### <font color=yellow>For lus</font>"
   ]
  },
  {
   "cell_type": "markdown",
   "metadata": {},
   "source": [
    "Met een for-lus kunnen we een reeks instructies herhaaldelijk uitvoeren voor elk item in een lijst, reeks of een ander iterabel object."
   ]
  },
  {
   "cell_type": "code",
   "execution_count": null,
   "metadata": {},
   "outputs": [],
   "source": [
    "lijst = []"
   ]
  },
  {
   "cell_type": "code",
   "execution_count": null,
   "metadata": {},
   "outputs": [],
   "source": [
    "for n in range(10):\n",
    "    lijst.append(n**2)\n",
    "print(lijst)"
   ]
  },
  {
   "cell_type": "markdown",
   "metadata": {},
   "source": [
    "We kunnen ook over de elementen van een lijst itereren"
   ]
  },
  {
   "cell_type": "code",
   "execution_count": null,
   "metadata": {},
   "outputs": [],
   "source": [
    "lijst2 = [2,3,5,7,11]\n",
    "lijst3 = np.zeros(5)"
   ]
  },
  {
   "cell_type": "code",
   "execution_count": null,
   "metadata": {},
   "outputs": [],
   "source": [
    "for el in lijst2:\n",
    "    print(el)"
   ]
  },
  {
   "cell_type": "markdown",
   "metadata": {},
   "source": [
    "Indien we de index, dit is een integer die bijhoudt in welke iteratie we zitten, nodig hebben, gebruiken we enumerate"
   ]
  },
  {
   "cell_type": "code",
   "execution_count": null,
   "metadata": {},
   "outputs": [],
   "source": [
    "for n, el in enumerate(lijst2):\n",
    "    lijst3[n] = lijst2[-(n + 1)]\n",
    "print(lijst3)"
   ]
  },
  {
   "cell_type": "code",
   "execution_count": null,
   "metadata": {},
   "outputs": [],
   "source": [
    "lijst4 = [0, 1]"
   ]
  },
  {
   "cell_type": "markdown",
   "metadata": {},
   "source": [
    "We kunnen ook gebruik maken van resultaten uit de vorige iteratie."
   ]
  },
  {
   "cell_type": "code",
   "execution_count": null,
   "metadata": {},
   "outputs": [],
   "source": [
    "for n in range(2, 10):\n",
    "    volgende_getal = lijst4[n-1] + lijst4[n-2]\n",
    "    lijst4 = lijst4 + [volgende_getal]\n",
    "print(lijst4)"
   ]
  },
  {
   "cell_type": "code",
   "execution_count": null,
   "metadata": {},
   "outputs": [],
   "source": [
    "[x**2 for x in range(10)]"
   ]
  },
  {
   "cell_type": "markdown",
   "metadata": {},
   "source": [
    "We zijn de for lus ook al eens tegen gekomen in de vorige les, bij het opstellen van een lijst."
   ]
  },
  {
   "cell_type": "markdown",
   "metadata": {},
   "source": [
    "### <font color=yellow>While lus</font>"
   ]
  },
  {
   "cell_type": "markdown",
   "metadata": {},
   "source": [
    "Als we het aantal iteraties op voorhand niet kennen, kunnen we een while lus gebruiken. Deze wordt uitgevoerd tot er niet meer aan een bepaalde voorwaarde voldaan is."
   ]
  },
  {
   "cell_type": "code",
   "execution_count": null,
   "metadata": {},
   "outputs": [],
   "source": [
    "lijst5 = [0,1]\n",
    "n = 1"
   ]
  },
  {
   "cell_type": "code",
   "execution_count": null,
   "metadata": {},
   "outputs": [],
   "source": [
    "while lijst5[-1] < 10:\n",
    "    n = n + 1\n",
    "    volgende_getal = lijst5[n-1] + lijst5[n-2]\n",
    "    lijst5 = lijst5 + [volgende_getal]\n",
    "print(lijst5)"
   ]
  },
  {
   "cell_type": "markdown",
   "metadata": {},
   "source": [
    "### <font color=yellow>Functies</font>"
   ]
  },
  {
   "cell_type": "code",
   "execution_count": null,
   "metadata": {},
   "outputs": [],
   "source": [
    "def priem(N):\n",
    "    aantal = 0\n",
    "    n = 0\n",
    "    while aantal < N:\n",
    "        n = n + 1\n",
    "        if sp.isprime(n):\n",
    "            aantal = aantal + 1\n",
    "    return n"
   ]
  },
  {
   "cell_type": "code",
   "execution_count": null,
   "metadata": {},
   "outputs": [],
   "source": [
    "priem(1000)"
   ]
  },
  {
   "cell_type": "code",
   "execution_count": null,
   "metadata": {},
   "outputs": [],
   "source": [
    "def priem_lijst(startwaarde, N):\n",
    "    lijst = []\n",
    "    aantal = 0\n",
    "    n = startwaarde\n",
    "    while aantal < N:\n",
    "        n = n + 1\n",
    "        if sp.isprime(n):\n",
    "            lijst.append(n)\n",
    "            aantal = aantal + 1\n",
    "    return lijst, n"
   ]
  },
  {
   "cell_type": "code",
   "execution_count": null,
   "metadata": {},
   "outputs": [],
   "source": [
    "priem_lijst(10,5)"
   ]
  },
  {
   "cell_type": "code",
   "execution_count": null,
   "metadata": {},
   "outputs": [],
   "source": [
    "priem_lijst(10,5)[0]"
   ]
  },
  {
   "cell_type": "code",
   "execution_count": null,
   "metadata": {},
   "outputs": [],
   "source": [
    "priem_lijst(10,5)[1]"
   ]
  },
  {
   "cell_type": "markdown",
   "metadata": {},
   "source": [
    "### <font color=yellow>Programmeertips</font>"
   ]
  },
  {
   "cell_type": "markdown",
   "metadata": {},
   "source": [
    "#### Commentaar"
   ]
  },
  {
   "cell_type": "code",
   "execution_count": null,
   "metadata": {},
   "outputs": [],
   "source": [
    "# Enkele lijn"
   ]
  },
  {
   "cell_type": "code",
   "execution_count": null,
   "metadata": {},
   "outputs": [],
   "source": [
    "\"\"\"Meerdere\n",
    "lijnen\"\"\""
   ]
  },
  {
   "cell_type": "code",
   "execution_count": null,
   "metadata": {},
   "outputs": [],
   "source": [
    "def functie (x,y):\n",
    "    \"\"\"\n",
    "    Omschrijf het doel van de functie\n",
    "    Parameters\n",
    "    ----------\n",
    "    x : datatype\n",
    "    Omschrijf de rol van de parameter x\n",
    "    y : datatype\n",
    "    Omschrijf de rol van de parameter y\n",
    "    Returns\n",
    "    -------\n",
    "    datatype\n",
    "    Omschrijf de betekenis van de output\n",
    "    To do\n",
    "    -----\n",
    "    Nog te implementeren , geeft voorlopig gewoon de som terug\n",
    "    Example\n",
    "    -------\n",
    "    >>> functie (1 ,2)\n",
    "    3\n",
    "    >>> functie (\"a\",\"b\")\n",
    "    'ab '\n",
    "    \"\"\"\n",
    "    out = x + y\n",
    "    return out"
   ]
  },
  {
   "cell_type": "markdown",
   "metadata": {},
   "source": [
    "#### Notebook"
   ]
  }
 ],
 "metadata": {
  "kernelspec": {
   "display_name": "base",
   "language": "python",
   "name": "python3"
  },
  "language_info": {
   "codemirror_mode": {
    "name": "ipython",
    "version": 3
   },
   "file_extension": ".py",
   "mimetype": "text/x-python",
   "name": "python",
   "nbconvert_exporter": "python",
   "pygments_lexer": "ipython3",
   "version": "3.11.4"
  }
 },
 "nbformat": 4,
 "nbformat_minor": 2
}
