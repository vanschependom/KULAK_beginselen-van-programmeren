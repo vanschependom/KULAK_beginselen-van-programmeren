{
 "cells": [
  {
   "cell_type": "markdown",
   "id": "6173fdf4",
   "metadata": {},
   "source": [
    "In deze notebook bespreken we een andere manier om programmeerproblemen in behapbare stukken te verdelen. Na het voltooien van deze sessie zou je problemen die opgelost worden met recursie moeten kunnen herkennen en ontleden."
   ]
  },
  {
   "cell_type": "markdown",
   "id": "d2e5a9e8",
   "metadata": {},
   "source": [
    "# Recursie\n",
    "\n",
    "Het introduceren van functies leidt ons tot nieuwe mogelijkheden. Tot nog toe hebben we ons programma altijd als 1 lange lijst instructies beschouwd. Functies breken die volgorde. We zagen voordien al dat je de functies eerst moet definiëren en ze pas daarna kan gebruiken. \n",
    "\n",
    "We kunnen ook **een functie gebruiken in zijn eigen definitie**. Dit kan omdat het systeem dan wel al de naam weet van de functie (\"aha, ik heb al een post-it met daarop wat ik moet doen, namelijk hetgene dat ik aan het schrijven ben\") maar nog niet noodzakelijk wat het verwacht wordt te doen in die functie.\n",
    "\n",
    "Recursie buit dit uit: net zoals in de wiskunde (bewijs met inductie), kan je sommige programeerproblemen oplossen door eerst het **kleinst mogelijke geval** (het baisgeval) op te lossen en dan te kijken wat je moet doen als het **geval exact 1 stapje moeilijker wordt** (de recursiestap)."
   ]
  },
  {
   "cell_type": "markdown",
   "id": "65c1a561",
   "metadata": {},
   "source": [
    "## Recursie op de datastructuur\n",
    "\n",
    "Een eerste type probleem waarbij recursie een oplossing brengt is problemen waarbij we een lange datastructuur doorlopen. Deze problemen kunnen vaak ook opgelost worden door met een index door de datastructuur te lopen.\n",
    "\n",
    "Het kernidee van zo'n recursie is de volgende: Het basisgeval is \"wat als ik het probleem moest oplossen voor een lege datastructuur\" of \"een datastructuur met een klein aantal elementen\". Dan nemen we het recursiegeval: \"wat als ik al een oplossing heb voor de datastructuur zonder 1 element en ik voeg dat element toe?\"\n",
    "\n",
    "We zien hieronder een voorbeeld van zo'n recursie:"
   ]
  },
  {
   "cell_type": "code",
   "execution_count": 11,
   "id": "87335195",
   "metadata": {},
   "outputs": [
    {
     "name": "stdout",
     "output_type": "stream",
     "text": [
      "8\n",
      "8\n"
     ]
    }
   ],
   "source": [
    "#print het eerste getal van een lijst dat groter is dan 5\n",
    "test_lijst = [1,2,3,5,3,8,9,1,4,12]\n",
    "index = 0\n",
    "gevonden = False\n",
    "while index<len(test_lijst) and not gevonden:\n",
    "    if test_lijst[index] > 5:\n",
    "        gevonden = True\n",
    "        print(test_lijst[index])\n",
    "    index += 1\n",
    "\n",
    "'''\n",
    "    Vind het eerste getal groter dan 5 in een gegeven lijst\n",
    "\n",
    "    Parameters\n",
    "    ----------\n",
    "    lijst : list\n",
    "        De lijst waarin we zoeken\n",
    "\n",
    "    Returns\n",
    "    -------\n",
    "    int\n",
    "        Het eerste getal groter dan 5\n",
    "\n",
    "'''\n",
    "def vinder(lijst):\n",
    "    #basistap:\n",
    "    if len(lijst) == 0:\n",
    "        return\n",
    "    if lijst[0]>5:\n",
    "        return lijst[0]\n",
    "    return vinder(lijst[1:])\n",
    "\n",
    "print(vinder(test_lijst))"
   ]
  },
  {
   "cell_type": "markdown",
   "id": "c6c7c665",
   "metadata": {},
   "source": [
    "De recursieve functie beschrijft eerst het makkelijkste geval. Wat gebeurt er als er geen enkel getal in de lijst zit? Dit basisgeval wordt expliciet behandeld.\n",
    "\n",
    "Voor de functie *vinder*, wordt bij elke recursie stapt de lijst een kleiner gemaakt, waardoor we het basisgeval als het laatste behandelen. "
   ]
  },
  {
   "cell_type": "markdown",
   "id": "09035e51",
   "metadata": {},
   "source": [
    "## Recursie op een stap in de oplossing\n",
    "\n",
    "Een ander subtype van recursie is het recursief oplossen van een probleem. Hier willen we niet zozeer de data waarop we werken verkleinen, maar eerder de oplossingsmethode stap per stap uitvoeren. Hier is het basisgeval vaak de eerste stap: \"wat is de eerste stap in het oplossen van het probleem?\" Hierna lossen we telkens een niewe stap van het probleem op: \"stel dat ik al het resultaat heb na stap x, wat moet ik doen om het resultaat in stap x+1 te berekenen\n",
    "\n",
    "Hieronder een voorbeeld van hoe we op die manier het n-de fibonacci getal berekenen."
   ]
  },
  {
   "cell_type": "code",
   "execution_count": 12,
   "id": "19ea405a",
   "metadata": {},
   "outputs": [
    {
     "name": "stdout",
     "output_type": "stream",
     "text": [
      "987\n"
     ]
    }
   ],
   "source": [
    "'''\n",
    "Genereer het fibonnacci nummer op de gevraagde plaats.\n",
    "\n",
    "Parameters\n",
    "----------\n",
    "nummer : int\n",
    "    Het hoeveelste fibonnacci nummer wordt gevraagd\n",
    "\n",
    "Returns\n",
    "-------\n",
    "int\n",
    "    Het fibonnacci nummer op de gevraagde plaats.\n",
    "\n",
    "'''\n",
    "def fibonnacci(nummer):\n",
    "    #basisstap\n",
    "    if nummer <= 1:\n",
    "        return 1\n",
    "    #recursiestap\n",
    "    return fibonnacci(nummer-1) + fibonnacci(nummer-2)\n",
    "\n",
    "print(fibonnacci(15))"
   ]
  },
  {
   "cell_type": "markdown",
   "id": "4a6b6e8d",
   "metadata": {},
   "source": [
    "# Oefening 1\n",
    "\n",
    "Vul onderstaande code aan, zodat een lijst wordt opgebouwd met gegeven lengte dat alle veelvouden van het gevraagde basisgetal geeft:\n"
   ]
  },
  {
   "cell_type": "code",
   "execution_count": 13,
   "id": "d2f364d8",
   "metadata": {},
   "outputs": [
    {
     "name": "stdout",
     "output_type": "stream",
     "text": [
      "[3, 6, 9, 12, 15, 18, 21, 24, 27, 30, 33, 36]\n"
     ]
    }
   ],
   "source": [
    "'''\n",
    "Geeft een lijst terug met gegeven lengte die alle veelvouden van het gevraagde basisgetal bevat\n",
    "\n",
    "Parameters\n",
    "----------\n",
    "lengte : int\n",
    "    De lengte van de gevraagde lijst\n",
    "basisgetal : int\n",
    "    Het basisgetal\n",
    "Returns\n",
    "-------\n",
    "list\n",
    "    Een lijst terug met alle veelvouden van het gevraagde basisgetal en met de gegeven lengte\n",
    "\n",
    "'''\n",
    "def veelvouden(lengte, basisgetal):\n",
    "    #basisgeval\n",
    "    if lengte == 1:\n",
    "        return [basisgetal]\n",
    "    \n",
    "    #Recursiestap\n",
    "    lijst = veelvouden(lengte-1,basisgetal)\n",
    "    lijst.append(lengte * basisgetal)\n",
    "    return lijst\n",
    "    \n",
    "print(veelvouden(12,3))"
   ]
  },
  {
   "cell_type": "markdown",
   "id": "8f392cd1",
   "metadata": {},
   "source": [
    "# Oefening 2\n",
    "\n",
    "Maak een recursieve functie die controleert of een gegeven *string* een palindroom is. \n",
    "\n",
    "Een palindroom, keerwoord of spiegelwoord is een woord waarin de letters symmetrisch gerangschikt zijn, zodanig dat het woord van achter naar voren gelezen hetzelfde is als van voor naar achter. *Lepel* en de datum *19-9-1991* zijn voorbeelden van palindromen."
   ]
  },
  {
   "cell_type": "code",
   "execution_count": 14,
   "id": "7e639321",
   "metadata": {},
   "outputs": [
    {
     "name": "stdout",
     "output_type": "stream",
     "text": [
      "Lepel moet True teruggeven: True\n",
      "Vork moet False teruggeven: False\n"
     ]
    }
   ],
   "source": [
    "'''\n",
    "    Bepaald of een gegeven string een palindroom is\n",
    "\n",
    "    Parameters\n",
    "    ----------\n",
    "    woord : str\n",
    "        invoer woord\n",
    "        \n",
    "    Returns\n",
    "    -------\n",
    "    Bool\n",
    "        True als het invoerwoord een palindroom is\n",
    "\n",
    "'''\n",
    "def palindroom(woord):\n",
    "    # Basisgeval\n",
    "    if len(woord) <= 1:\n",
    "        return True\n",
    "    \n",
    "    # Recursiestap\n",
    "    \n",
    "    #Als een woord een palindroom is dan geldt er al iets voor de eerste en laatste letter\n",
    "    if woord[0] != woord[-1]:\n",
    "        return False\n",
    "    \n",
    "    #We gaan verder met het binnenste van dit woord\n",
    "    woord = woord[1:-1]\n",
    "   \n",
    "    return palindroom(woord)\n",
    "    \n",
    "print(f\"Lepel moet True teruggeven: {palindroom('lepel')}\")    \n",
    "print(f\"Vork moet False teruggeven: {palindroom('vork')}\")    \n"
   ]
  }
 ],
 "metadata": {
  "kernelspec": {
   "display_name": "Python 3 (ipykernel)",
   "language": "python",
   "name": "python3"
  },
  "language_info": {
   "codemirror_mode": {
    "name": "ipython",
    "version": 3
   },
   "file_extension": ".py",
   "mimetype": "text/x-python",
   "name": "python",
   "nbconvert_exporter": "python",
   "pygments_lexer": "ipython3",
   "version": "3.11.4"
  }
 },
 "nbformat": 4,
 "nbformat_minor": 5
}
