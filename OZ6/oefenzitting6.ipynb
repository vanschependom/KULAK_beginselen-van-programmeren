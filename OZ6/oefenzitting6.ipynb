{
 "cells": [
  {
   "cell_type": "markdown",
   "metadata": {},
   "source": [
    "# Oefenzitting 6"
   ]
  },
  {
   "cell_type": "markdown",
   "metadata": {},
   "source": [
    "## 1. Interpreteren van code"
   ]
  },
  {
   "cell_type": "markdown",
   "metadata": {},
   "source": [
    "### Oefening 1.1"
   ]
  },
  {
   "cell_type": "code",
   "execution_count": 344,
   "metadata": {},
   "outputs": [
    {
     "name": "stdout",
     "output_type": "stream",
     "text": [
      "47\n"
     ]
    },
    {
     "data": {
      "text/plain": [
       "\"\\n3 9\\n12 8\\n20 7\\n27 6\\n33 5\\n38 4\\n42 3\\n45 2\\n47 1\\n48 0\\n48 -1 --> '47'\\n\""
      ]
     },
     "execution_count": 344,
     "metadata": {},
     "output_type": "execute_result"
    }
   ],
   "source": [
    "def a(b,c):\n",
    "    if(c < 0):\n",
    "        return b-1\n",
    "    return a(b+c,c-1)\n",
    "\n",
    "print(a(3,9))\n",
    "\n",
    "'''\n",
    "3 9\n",
    "12 8\n",
    "20 7\n",
    "27 6\n",
    "33 5\n",
    "38 4\n",
    "42 3\n",
    "45 2\n",
    "47 1\n",
    "48 0\n",
    "48 -1 --> '47'\n",
    "'''"
   ]
  },
  {
   "cell_type": "markdown",
   "metadata": {},
   "source": [
    "### Oefening 1.2"
   ]
  },
  {
   "cell_type": "code",
   "execution_count": 345,
   "metadata": {},
   "outputs": [
    {
     "name": "stdout",
     "output_type": "stream",
     "text": [
      "8\n",
      "16\n"
     ]
    },
    {
     "data": {
      "text/plain": [
       "\"\\n8 12 16 --> '16'\\n\""
      ]
     },
     "execution_count": 345,
     "metadata": {},
     "output_type": "execute_result"
    }
   ],
   "source": [
    "def func(k,l,m):\n",
    "    if k < l:\n",
    "        return m\n",
    "    else :\n",
    "        return func (k-1,l,m)\n",
    "\n",
    "print(func(16,12,8))\n",
    "\n",
    "'''\n",
    "16 12 8\n",
    "15 12 8\n",
    "...\n",
    "11 12 8 --> '8'\n",
    "'''\n",
    "\n",
    "print(func(8,12,16))\n",
    "\n",
    "'''\n",
    "8 12 16 --> '16'\n",
    "'''"
   ]
  },
  {
   "cell_type": "markdown",
   "metadata": {},
   "source": [
    "## 2. Probleemoplossend denken"
   ]
  },
  {
   "cell_type": "markdown",
   "metadata": {},
   "source": [
    "### Oefening 2.1"
   ]
  },
  {
   "cell_type": "markdown",
   "metadata": {},
   "source": [
    "Schrijf een recursieve functie die het kleinste element in een niet-gesorteerde lijst zoekt."
   ]
  },
  {
   "cell_type": "code",
   "execution_count": 346,
   "metadata": {},
   "outputs": [
    {
     "name": "stdout",
     "output_type": "stream",
     "text": [
      "-20\n"
     ]
    }
   ],
   "source": [
    "lijst = [5,3,7,9,-20,24,3,1,27,90]\n",
    "\n",
    "def kleinsteElement(lijst):\n",
    "    \n",
    "    # basisgeval\n",
    "    if len(lijst) == 1:\n",
    "        return lijst[0]\n",
    "    \n",
    "    # recursiestap\n",
    "    if lijst[0] < lijst[-1]:\n",
    "        return kleinsteElement(lijst[:len(lijst)-1])\n",
    "    else:\n",
    "        return kleinsteElement(lijst[2:])\n",
    "    \n",
    "print(kleinsteElement(lijst))"
   ]
  },
  {
   "cell_type": "markdown",
   "metadata": {},
   "source": [
    "### Oefening 2.2"
   ]
  },
  {
   "cell_type": "markdown",
   "metadata": {},
   "source": [
    "Schrijf een functie die recursief de driehoek van Pascal bepaalt voor een gegeven hoogte h."
   ]
  },
  {
   "cell_type": "code",
   "execution_count": 347,
   "metadata": {},
   "outputs": [
    {
     "name": "stdout",
     "output_type": "stream",
     "text": [
      "[[1], [1, 1], [1, 2, 1], [1, 3, 3, 1], [1, 4, 6, 4, 1], [1, 5, 10, 10, 5, 1]]\n",
      "\n",
      "1 \n",
      "1 1 \n",
      "1 2 1 \n",
      "1 3 3 1 \n",
      "1 4 6 4 1 \n",
      "1 5 10 10 5 1 "
     ]
    }
   ],
   "source": [
    "driehoek = []\n",
    "\n",
    "def driehoek(hoogte):\n",
    "\n",
    "    if hoogte == 1:\n",
    "        return [[1]]\n",
    "    \n",
    "    else:\n",
    "\n",
    "        vorigeDriehoek = driehoek(hoogte-1)\n",
    "\n",
    "        huidigeRij = [1]\n",
    "        vorigeRij = vorigeDriehoek[-1]\n",
    "\n",
    "        for i in range(1,len(vorigeRij)):\n",
    "            huidigeRij.append(vorigeRij[i] + vorigeRij[i-1])\n",
    "\n",
    "        huidigeRij.append(1)\n",
    "\n",
    "        vorigeDriehoek.append(huidigeRij)\n",
    "\n",
    "        return vorigeDriehoek\n",
    "\n",
    "print(driehoek(6))\n",
    "\n",
    "for rij in driehoek(7):\n",
    "    print()\n",
    "    for getal in rij:\n",
    "        print(getal, end=' ')"
   ]
  },
  {
   "cell_type": "markdown",
   "metadata": {},
   "source": [
    "### Oefening 2.3"
   ]
  },
  {
   "cell_type": "markdown",
   "metadata": {},
   "source": [
    "Schrijf een recursief binair zoekalgoritme. Dit is een algoritme dat nagaat of een gegeven getal voorkomt in een gesorteerde lijst getallen."
   ]
  },
  {
   "cell_type": "code",
   "execution_count": 348,
   "metadata": {},
   "outputs": [
    {
     "name": "stdout",
     "output_type": "stream",
     "text": [
      "Het midden is 14\n",
      "We doorzoeken de linkse tak [1, 5, 9, 10]\n",
      "Het midden is 9\n",
      "We doorzoeken de linkse tak [1, 5]\n",
      "Het midden is 5\n",
      "We doorzoeken de linkse tak [1]\n",
      "Het midden is 1\n",
      "True\n"
     ]
    }
   ],
   "source": [
    "lijst = [1,5,9,10,14,17,18,20,21]\n",
    "\n",
    "\n",
    "def searchBinary(lijst,waarde):\n",
    "\n",
    "    midden = len(lijst) // 2\n",
    "    print(f\"Het midden is {lijst[midden]}\")\n",
    "\n",
    "    if lijst[midden] == waarde:\n",
    "\n",
    "        return True\n",
    "        \n",
    "    # linkse tak\n",
    "    elif lijst[midden] > waarde and len(lijst)>1:\n",
    "\n",
    "        nieuweLijst = lijst[:midden]\n",
    "        print(f\"We doorzoeken de linkse tak {nieuweLijst}\")\n",
    "        return searchBinary(nieuweLijst,waarde)\n",
    "    \n",
    "    # rechtse tak\n",
    "    elif lijst[midden] < waarde and len(lijst)>1:\n",
    "        \n",
    "        nieuweLijst = lijst[midden+1:]\n",
    "        print(f\"We doorzoeken de rechtse tak {nieuweLijst}\")\n",
    "        return searchBinary(nieuweLijst,waarde)\n",
    "    \n",
    "    else: return False\n",
    "\n",
    "    \n",
    "print(searchBinary(lijst,1))"
   ]
  },
  {
   "cell_type": "markdown",
   "metadata": {},
   "source": [
    "### Oefening 2.4"
   ]
  },
  {
   "cell_type": "markdown",
   "metadata": {},
   "source": [
    "Mergesort."
   ]
  },
  {
   "cell_type": "code",
   "execution_count": 349,
   "metadata": {},
   "outputs": [
    {
     "data": {
      "text/plain": [
       "[1, 3, 4, 8, 10]"
      ]
     },
     "execution_count": 349,
     "metadata": {},
     "output_type": "execute_result"
    }
   ],
   "source": [
    "lijst = [3,10,4,8,1]\n",
    "\n",
    "def mergesort(lijst):\n",
    "\n",
    "    # print(lijst)\n",
    "\n",
    "    # triviaal geval\n",
    "    if len(lijst) == 1:\n",
    "        return lijst\n",
    "\n",
    "    # recursiestap\n",
    "    else:\n",
    "\n",
    "        midden = len(lijst) // 2\n",
    "\n",
    "        # splits in twee helften\n",
    "        linkerhelft = lijst[:midden]\n",
    "        rechterhelft = lijst[midden:]\n",
    "\n",
    "        # sorteer beide delen recursief\n",
    "        linksGesorteerd = mergesort(linkerhelft)\n",
    "        rechtsGesorteerd = mergesort(rechterhelft)\n",
    "\n",
    "        # maak een nieuwe lijst\n",
    "        gesorteerd = []\n",
    "\n",
    "        # zolang beide (gesorteerde!) lijsten niet leeg zijn\n",
    "        while len(linksGesorteerd) > 0 and len(rechtsGesorteerd) > 0:\n",
    "\n",
    "            # print(linksGesorteerd, rechtsGesorteerd)\n",
    "\n",
    "            # voeg het kleinste element toe aan de nieuwe lijst\n",
    "            if linksGesorteerd[0] < rechtsGesorteerd[0]:\n",
    "                gesorteerd.append(linksGesorteerd[0])\n",
    "                linksGesorteerd.pop(0)\n",
    "                # of korter: gesorteerd.append(linksGesorteerd.pop(0))\n",
    "            else:\n",
    "                gesorteerd.append(rechtsGesorteerd[0])\n",
    "                rechtsGesorteerd.pop(0)\n",
    "                # of korter: gesorteerd.append(rechtsGesorteerd.pop(0))\n",
    "\n",
    "        gesorteerd += linksGesorteerd\n",
    "        gesorteerd += rechtsGesorteerd\n",
    "        return gesorteerd\n",
    "\n",
    "mergesort(lijst)"
   ]
  },
  {
   "cell_type": "markdown",
   "metadata": {},
   "source": [
    "## 3. UOVT"
   ]
  },
  {
   "cell_type": "markdown",
   "metadata": {},
   "source": [
    "### Oefening 3.1"
   ]
  },
  {
   "cell_type": "markdown",
   "metadata": {},
   "source": [
    "Schrijf een recursieve functie die het gemiddelde van een lijst getallen berekent."
   ]
  },
  {
   "cell_type": "code",
   "execution_count": 350,
   "metadata": {},
   "outputs": [
    {
     "data": {
      "text/plain": [
       "1429.4285714285713"
      ]
     },
     "execution_count": 350,
     "metadata": {},
     "output_type": "execute_result"
    }
   ],
   "source": [
    "getallen = [1,1,1,1,1,1,10000]\n",
    "\n",
    "def gemiddelde(lijst):\n",
    "\n",
    "    if len(lijst) == 1:\n",
    "        return lijst[0]\n",
    "    \n",
    "    return (lijst[0] + gemiddelde(lijst[1:])*(len(lijst)-1)) / len(lijst)\n",
    "\n",
    "gemiddelde(getallen)"
   ]
  },
  {
   "cell_type": "markdown",
   "metadata": {},
   "source": [
    "### Oefening 3.2"
   ]
  }
 ],
 "metadata": {
  "kernelspec": {
   "display_name": "base",
   "language": "python",
   "name": "python3"
  },
  "language_info": {
   "codemirror_mode": {
    "name": "ipython",
    "version": 3
   },
   "file_extension": ".py",
   "mimetype": "text/x-python",
   "name": "python",
   "nbconvert_exporter": "python",
   "pygments_lexer": "ipython3",
   "version": "3.11.4"
  }
 },
 "nbformat": 4,
 "nbformat_minor": 2
}
